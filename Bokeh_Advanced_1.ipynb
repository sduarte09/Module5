{
 "cells": [
  {
   "cell_type": "code",
   "execution_count": 24,
   "metadata": {},
   "outputs": [],
   "source": [
    "import os\n",
    "import json\n",
    "import geopandas as gpd\n",
    "from bokeh.io import show\n",
    "from bokeh.models import (CDSView, ColorBar, ColumnDataSource,\n",
    "                          CustomJS, CustomJSFilter, \n",
    "                          GeoJSONDataSource, HoverTool,\n",
    "                          LinearColorMapper, Slider)\n",
    "from bokeh.layouts import column, row, widgetbox\n",
    "from bokeh.palettes import brewer\n",
    "from bokeh.plotting import figure\n",
    "\n"
   ]
  },
  {
   "cell_type": "code",
   "execution_count": 25,
   "metadata": {},
   "outputs": [
    {
     "data": {
      "text/html": [
       "<div>\n",
       "<style scoped>\n",
       "    .dataframe tbody tr th:only-of-type {\n",
       "        vertical-align: middle;\n",
       "    }\n",
       "\n",
       "    .dataframe tbody tr th {\n",
       "        vertical-align: top;\n",
       "    }\n",
       "\n",
       "    .dataframe thead th {\n",
       "        text-align: right;\n",
       "    }\n",
       "</style>\n",
       "<table border=\"1\" class=\"dataframe\">\n",
       "  <thead>\n",
       "    <tr style=\"text-align: right;\">\n",
       "      <th></th>\n",
       "      <th>grid_code</th>\n",
       "      <th>geometry</th>\n",
       "    </tr>\n",
       "  </thead>\n",
       "  <tbody>\n",
       "    <tr>\n",
       "      <th>0</th>\n",
       "      <td>1000001</td>\n",
       "      <td>POLYGON ((-75.48217 2.13595, -75.48298 2.13850...</td>\n",
       "    </tr>\n",
       "    <tr>\n",
       "      <th>1</th>\n",
       "      <td>1000002</td>\n",
       "      <td>POLYGON ((-75.42879 2.45288, -75.42918 2.45333...</td>\n",
       "    </tr>\n",
       "    <tr>\n",
       "      <th>2</th>\n",
       "      <td>1000005</td>\n",
       "      <td>POLYGON ((-74.20541 4.27000, -74.20669 4.27040...</td>\n",
       "    </tr>\n",
       "    <tr>\n",
       "      <th>3</th>\n",
       "      <td>1000006</td>\n",
       "      <td>POLYGON ((-75.21053 5.35140, -75.21742 5.35190...</td>\n",
       "    </tr>\n",
       "    <tr>\n",
       "      <th>4</th>\n",
       "      <td>1000007</td>\n",
       "      <td>POLYGON ((-75.41981 5.97499, -75.42215 5.97540...</td>\n",
       "    </tr>\n",
       "  </tbody>\n",
       "</table>\n",
       "</div>"
      ],
      "text/plain": [
       "   grid_code                                           geometry\n",
       "0    1000001  POLYGON ((-75.48217 2.13595, -75.48298 2.13850...\n",
       "1    1000002  POLYGON ((-75.42879 2.45288, -75.42918 2.45333...\n",
       "2    1000005  POLYGON ((-74.20541 4.27000, -74.20669 4.27040...\n",
       "3    1000006  POLYGON ((-75.21053 5.35140, -75.21742 5.35190...\n",
       "4    1000007  POLYGON ((-75.41981 5.97499, -75.42215 5.97540..."
      ]
     },
     "execution_count": 25,
     "metadata": {},
     "output_type": "execute_result"
    }
   ],
   "source": [
    "# File paths\n",
    "folder='G:\\\\My Drive\\\\PhD\\Research\\\\ERA 5 Error Magdalena\\\\Preliminar Visualization\\\\'\n",
    "# Read in shapefile and examine data\n",
    "contiguous_usa = gpd.read_file(grid_fp)\n",
    "contiguous_usa.head()\n",
    "# pop_states = contiguous_usa.merge(state_pop, left_on = ‘NAME’, right_on = ‘NAME’)"
   ]
  },
  {
   "cell_type": "code",
   "execution_count": 26,
   "metadata": {},
   "outputs": [],
   "source": [
    "# Input GeoJSON source that contains features for plotting\n",
    "geosource = GeoJSONDataSource(geojson = contiguous_usa.to_json())\n",
    "# Create figure object.\n",
    "p = figure(title = 'MAGDALENA RIVER BASIN', \n",
    "           plot_height = 700 ,\n",
    "           plot_width = 350, \n",
    "           toolbar_location = 'below',\n",
    "           tools = \"pan, wheel_zoom, box_zoom, reset\")\n",
    "p.xgrid.grid_line_color = None\n",
    "p.ygrid.grid_line_color = None\n"
   ]
  },
  {
   "cell_type": "code",
   "execution_count": 27,
   "metadata": {},
   "outputs": [],
   "source": [
    "# Define color palettes\n",
    "palette = brewer['BuGn'][8]\n",
    "palette = palette[::-1] # reverse order of colors so higher values have darker colors\n",
    "\n",
    "# Instantiate LinearColorMapper that linearly maps numbers in a range, into a sequence of colors.\n",
    "color_mapper = LinearColorMapper(palette = palette, low = contiguous_usa[\"grid_code\"].min(), high = contiguous_usa[\"grid_code\"].max())\n",
    "\n",
    "# Create color bar.\n",
    "color_bar = ColorBar(color_mapper = color_mapper, \n",
    "                     label_standoff = 8,\n",
    "                     width = 500, height = 20,\n",
    "                     border_line_color = None,\n",
    "                     location = (0,0), \n",
    "                     orientation = \"horizontal\")\n"
   ]
  },
  {
   "cell_type": "code",
   "execution_count": 28,
   "metadata": {},
   "outputs": [],
   "source": [
    "# Add patch renderer to figure.\n",
    "states = p.patches('xs','ys', source = geosource,\n",
    "                   fill_color = {\"field\":'grid_code',\n",
    "                                 \"transform\" : color_mapper},\n",
    "                   line_color = \"gray\", \n",
    "                   line_width = 0.25, \n",
    "                   fill_alpha = 1)\n",
    "\n",
    "# Create hover tool\n",
    "p.add_tools(HoverTool(renderers = [states],\n",
    "                      tooltips = [('Grid Code','@grid_code')]))"
   ]
  },
  {
   "cell_type": "code",
   "execution_count": 30,
   "metadata": {},
   "outputs": [],
   "source": [
    "# Specify layout\n",
    "p.add_layout(color_bar, \"below\")\n",
    "show(p)"
   ]
  }
 ],
 "metadata": {
  "interpreter": {
   "hash": "23f099b3e1e471a90f4512b0cd1d998dc7a1d88c7791f9fbff6d32bacabbefb0"
  },
  "kernelspec": {
   "display_name": "Python 3.8.8 ('base')",
   "language": "python",
   "name": "python3"
  },
  "language_info": {
   "codemirror_mode": {
    "name": "ipython",
    "version": 3
   },
   "file_extension": ".py",
   "mimetype": "text/x-python",
   "name": "python",
   "nbconvert_exporter": "python",
   "pygments_lexer": "ipython3",
   "version": "3.8.8"
  },
  "orig_nbformat": 4
 },
 "nbformat": 4,
 "nbformat_minor": 2
}
