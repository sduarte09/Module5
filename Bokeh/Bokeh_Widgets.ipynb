{
 "cells": [
  {
   "cell_type": "markdown",
   "metadata": {},
   "source": [
    "# Columns"
   ]
  },
  {
   "cell_type": "code",
   "execution_count": 16,
   "metadata": {},
   "outputs": [],
   "source": [
    "from bokeh.io import output_file, show\n",
    "from bokeh.layouts import column\n",
    "from bokeh.plotting import figure\n",
    "output_file(\"layout.html\")\n",
    "x = list(range(11))\n",
    "y0 = x\n",
    "y1 = [10 - i for i in x]\n",
    "y2 = [abs(i - 5) for i in x]\n",
    "# create a new plot\n",
    "s1 = figure(plot_width=250, plot_height=250, title=None)\n",
    "s1.circle(x, y0, size=10, color=\"navy\", alpha=0.5)\n",
    "# create another one\n",
    "s2 = figure(plot_width=250, plot_height=250, title=None)\n",
    "s2.triangle(x, y1, size=10, color=\"firebrick\", alpha=0.5)\n",
    "# create and another\n",
    "s3 = figure(plot_width=250, plot_height=250, title=None)\n",
    "s3.square(x, y2, size=10, color=\"olive\", alpha=0.5)\n",
    "# put the results in a column and show\n",
    "show(column(s1, s2, s3))"
   ]
  },
  {
   "cell_type": "markdown",
   "metadata": {},
   "source": [
    "# Rows"
   ]
  },
  {
   "cell_type": "code",
   "execution_count": 17,
   "metadata": {},
   "outputs": [],
   "source": [
    "from bokeh.io import output_file, show\n",
    "from bokeh.layouts import row\n",
    "from bokeh.plotting import figure\n",
    "output_file(\"layout.html\")\n",
    "x = list(range(11))\n",
    "y0 = x\n",
    "y1 = [10 - i for i in x]\n",
    "y2 = [abs(i - 5) for i in x]\n",
    "# create a new plot\n",
    "s1 = figure(plot_width=250, plot_height=250, title=None)\n",
    "s1.circle(x, y0, size=10, color=\"navy\", alpha=0.5)\n",
    "# create another one\n",
    "s2 = figure(plot_width=250, plot_height=250, title=None)\n",
    "s2.triangle(x, y1, size=10, color=\"firebrick\", alpha=0.5)\n",
    "# create and another\n",
    "s3 = figure(plot_width=250, plot_height=250, title=None)\n",
    "s3.square(x, y2, size=10, color=\"olive\", alpha=0.5)\n",
    "# put the results in a row\n",
    "show(row(s1, s2, s3))"
   ]
  },
  {
   "cell_type": "markdown",
   "metadata": {},
   "source": [
    "# Widgets"
   ]
  },
  {
   "cell_type": "markdown",
   "metadata": {},
   "source": [
    "More documentation:\n",
    "https://docs.bokeh.org/en/2.4.0/docs/user_guide/interaction/widgets.html "
   ]
  },
  {
   "cell_type": "markdown",
   "metadata": {},
   "source": [
    "### Button"
   ]
  },
  {
   "cell_type": "code",
   "execution_count": 18,
   "metadata": {},
   "outputs": [],
   "source": [
    "from bokeh.io import output_file, show\n",
    "from bokeh.layouts import widgetbox\n",
    "from bokeh.models.widgets import Button\n",
    "output_file(\"button.html\")\n",
    "button = Button(label=\"Hydraulic model?\", button_type=\"success\")\n",
    "show(button)"
   ]
  },
  {
   "cell_type": "markdown",
   "metadata": {},
   "source": [
    "### Select"
   ]
  },
  {
   "cell_type": "code",
   "execution_count": 19,
   "metadata": {},
   "outputs": [],
   "source": [
    "from bokeh.io import output_file, show\n",
    "from bokeh.layouts import widgetbox\n",
    "from bokeh.models.widgets import  Select\n",
    "select = Select(title=\"Method:\", value=\"Chezy\", options=[\"Chezy\", \"Hazen-Williams\", \"Darcy-Weisbach\", \"Manning-Strickler\"])\n",
    "show(select, width=300)"
   ]
  },
  {
   "cell_type": "markdown",
   "metadata": {},
   "source": [
    "### Slider"
   ]
  },
  {
   "cell_type": "code",
   "execution_count": 20,
   "metadata": {},
   "outputs": [],
   "source": [
    "from bokeh.io import output_file, show\n",
    "from bokeh.layouts import widgetbox\n",
    "from bokeh.models.widgets import  Slider\n",
    "slider = Slider(start=1, end=100, value=1, step=.1, title=\"Return Period\")\n",
    "show(slider, height=80)"
   ]
  },
  {
   "cell_type": "markdown",
   "metadata": {},
   "source": [
    "### Radio Button Group"
   ]
  },
  {
   "cell_type": "code",
   "execution_count": 21,
   "metadata": {},
   "outputs": [],
   "source": [
    "from bokeh.io import output_file, show\n",
    "from bokeh.layouts import widgetbox\n",
    "from bokeh.models.widgets import RadioButtonGroup\n",
    "button_group = RadioButtonGroup(labels=[\"Scenario A\", \"Scenario B\", \"Scenario C\"], active=0)\n",
    "show(button_group)"
   ]
  },
  {
   "cell_type": "markdown",
   "metadata": {},
   "source": [
    "### Checkbox Group"
   ]
  },
  {
   "cell_type": "code",
   "execution_count": 22,
   "metadata": {},
   "outputs": [],
   "source": [
    "from bokeh.io import show\n",
    "from bokeh.models import CheckboxGroup, CustomJS\n",
    "\n",
    "LABELS = [\"Option 1\", \"Option 2\", \"Option 3\"]\n",
    "\n",
    "checkbox_group = CheckboxGroup(labels=LABELS, active=[0, 1])\n",
    "checkbox_group.js_on_click(CustomJS(code=\"\"\"\n",
    "    console.log('checkbox_group: active=' + this.active, this.toString())\n",
    "\"\"\"))\n",
    "\n",
    "show(checkbox_group)"
   ]
  },
  {
   "cell_type": "markdown",
   "metadata": {},
   "source": [
    "### Data Table"
   ]
  },
  {
   "cell_type": "code",
   "execution_count": 23,
   "metadata": {},
   "outputs": [],
   "source": [
    "from datetime import date\n",
    "from random import randint\n",
    "from bokeh.io import show\n",
    "from bokeh.models import ColumnDataSource, DataTable, DateFormatter, TableColumn\n",
    "\n",
    "data = dict(\n",
    "        dates=[date(2014, 3, i+1) for i in range(10)],\n",
    "        downloads=[randint(0, 100) for i in range(10)],\n",
    "    )\n",
    "source = ColumnDataSource(data)\n",
    "\n",
    "columns = [\n",
    "        TableColumn(field=\"dates\", title=\"Date\", formatter=DateFormatter()),\n",
    "        TableColumn(field=\"downloads\", title=\"Downloads\"),\n",
    "    ]\n",
    "data_table = DataTable(source=source, columns=columns, width=400, height=280)\n",
    "\n",
    "show(data_table)"
   ]
  },
  {
   "cell_type": "markdown",
   "metadata": {},
   "source": [
    "### DatePicker"
   ]
  },
  {
   "cell_type": "code",
   "execution_count": 24,
   "metadata": {},
   "outputs": [],
   "source": [
    "from bokeh.io import show\n",
    "from bokeh.models import CustomJS, DatePicker\n",
    "\n",
    "date_picker = DatePicker(title='Select date', value=\"2019-09-20\", min_date=\"2019-08-01\", max_date=\"2019-10-30\")\n",
    "date_picker.js_on_change(\"value\", CustomJS(code=\"\"\"\n",
    "    console.log('date_picker: value=' + this.value, this.toString())\n",
    "\"\"\"))\n",
    "\n",
    "show(date_picker)"
   ]
  },
  {
   "cell_type": "markdown",
   "metadata": {},
   "source": [
    "### Dropdown"
   ]
  },
  {
   "cell_type": "code",
   "execution_count": 25,
   "metadata": {},
   "outputs": [],
   "source": [
    "from bokeh.io import show\n",
    "from bokeh.models import CustomJS, Dropdown\n",
    "\n",
    "menu = [(\"Selection 1\", \"item_1\"), (\"Selection 2\", \"item_2\"), (\"Selection 3\", \"item_3\")]\n",
    "\n",
    "dropdown = Dropdown(label=\"Select an option\", button_type=\"warning\", menu=menu)\n",
    "dropdown.js_on_event(\"menu_item_click\", CustomJS(code=\"console.log('dropdown: ' + this.item, this.toString())\"))\n",
    "\n",
    "show(dropdown)"
   ]
  },
  {
   "cell_type": "markdown",
   "metadata": {},
   "source": [
    "### Spinner"
   ]
  },
  {
   "cell_type": "code",
   "execution_count": 26,
   "metadata": {},
   "outputs": [],
   "source": [
    "import numpy as np\n",
    "from bokeh.io import show\n",
    "from bokeh.layouts import column, row\n",
    "from bokeh.models import Spinner\n",
    "from bokeh.plotting import figure\n",
    "\n",
    "x = np.random.rand(100)\n",
    "y = np.random.rand(100)\n",
    "\n",
    "p = figure(x_range=(0, 1), y_range=(0, 1))\n",
    "points = p.scatter(x=x, y=y, size=4)\n",
    "\n",
    "spinner = Spinner(title=\"Glyph size\", low=1, high=40, step=0.5, value=4, width=80)\n",
    "spinner.js_link('value', points.glyph, 'size')\n",
    "\n",
    "show(row(column(spinner, width=100), p))"
   ]
  },
  {
   "cell_type": "markdown",
   "metadata": {},
   "source": [
    "### TextInput"
   ]
  },
  {
   "cell_type": "code",
   "execution_count": 27,
   "metadata": {},
   "outputs": [],
   "source": [
    "from bokeh.io import show\n",
    "from bokeh.models import CustomJS, TextInput\n",
    "\n",
    "text_input = TextInput(value=\"John Doe\", title=\"Name:\")\n",
    "text_input.js_on_change(\"value\", CustomJS(code=\"\"\"\n",
    "    console.log('text_input: value=' + this.value, this.toString())\n",
    "\"\"\"))\n",
    "\n",
    "show(text_input)"
   ]
  },
  {
   "cell_type": "markdown",
   "metadata": {},
   "source": [
    "# Multiple Widgets"
   ]
  },
  {
   "cell_type": "code",
   "execution_count": 28,
   "metadata": {},
   "outputs": [
    {
     "name": "stderr",
     "output_type": "stream",
     "text": [
      "BokehDeprecationWarning: 'WidgetBox' is deprecated and will be removed in Bokeh 3.0, use 'bokeh.models.Column' instead\n"
     ]
    }
   ],
   "source": [
    "from bokeh.io import output_file, show\n",
    "from bokeh.layouts import widgetbox\n",
    "from bokeh.models.widgets import Button, RadioButtonGroup, Select, Slider\n",
    "output_file(\"layout_widgets.html\")\n",
    "# create some widgets\n",
    "slider = Slider(start=0, end=10, value=1, step=.1, title=\"Slider\")\n",
    "button_group = RadioButtonGroup(labels=[\"Option 1\", \"Option 2\", \"Option 3\"], active=0)\n",
    "select = Select(title=\"Option:\", value=\"foo\", options=[\"foo\", \"bar\", \"baz\", \"quux\"])\n",
    "button_1 = Button(label=\"Button 1\")\n",
    "button_2 = Button(label=\"Button 2\")\n",
    "# put the results in a row\n",
    "show(widgetbox(button_1, slider, button_group, select, button_2, width=300))"
   ]
  },
  {
   "cell_type": "markdown",
   "metadata": {},
   "source": [
    "## Gridplot"
   ]
  },
  {
   "cell_type": "code",
   "execution_count": 29,
   "metadata": {},
   "outputs": [],
   "source": [
    "from bokeh.io import output_file, show\n",
    "from bokeh.layouts import gridplot\n",
    "from bokeh.palettes import Viridis3\n",
    "from bokeh.plotting import figure\n",
    "output_file(\"layout_grid.html\")\n",
    "x = list(range(11))\n",
    "y0 = x\n",
    "y1 = [10 - i for i in x]\n",
    "y2 = [abs(i - 5) for i in x]\n",
    "# create three plots\n",
    "p1 = figure(plot_width=250, plot_height=250, title=None)\n",
    "p1.circle(x, y0, size=10, color=Viridis3[0])\n",
    "p2 = figure(plot_width=250, plot_height=250, title=None)\n",
    "p2.triangle(x, y1, size=10, color=Viridis3[1])\n",
    "p3 = figure(plot_width=250, plot_height=250, title=None)\n",
    "p3.square(x, y2, size=10, color=Viridis3[2])\n",
    "# make a grid\n",
    "grid = gridplot([[p1, p2], [None, p3]])\n",
    "# show the results\n",
    "show(grid)"
   ]
  },
  {
   "cell_type": "code",
   "execution_count": 30,
   "metadata": {},
   "outputs": [
    {
     "name": "stderr",
     "output_type": "stream",
     "text": [
      "BokehDeprecationWarning: plot_width and plot_height was deprecated in Bokeh 2.4.0 and will be removed, use width or height instead.\n"
     ]
    }
   ],
   "source": [
    "from bokeh.io import output_file, show\n",
    "from bokeh.layouts import gridplot\n",
    "from bokeh.palettes import Viridis3\n",
    "from bokeh.plotting import figure\n",
    "output_file(\"layout_grid_convenient.html\")\n",
    "x = list(range(11))\n",
    "y0 = x\n",
    "y1 = [10 - i for i in x]\n",
    "y2 = [abs(i - 5) for i in x]\n",
    "# create three plots\n",
    "s1 = figure()\n",
    "s1.circle(x, y0, size=10, color=Viridis3[0])\n",
    "s2 = figure()\n",
    "s2.triangle(x, y1, size=10, color=Viridis3[1])\n",
    "s3 = figure()\n",
    "s3.square(x, y2, size=10, color=Viridis3[2])\n",
    "# make a grid\n",
    "grid = gridplot([s1, s2, s3], ncols=2, plot_width=250, plot_height=250)\n",
    "# show the results\n",
    "show(grid)"
   ]
  },
  {
   "cell_type": "code",
   "execution_count": null,
   "metadata": {},
   "outputs": [],
   "source": []
  }
 ],
 "metadata": {
  "interpreter": {
   "hash": "23f099b3e1e471a90f4512b0cd1d998dc7a1d88c7791f9fbff6d32bacabbefb0"
  },
  "kernelspec": {
   "display_name": "Python 3.8.8 ('base')",
   "language": "python",
   "name": "python3"
  },
  "language_info": {
   "codemirror_mode": {
    "name": "ipython",
    "version": 3
   },
   "file_extension": ".py",
   "mimetype": "text/x-python",
   "name": "python",
   "nbconvert_exporter": "python",
   "pygments_lexer": "ipython3",
   "version": "3.8.8"
  },
  "orig_nbformat": 4
 },
 "nbformat": 4,
 "nbformat_minor": 2
}
