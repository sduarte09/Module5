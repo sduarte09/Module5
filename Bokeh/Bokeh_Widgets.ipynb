{
 "cells": [
  {
   "cell_type": "markdown",
   "metadata": {},
   "source": [
    "# Columns"
   ]
  },
  {
   "cell_type": "code",
   "execution_count": 3,
   "metadata": {},
   "outputs": [
    {
     "data": {
      "text/html": [
       "\n",
       "\n",
       "\n",
       "\n",
       "\n",
       "\n",
       "  <div class=\"bk-root\" id=\"ae5a14b8-29a4-4541-b9c1-c95713afaf72\" data-root-id=\"1221\"></div>\n"
      ]
     },
     "metadata": {},
     "output_type": "display_data"
    },
    {
     "data": {
      "application/javascript": "(function(root) {\n  function embed_document(root) {\n    \n  const docs_json = {\"6eed1f2f-53f8-4b45-8ed0-40d63880b2c9\":{\"defs\":[],\"roots\":{\"references\":[{\"attributes\":{\"children\":[{\"id\":\"1107\"},{\"id\":\"1145\"},{\"id\":\"1183\"}]},\"id\":\"1221\",\"type\":\"Column\"},{\"attributes\":{},\"id\":\"1130\",\"type\":\"HelpTool\"},{\"attributes\":{\"axis\":{\"id\":\"1121\"},\"coordinates\":null,\"dimension\":1,\"group\":null,\"ticker\":null},\"id\":\"1124\",\"type\":\"Grid\"},{\"attributes\":{},\"id\":\"1122\",\"type\":\"BasicTicker\"},{\"attributes\":{\"fill_alpha\":{\"value\":0.1},\"fill_color\":{\"value\":\"navy\"},\"hatch_alpha\":{\"value\":0.1},\"hatch_color\":{\"value\":\"navy\"},\"line_alpha\":{\"value\":0.1},\"line_color\":{\"value\":\"navy\"},\"size\":{\"value\":10},\"x\":{\"field\":\"x\"},\"y\":{\"field\":\"y\"}},\"id\":\"1141\",\"type\":\"Circle\"},{\"attributes\":{},\"id\":\"1126\",\"type\":\"WheelZoomTool\"},{\"attributes\":{},\"id\":\"1125\",\"type\":\"PanTool\"},{\"attributes\":{\"overlay\":{\"id\":\"1131\"}},\"id\":\"1127\",\"type\":\"BoxZoomTool\"},{\"attributes\":{},\"id\":\"1128\",\"type\":\"SaveTool\"},{\"attributes\":{},\"id\":\"1129\",\"type\":\"ResetTool\"},{\"attributes\":{\"tools\":[{\"id\":\"1125\"},{\"id\":\"1126\"},{\"id\":\"1127\"},{\"id\":\"1128\"},{\"id\":\"1129\"},{\"id\":\"1130\"}]},\"id\":\"1132\",\"type\":\"Toolbar\"},{\"attributes\":{\"bottom_units\":\"screen\",\"coordinates\":null,\"fill_alpha\":0.5,\"fill_color\":\"lightgrey\",\"group\":null,\"left_units\":\"screen\",\"level\":\"overlay\",\"line_alpha\":1.0,\"line_color\":\"black\",\"line_dash\":[4,4],\"line_width\":2,\"right_units\":\"screen\",\"syncable\":false,\"top_units\":\"screen\"},\"id\":\"1131\",\"type\":\"BoxAnnotation\"},{\"attributes\":{},\"id\":\"1149\",\"type\":\"DataRange1d\"},{\"attributes\":{},\"id\":\"1151\",\"type\":\"LinearScale\"},{\"attributes\":{\"coordinates\":null,\"formatter\":{\"id\":\"1246\"},\"group\":null,\"major_label_policy\":{\"id\":\"1247\"},\"ticker\":{\"id\":\"1156\"}},\"id\":\"1155\",\"type\":\"LinearAxis\"},{\"attributes\":{},\"id\":\"1156\",\"type\":\"BasicTicker\"},{\"attributes\":{\"coordinates\":null,\"formatter\":{\"id\":\"1243\"},\"group\":null,\"major_label_policy\":{\"id\":\"1244\"},\"ticker\":{\"id\":\"1160\"}},\"id\":\"1159\",\"type\":\"LinearAxis\"},{\"attributes\":{},\"id\":\"1147\",\"type\":\"DataRange1d\"},{\"attributes\":{\"source\":{\"id\":\"1139\"}},\"id\":\"1144\",\"type\":\"CDSView\"},{\"attributes\":{\"fill_alpha\":{\"value\":0.2},\"fill_color\":{\"value\":\"navy\"},\"hatch_alpha\":{\"value\":0.2},\"hatch_color\":{\"value\":\"navy\"},\"line_alpha\":{\"value\":0.2},\"line_color\":{\"value\":\"navy\"},\"size\":{\"value\":10},\"x\":{\"field\":\"x\"},\"y\":{\"field\":\"y\"}},\"id\":\"1142\",\"type\":\"Circle\"},{\"attributes\":{\"coordinates\":null,\"data_source\":{\"id\":\"1139\"},\"glyph\":{\"id\":\"1140\"},\"group\":null,\"hover_glyph\":null,\"muted_glyph\":{\"id\":\"1142\"},\"nonselection_glyph\":{\"id\":\"1141\"},\"view\":{\"id\":\"1144\"}},\"id\":\"1143\",\"type\":\"GlyphRenderer\"},{\"attributes\":{\"data\":{\"x\":[0,1,2,3,4,5,6,7,8,9,10],\"y\":[10,9,8,7,6,5,4,3,2,1,0]},\"selected\":{\"id\":\"1258\"},\"selection_policy\":{\"id\":\"1257\"}},\"id\":\"1177\",\"type\":\"ColumnDataSource\"},{\"attributes\":{\"fill_alpha\":{\"value\":0.5},\"fill_color\":{\"value\":\"firebrick\"},\"hatch_alpha\":{\"value\":0.5},\"hatch_color\":{\"value\":\"firebrick\"},\"line_alpha\":{\"value\":0.5},\"line_color\":{\"value\":\"firebrick\"},\"marker\":{\"value\":\"triangle\"},\"size\":{\"value\":10},\"x\":{\"field\":\"x\"},\"y\":{\"field\":\"y\"}},\"id\":\"1178\",\"type\":\"Scatter\"},{\"attributes\":{\"axis\":{\"id\":\"1155\"},\"coordinates\":null,\"group\":null,\"ticker\":null},\"id\":\"1158\",\"type\":\"Grid\"},{\"attributes\":{},\"id\":\"1153\",\"type\":\"LinearScale\"},{\"attributes\":{\"axis\":{\"id\":\"1159\"},\"coordinates\":null,\"dimension\":1,\"group\":null,\"ticker\":null},\"id\":\"1162\",\"type\":\"Grid\"},{\"attributes\":{},\"id\":\"1160\",\"type\":\"BasicTicker\"},{\"attributes\":{},\"id\":\"1168\",\"type\":\"HelpTool\"},{\"attributes\":{},\"id\":\"1164\",\"type\":\"WheelZoomTool\"},{\"attributes\":{},\"id\":\"1163\",\"type\":\"PanTool\"},{\"attributes\":{\"overlay\":{\"id\":\"1169\"}},\"id\":\"1165\",\"type\":\"BoxZoomTool\"},{\"attributes\":{\"below\":[{\"id\":\"1155\"}],\"center\":[{\"id\":\"1158\"},{\"id\":\"1162\"}],\"height\":250,\"left\":[{\"id\":\"1159\"}],\"renderers\":[{\"id\":\"1181\"}],\"title\":null,\"toolbar\":{\"id\":\"1170\"},\"width\":250,\"x_range\":{\"id\":\"1147\"},\"x_scale\":{\"id\":\"1151\"},\"y_range\":{\"id\":\"1149\"},\"y_scale\":{\"id\":\"1153\"}},\"id\":\"1145\",\"subtype\":\"Figure\",\"type\":\"Plot\"},{\"attributes\":{\"bottom_units\":\"screen\",\"coordinates\":null,\"fill_alpha\":0.5,\"fill_color\":\"lightgrey\",\"group\":null,\"left_units\":\"screen\",\"level\":\"overlay\",\"line_alpha\":1.0,\"line_color\":\"black\",\"line_dash\":[4,4],\"line_width\":2,\"right_units\":\"screen\",\"syncable\":false,\"top_units\":\"screen\"},\"id\":\"1169\",\"type\":\"BoxAnnotation\"},{\"attributes\":{\"tools\":[{\"id\":\"1163\"},{\"id\":\"1164\"},{\"id\":\"1165\"},{\"id\":\"1166\"},{\"id\":\"1167\"},{\"id\":\"1168\"}]},\"id\":\"1170\",\"type\":\"Toolbar\"},{\"attributes\":{},\"id\":\"1257\",\"type\":\"UnionRenderers\"},{\"attributes\":{},\"id\":\"1258\",\"type\":\"Selection\"},{\"attributes\":{},\"id\":\"1187\",\"type\":\"DataRange1d\"},{\"attributes\":{\"source\":{\"id\":\"1177\"}},\"id\":\"1182\",\"type\":\"CDSView\"},{\"attributes\":{\"fill_alpha\":{\"value\":0.1},\"fill_color\":{\"value\":\"firebrick\"},\"hatch_alpha\":{\"value\":0.1},\"hatch_color\":{\"value\":\"firebrick\"},\"line_alpha\":{\"value\":0.1},\"line_color\":{\"value\":\"firebrick\"},\"marker\":{\"value\":\"triangle\"},\"size\":{\"value\":10},\"x\":{\"field\":\"x\"},\"y\":{\"field\":\"y\"}},\"id\":\"1179\",\"type\":\"Scatter\"},{\"attributes\":{\"fill_alpha\":{\"value\":0.2},\"fill_color\":{\"value\":\"olive\"},\"hatch_alpha\":{\"value\":0.2},\"hatch_color\":{\"value\":\"olive\"},\"line_alpha\":{\"value\":0.2},\"line_color\":{\"value\":\"olive\"},\"marker\":{\"value\":\"square\"},\"size\":{\"value\":10},\"x\":{\"field\":\"x\"},\"y\":{\"field\":\"y\"}},\"id\":\"1218\",\"type\":\"Scatter\"},{\"attributes\":{\"fill_alpha\":{\"value\":0.2},\"fill_color\":{\"value\":\"firebrick\"},\"hatch_alpha\":{\"value\":0.2},\"hatch_color\":{\"value\":\"firebrick\"},\"line_alpha\":{\"value\":0.2},\"line_color\":{\"value\":\"firebrick\"},\"marker\":{\"value\":\"triangle\"},\"size\":{\"value\":10},\"x\":{\"field\":\"x\"},\"y\":{\"field\":\"y\"}},\"id\":\"1180\",\"type\":\"Scatter\"},{\"attributes\":{\"coordinates\":null,\"data_source\":{\"id\":\"1177\"},\"glyph\":{\"id\":\"1178\"},\"group\":null,\"hover_glyph\":null,\"muted_glyph\":{\"id\":\"1180\"},\"nonselection_glyph\":{\"id\":\"1179\"},\"view\":{\"id\":\"1182\"}},\"id\":\"1181\",\"type\":\"GlyphRenderer\"},{\"attributes\":{},\"id\":\"1185\",\"type\":\"DataRange1d\"},{\"attributes\":{\"fill_alpha\":{\"value\":0.5},\"fill_color\":{\"value\":\"olive\"},\"hatch_alpha\":{\"value\":0.5},\"hatch_color\":{\"value\":\"olive\"},\"line_alpha\":{\"value\":0.5},\"line_color\":{\"value\":\"olive\"},\"marker\":{\"value\":\"square\"},\"size\":{\"value\":10},\"x\":{\"field\":\"x\"},\"y\":{\"field\":\"y\"}},\"id\":\"1216\",\"type\":\"Scatter\"},{\"attributes\":{\"data\":{\"x\":[0,1,2,3,4,5,6,7,8,9,10],\"y\":[5,4,3,2,1,0,1,2,3,4,5]},\"selected\":{\"id\":\"1261\"},\"selection_policy\":{\"id\":\"1260\"}},\"id\":\"1215\",\"type\":\"ColumnDataSource\"},{\"attributes\":{},\"id\":\"1189\",\"type\":\"LinearScale\"},{\"attributes\":{\"coordinates\":null,\"formatter\":{\"id\":\"1249\"},\"group\":null,\"major_label_policy\":{\"id\":\"1250\"},\"ticker\":{\"id\":\"1198\"}},\"id\":\"1197\",\"type\":\"LinearAxis\"},{\"attributes\":{},\"id\":\"1206\",\"type\":\"HelpTool\"},{\"attributes\":{},\"id\":\"1191\",\"type\":\"LinearScale\"},{\"attributes\":{},\"id\":\"1249\",\"type\":\"BasicTickFormatter\"},{\"attributes\":{\"coordinates\":null,\"formatter\":{\"id\":\"1252\"},\"group\":null,\"major_label_policy\":{\"id\":\"1253\"},\"ticker\":{\"id\":\"1194\"}},\"id\":\"1193\",\"type\":\"LinearAxis\"},{\"attributes\":{},\"id\":\"1194\",\"type\":\"BasicTicker\"},{\"attributes\":{\"axis\":{\"id\":\"1193\"},\"coordinates\":null,\"group\":null,\"ticker\":null},\"id\":\"1196\",\"type\":\"Grid\"},{\"attributes\":{},\"id\":\"1250\",\"type\":\"AllLabels\"},{\"attributes\":{},\"id\":\"1252\",\"type\":\"BasicTickFormatter\"},{\"attributes\":{\"axis\":{\"id\":\"1197\"},\"coordinates\":null,\"dimension\":1,\"group\":null,\"ticker\":null},\"id\":\"1200\",\"type\":\"Grid\"},{\"attributes\":{},\"id\":\"1198\",\"type\":\"BasicTicker\"},{\"attributes\":{},\"id\":\"1253\",\"type\":\"AllLabels\"},{\"attributes\":{\"fill_alpha\":{\"value\":0.1},\"fill_color\":{\"value\":\"olive\"},\"hatch_alpha\":{\"value\":0.1},\"hatch_color\":{\"value\":\"olive\"},\"line_alpha\":{\"value\":0.1},\"line_color\":{\"value\":\"olive\"},\"marker\":{\"value\":\"square\"},\"size\":{\"value\":10},\"x\":{\"field\":\"x\"},\"y\":{\"field\":\"y\"}},\"id\":\"1217\",\"type\":\"Scatter\"},{\"attributes\":{},\"id\":\"1237\",\"type\":\"BasicTickFormatter\"},{\"attributes\":{},\"id\":\"1202\",\"type\":\"WheelZoomTool\"},{\"attributes\":{},\"id\":\"1201\",\"type\":\"PanTool\"},{\"attributes\":{\"overlay\":{\"id\":\"1207\"}},\"id\":\"1203\",\"type\":\"BoxZoomTool\"},{\"attributes\":{},\"id\":\"1238\",\"type\":\"AllLabels\"},{\"attributes\":{},\"id\":\"1260\",\"type\":\"UnionRenderers\"},{\"attributes\":{},\"id\":\"1204\",\"type\":\"SaveTool\"},{\"attributes\":{},\"id\":\"1240\",\"type\":\"BasicTickFormatter\"},{\"attributes\":{},\"id\":\"1205\",\"type\":\"ResetTool\"},{\"attributes\":{},\"id\":\"1241\",\"type\":\"AllLabels\"},{\"attributes\":{},\"id\":\"1261\",\"type\":\"Selection\"},{\"attributes\":{\"bottom_units\":\"screen\",\"coordinates\":null,\"fill_alpha\":0.5,\"fill_color\":\"lightgrey\",\"group\":null,\"left_units\":\"screen\",\"level\":\"overlay\",\"line_alpha\":1.0,\"line_color\":\"black\",\"line_dash\":[4,4],\"line_width\":2,\"right_units\":\"screen\",\"syncable\":false,\"top_units\":\"screen\"},\"id\":\"1207\",\"type\":\"BoxAnnotation\"},{\"attributes\":{},\"id\":\"1254\",\"type\":\"UnionRenderers\"},{\"attributes\":{},\"id\":\"1255\",\"type\":\"Selection\"},{\"attributes\":{},\"id\":\"1166\",\"type\":\"SaveTool\"},{\"attributes\":{\"below\":[{\"id\":\"1117\"}],\"center\":[{\"id\":\"1120\"},{\"id\":\"1124\"}],\"height\":250,\"left\":[{\"id\":\"1121\"}],\"renderers\":[{\"id\":\"1143\"}],\"title\":null,\"toolbar\":{\"id\":\"1132\"},\"width\":250,\"x_range\":{\"id\":\"1109\"},\"x_scale\":{\"id\":\"1113\"},\"y_range\":{\"id\":\"1111\"},\"y_scale\":{\"id\":\"1115\"}},\"id\":\"1107\",\"subtype\":\"Figure\",\"type\":\"Plot\"},{\"attributes\":{},\"id\":\"1113\",\"type\":\"LinearScale\"},{\"attributes\":{\"coordinates\":null,\"data_source\":{\"id\":\"1215\"},\"glyph\":{\"id\":\"1216\"},\"group\":null,\"hover_glyph\":null,\"muted_glyph\":{\"id\":\"1218\"},\"nonselection_glyph\":{\"id\":\"1217\"},\"view\":{\"id\":\"1220\"}},\"id\":\"1219\",\"type\":\"GlyphRenderer\"},{\"attributes\":{\"fill_alpha\":{\"value\":0.5},\"fill_color\":{\"value\":\"navy\"},\"hatch_alpha\":{\"value\":0.5},\"hatch_color\":{\"value\":\"navy\"},\"line_alpha\":{\"value\":0.5},\"line_color\":{\"value\":\"navy\"},\"size\":{\"value\":10},\"x\":{\"field\":\"x\"},\"y\":{\"field\":\"y\"}},\"id\":\"1140\",\"type\":\"Circle\"},{\"attributes\":{},\"id\":\"1109\",\"type\":\"DataRange1d\"},{\"attributes\":{},\"id\":\"1111\",\"type\":\"DataRange1d\"},{\"attributes\":{},\"id\":\"1167\",\"type\":\"ResetTool\"},{\"attributes\":{},\"id\":\"1243\",\"type\":\"BasicTickFormatter\"},{\"attributes\":{},\"id\":\"1115\",\"type\":\"LinearScale\"},{\"attributes\":{\"below\":[{\"id\":\"1193\"}],\"center\":[{\"id\":\"1196\"},{\"id\":\"1200\"}],\"height\":250,\"left\":[{\"id\":\"1197\"}],\"renderers\":[{\"id\":\"1219\"}],\"title\":null,\"toolbar\":{\"id\":\"1208\"},\"width\":250,\"x_range\":{\"id\":\"1185\"},\"x_scale\":{\"id\":\"1189\"},\"y_range\":{\"id\":\"1187\"},\"y_scale\":{\"id\":\"1191\"}},\"id\":\"1183\",\"subtype\":\"Figure\",\"type\":\"Plot\"},{\"attributes\":{},\"id\":\"1244\",\"type\":\"AllLabels\"},{\"attributes\":{\"source\":{\"id\":\"1215\"}},\"id\":\"1220\",\"type\":\"CDSView\"},{\"attributes\":{},\"id\":\"1118\",\"type\":\"BasicTicker\"},{\"attributes\":{},\"id\":\"1246\",\"type\":\"BasicTickFormatter\"},{\"attributes\":{\"coordinates\":null,\"formatter\":{\"id\":\"1240\"},\"group\":null,\"major_label_policy\":{\"id\":\"1241\"},\"ticker\":{\"id\":\"1118\"}},\"id\":\"1117\",\"type\":\"LinearAxis\"},{\"attributes\":{\"axis\":{\"id\":\"1117\"},\"coordinates\":null,\"group\":null,\"ticker\":null},\"id\":\"1120\",\"type\":\"Grid\"},{\"attributes\":{\"tools\":[{\"id\":\"1201\"},{\"id\":\"1202\"},{\"id\":\"1203\"},{\"id\":\"1204\"},{\"id\":\"1205\"},{\"id\":\"1206\"}]},\"id\":\"1208\",\"type\":\"Toolbar\"},{\"attributes\":{},\"id\":\"1247\",\"type\":\"AllLabels\"},{\"attributes\":{\"data\":{\"x\":[0,1,2,3,4,5,6,7,8,9,10],\"y\":[0,1,2,3,4,5,6,7,8,9,10]},\"selected\":{\"id\":\"1255\"},\"selection_policy\":{\"id\":\"1254\"}},\"id\":\"1139\",\"type\":\"ColumnDataSource\"},{\"attributes\":{\"coordinates\":null,\"formatter\":{\"id\":\"1237\"},\"group\":null,\"major_label_policy\":{\"id\":\"1238\"},\"ticker\":{\"id\":\"1122\"}},\"id\":\"1121\",\"type\":\"LinearAxis\"}],\"root_ids\":[\"1221\"]},\"title\":\"Bokeh Application\",\"version\":\"2.4.2\"}};\n  const render_items = [{\"docid\":\"6eed1f2f-53f8-4b45-8ed0-40d63880b2c9\",\"root_ids\":[\"1221\"],\"roots\":{\"1221\":\"ae5a14b8-29a4-4541-b9c1-c95713afaf72\"}}];\n  root.Bokeh.embed.embed_items_notebook(docs_json, render_items);\n\n  }\n  if (root.Bokeh !== undefined) {\n    embed_document(root);\n  } else {\n    let attempts = 0;\n    const timer = setInterval(function(root) {\n      if (root.Bokeh !== undefined) {\n        clearInterval(timer);\n        embed_document(root);\n      } else {\n        attempts++;\n        if (attempts > 100) {\n          clearInterval(timer);\n          console.log(\"Bokeh: ERROR: Unable to run BokehJS code because BokehJS library is missing\");\n        }\n      }\n    }, 10, root)\n  }\n})(window);",
      "application/vnd.bokehjs_exec.v0+json": ""
     },
     "metadata": {
      "application/vnd.bokehjs_exec.v0+json": {
       "id": "1221"
      }
     },
     "output_type": "display_data"
    }
   ],
   "source": [
    "from bokeh.io import output_file, show\n",
    "from bokeh.layouts import column\n",
    "from bokeh.plotting import figure\n",
    "output_file(\"layout.html\")\n",
    "x = list(range(11))\n",
    "y0 = x\n",
    "y1 = [10 - i for i in x]\n",
    "y2 = [abs(i - 5) for i in x]\n",
    "# create a new plot\n",
    "s1 = figure(plot_width=250, plot_height=250, title=None)\n",
    "s1.circle(x, y0, size=10, color=\"navy\", alpha=0.5)\n",
    "# create another one\n",
    "s2 = figure(plot_width=250, plot_height=250, title=None)\n",
    "s2.triangle(x, y1, size=10, color=\"firebrick\", alpha=0.5)\n",
    "# create and another\n",
    "s3 = figure(plot_width=250, plot_height=250, title=None)\n",
    "s3.square(x, y2, size=10, color=\"olive\", alpha=0.5)\n",
    "# put the results in a column and show\n",
    "show(column(s1, s2, s3))"
   ]
  },
  {
   "cell_type": "markdown",
   "metadata": {},
   "source": [
    "# Rows"
   ]
  },
  {
   "cell_type": "code",
   "execution_count": 4,
   "metadata": {},
   "outputs": [
    {
     "data": {
      "text/html": [
       "\n",
       "\n",
       "\n",
       "\n",
       "\n",
       "\n",
       "  <div class=\"bk-root\" id=\"4897e53a-68a1-46ef-8a0a-b5a8501116ba\" data-root-id=\"1948\"></div>\n"
      ]
     },
     "metadata": {},
     "output_type": "display_data"
    },
    {
     "data": {
      "application/javascript": "(function(root) {\n  function embed_document(root) {\n    \n  const docs_json = {\"ef4de8c0-e929-4e23-b0a7-600f3d128326\":{\"defs\":[],\"roots\":{\"references\":[{\"attributes\":{\"children\":[{\"id\":\"1834\"},{\"id\":\"1872\"},{\"id\":\"1910\"}]},\"id\":\"1948\",\"type\":\"Row\"},{\"attributes\":{},\"id\":\"1997\",\"type\":\"BasicTickFormatter\"},{\"attributes\":{},\"id\":\"2017\",\"type\":\"UnionRenderers\"},{\"attributes\":{},\"id\":\"1998\",\"type\":\"AllLabels\"},{\"attributes\":{},\"id\":\"2018\",\"type\":\"Selection\"},{\"attributes\":{\"axis\":{\"id\":\"1844\"},\"coordinates\":null,\"group\":null,\"ticker\":null},\"id\":\"1847\",\"type\":\"Grid\"},{\"attributes\":{},\"id\":\"1838\",\"type\":\"DataRange1d\"},{\"attributes\":{},\"id\":\"2000\",\"type\":\"BasicTickFormatter\"},{\"attributes\":{\"below\":[{\"id\":\"1882\"}],\"center\":[{\"id\":\"1885\"},{\"id\":\"1889\"}],\"height\":250,\"left\":[{\"id\":\"1886\"}],\"renderers\":[{\"id\":\"1908\"}],\"title\":null,\"toolbar\":{\"id\":\"1897\"},\"width\":250,\"x_range\":{\"id\":\"1874\"},\"x_scale\":{\"id\":\"1878\"},\"y_range\":{\"id\":\"1876\"},\"y_scale\":{\"id\":\"1880\"}},\"id\":\"1872\",\"subtype\":\"Figure\",\"type\":\"Plot\"},{\"attributes\":{},\"id\":\"2001\",\"type\":\"AllLabels\"},{\"attributes\":{\"below\":[{\"id\":\"1844\"}],\"center\":[{\"id\":\"1847\"},{\"id\":\"1851\"}],\"height\":250,\"left\":[{\"id\":\"1848\"}],\"renderers\":[{\"id\":\"1870\"}],\"title\":null,\"toolbar\":{\"id\":\"1859\"},\"width\":250,\"x_range\":{\"id\":\"1836\"},\"x_scale\":{\"id\":\"1840\"},\"y_range\":{\"id\":\"1838\"},\"y_scale\":{\"id\":\"1842\"}},\"id\":\"1834\",\"subtype\":\"Figure\",\"type\":\"Plot\"},{\"attributes\":{},\"id\":\"2003\",\"type\":\"BasicTickFormatter\"},{\"attributes\":{\"below\":[{\"id\":\"1920\"}],\"center\":[{\"id\":\"1923\"},{\"id\":\"1927\"}],\"height\":250,\"left\":[{\"id\":\"1924\"}],\"renderers\":[{\"id\":\"1946\"}],\"title\":null,\"toolbar\":{\"id\":\"1935\"},\"width\":250,\"x_range\":{\"id\":\"1912\"},\"x_scale\":{\"id\":\"1916\"},\"y_range\":{\"id\":\"1914\"},\"y_scale\":{\"id\":\"1918\"}},\"id\":\"1910\",\"subtype\":\"Figure\",\"type\":\"Plot\"},{\"attributes\":{},\"id\":\"1840\",\"type\":\"LinearScale\"},{\"attributes\":{},\"id\":\"2004\",\"type\":\"AllLabels\"},{\"attributes\":{\"coordinates\":null,\"formatter\":{\"id\":\"1994\"},\"group\":null,\"major_label_policy\":{\"id\":\"1995\"},\"ticker\":{\"id\":\"1849\"}},\"id\":\"1848\",\"type\":\"LinearAxis\"},{\"attributes\":{},\"id\":\"1887\",\"type\":\"BasicTicker\"},{\"attributes\":{\"coordinates\":null,\"formatter\":{\"id\":\"2000\"},\"group\":null,\"major_label_policy\":{\"id\":\"2001\"},\"ticker\":{\"id\":\"1887\"}},\"id\":\"1886\",\"type\":\"LinearAxis\"},{\"attributes\":{\"coordinates\":null,\"formatter\":{\"id\":\"1997\"},\"group\":null,\"major_label_policy\":{\"id\":\"1998\"},\"ticker\":{\"id\":\"1845\"}},\"id\":\"1844\",\"type\":\"LinearAxis\"},{\"attributes\":{},\"id\":\"1845\",\"type\":\"BasicTicker\"},{\"attributes\":{},\"id\":\"1836\",\"type\":\"DataRange1d\"},{\"attributes\":{},\"id\":\"1842\",\"type\":\"LinearScale\"},{\"attributes\":{},\"id\":\"1857\",\"type\":\"HelpTool\"},{\"attributes\":{\"data\":{\"x\":[0,1,2,3,4,5,6,7,8,9,10],\"y\":[0,1,2,3,4,5,6,7,8,9,10]},\"selected\":{\"id\":\"2012\"},\"selection_policy\":{\"id\":\"2011\"}},\"id\":\"1866\",\"type\":\"ColumnDataSource\"},{\"attributes\":{\"axis\":{\"id\":\"1848\"},\"coordinates\":null,\"dimension\":1,\"group\":null,\"ticker\":null},\"id\":\"1851\",\"type\":\"Grid\"},{\"attributes\":{},\"id\":\"1849\",\"type\":\"BasicTicker\"},{\"attributes\":{},\"id\":\"1853\",\"type\":\"WheelZoomTool\"},{\"attributes\":{},\"id\":\"1852\",\"type\":\"PanTool\"},{\"attributes\":{\"overlay\":{\"id\":\"1858\"}},\"id\":\"1854\",\"type\":\"BoxZoomTool\"},{\"attributes\":{},\"id\":\"1855\",\"type\":\"SaveTool\"},{\"attributes\":{},\"id\":\"1856\",\"type\":\"ResetTool\"},{\"attributes\":{},\"id\":\"2006\",\"type\":\"BasicTickFormatter\"},{\"attributes\":{\"bottom_units\":\"screen\",\"coordinates\":null,\"fill_alpha\":0.5,\"fill_color\":\"lightgrey\",\"group\":null,\"left_units\":\"screen\",\"level\":\"overlay\",\"line_alpha\":1.0,\"line_color\":\"black\",\"line_dash\":[4,4],\"line_width\":2,\"right_units\":\"screen\",\"syncable\":false,\"top_units\":\"screen\"},\"id\":\"1858\",\"type\":\"BoxAnnotation\"},{\"attributes\":{\"tools\":[{\"id\":\"1852\"},{\"id\":\"1853\"},{\"id\":\"1854\"},{\"id\":\"1855\"},{\"id\":\"1856\"},{\"id\":\"1857\"}]},\"id\":\"1859\",\"type\":\"Toolbar\"},{\"attributes\":{},\"id\":\"2007\",\"type\":\"AllLabels\"},{\"attributes\":{\"axis\":{\"id\":\"1886\"},\"coordinates\":null,\"dimension\":1,\"group\":null,\"ticker\":null},\"id\":\"1889\",\"type\":\"Grid\"},{\"attributes\":{},\"id\":\"1933\",\"type\":\"HelpTool\"},{\"attributes\":{},\"id\":\"2009\",\"type\":\"BasicTickFormatter\"},{\"attributes\":{\"fill_alpha\":{\"value\":0.1},\"fill_color\":{\"value\":\"olive\"},\"hatch_alpha\":{\"value\":0.1},\"hatch_color\":{\"value\":\"olive\"},\"line_alpha\":{\"value\":0.1},\"line_color\":{\"value\":\"olive\"},\"marker\":{\"value\":\"square\"},\"size\":{\"value\":10},\"x\":{\"field\":\"x\"},\"y\":{\"field\":\"y\"}},\"id\":\"1944\",\"type\":\"Scatter\"},{\"attributes\":{},\"id\":\"2010\",\"type\":\"AllLabels\"},{\"attributes\":{},\"id\":\"1891\",\"type\":\"WheelZoomTool\"},{\"attributes\":{},\"id\":\"1929\",\"type\":\"WheelZoomTool\"},{\"attributes\":{},\"id\":\"1928\",\"type\":\"PanTool\"},{\"attributes\":{\"overlay\":{\"id\":\"1934\"}},\"id\":\"1930\",\"type\":\"BoxZoomTool\"},{\"attributes\":{},\"id\":\"1931\",\"type\":\"SaveTool\"},{\"attributes\":{},\"id\":\"1932\",\"type\":\"ResetTool\"},{\"attributes\":{\"fill_alpha\":{\"value\":0.2},\"fill_color\":{\"value\":\"navy\"},\"hatch_alpha\":{\"value\":0.2},\"hatch_color\":{\"value\":\"navy\"},\"line_alpha\":{\"value\":0.2},\"line_color\":{\"value\":\"navy\"},\"size\":{\"value\":10},\"x\":{\"field\":\"x\"},\"y\":{\"field\":\"y\"}},\"id\":\"1869\",\"type\":\"Circle\"},{\"attributes\":{\"bottom_units\":\"screen\",\"coordinates\":null,\"fill_alpha\":0.5,\"fill_color\":\"lightgrey\",\"group\":null,\"left_units\":\"screen\",\"level\":\"overlay\",\"line_alpha\":1.0,\"line_color\":\"black\",\"line_dash\":[4,4],\"line_width\":2,\"right_units\":\"screen\",\"syncable\":false,\"top_units\":\"screen\"},\"id\":\"1934\",\"type\":\"BoxAnnotation\"},{\"attributes\":{},\"id\":\"2011\",\"type\":\"UnionRenderers\"},{\"attributes\":{},\"id\":\"2012\",\"type\":\"Selection\"},{\"attributes\":{\"source\":{\"id\":\"1866\"}},\"id\":\"1871\",\"type\":\"CDSView\"},{\"attributes\":{},\"id\":\"1874\",\"type\":\"DataRange1d\"},{\"attributes\":{\"data\":{\"x\":[0,1,2,3,4,5,6,7,8,9,10],\"y\":[10,9,8,7,6,5,4,3,2,1,0]},\"selected\":{\"id\":\"2015\"},\"selection_policy\":{\"id\":\"2014\"}},\"id\":\"1904\",\"type\":\"ColumnDataSource\"},{\"attributes\":{},\"id\":\"1876\",\"type\":\"DataRange1d\"},{\"attributes\":{\"fill_alpha\":{\"value\":0.1},\"fill_color\":{\"value\":\"navy\"},\"hatch_alpha\":{\"value\":0.1},\"hatch_color\":{\"value\":\"navy\"},\"line_alpha\":{\"value\":0.1},\"line_color\":{\"value\":\"navy\"},\"size\":{\"value\":10},\"x\":{\"field\":\"x\"},\"y\":{\"field\":\"y\"}},\"id\":\"1868\",\"type\":\"Circle\"},{\"attributes\":{\"coordinates\":null,\"data_source\":{\"id\":\"1866\"},\"glyph\":{\"id\":\"1867\"},\"group\":null,\"hover_glyph\":null,\"muted_glyph\":{\"id\":\"1869\"},\"nonselection_glyph\":{\"id\":\"1868\"},\"view\":{\"id\":\"1871\"}},\"id\":\"1870\",\"type\":\"GlyphRenderer\"},{\"attributes\":{\"fill_alpha\":{\"value\":0.5},\"fill_color\":{\"value\":\"firebrick\"},\"hatch_alpha\":{\"value\":0.5},\"hatch_color\":{\"value\":\"firebrick\"},\"line_alpha\":{\"value\":0.5},\"line_color\":{\"value\":\"firebrick\"},\"marker\":{\"value\":\"triangle\"},\"size\":{\"value\":10},\"x\":{\"field\":\"x\"},\"y\":{\"field\":\"y\"}},\"id\":\"1905\",\"type\":\"Scatter\"},{\"attributes\":{},\"id\":\"1878\",\"type\":\"LinearScale\"},{\"attributes\":{\"fill_alpha\":{\"value\":0.1},\"fill_color\":{\"value\":\"firebrick\"},\"hatch_alpha\":{\"value\":0.1},\"hatch_color\":{\"value\":\"firebrick\"},\"line_alpha\":{\"value\":0.1},\"line_color\":{\"value\":\"firebrick\"},\"marker\":{\"value\":\"triangle\"},\"size\":{\"value\":10},\"x\":{\"field\":\"x\"},\"y\":{\"field\":\"y\"}},\"id\":\"1906\",\"type\":\"Scatter\"},{\"attributes\":{},\"id\":\"1880\",\"type\":\"LinearScale\"},{\"attributes\":{\"coordinates\":null,\"formatter\":{\"id\":\"2003\"},\"group\":null,\"major_label_policy\":{\"id\":\"2004\"},\"ticker\":{\"id\":\"1883\"}},\"id\":\"1882\",\"type\":\"LinearAxis\"},{\"attributes\":{},\"id\":\"1883\",\"type\":\"BasicTicker\"},{\"attributes\":{\"fill_alpha\":{\"value\":0.2},\"fill_color\":{\"value\":\"olive\"},\"hatch_alpha\":{\"value\":0.2},\"hatch_color\":{\"value\":\"olive\"},\"line_alpha\":{\"value\":0.2},\"line_color\":{\"value\":\"olive\"},\"marker\":{\"value\":\"square\"},\"size\":{\"value\":10},\"x\":{\"field\":\"x\"},\"y\":{\"field\":\"y\"}},\"id\":\"1945\",\"type\":\"Scatter\"},{\"attributes\":{\"axis\":{\"id\":\"1882\"},\"coordinates\":null,\"group\":null,\"ticker\":null},\"id\":\"1885\",\"type\":\"Grid\"},{\"attributes\":{},\"id\":\"1895\",\"type\":\"HelpTool\"},{\"attributes\":{},\"id\":\"1890\",\"type\":\"PanTool\"},{\"attributes\":{\"source\":{\"id\":\"1942\"}},\"id\":\"1947\",\"type\":\"CDSView\"},{\"attributes\":{\"overlay\":{\"id\":\"1896\"}},\"id\":\"1892\",\"type\":\"BoxZoomTool\"},{\"attributes\":{},\"id\":\"1893\",\"type\":\"SaveTool\"},{\"attributes\":{},\"id\":\"1894\",\"type\":\"ResetTool\"},{\"attributes\":{\"bottom_units\":\"screen\",\"coordinates\":null,\"fill_alpha\":0.5,\"fill_color\":\"lightgrey\",\"group\":null,\"left_units\":\"screen\",\"level\":\"overlay\",\"line_alpha\":1.0,\"line_color\":\"black\",\"line_dash\":[4,4],\"line_width\":2,\"right_units\":\"screen\",\"syncable\":false,\"top_units\":\"screen\"},\"id\":\"1896\",\"type\":\"BoxAnnotation\"},{\"attributes\":{\"tools\":[{\"id\":\"1928\"},{\"id\":\"1929\"},{\"id\":\"1930\"},{\"id\":\"1931\"},{\"id\":\"1932\"},{\"id\":\"1933\"}]},\"id\":\"1935\",\"type\":\"Toolbar\"},{\"attributes\":{\"coordinates\":null,\"data_source\":{\"id\":\"1942\"},\"glyph\":{\"id\":\"1943\"},\"group\":null,\"hover_glyph\":null,\"muted_glyph\":{\"id\":\"1945\"},\"nonselection_glyph\":{\"id\":\"1944\"},\"view\":{\"id\":\"1947\"}},\"id\":\"1946\",\"type\":\"GlyphRenderer\"},{\"attributes\":{\"fill_alpha\":{\"value\":0.5},\"fill_color\":{\"value\":\"olive\"},\"hatch_alpha\":{\"value\":0.5},\"hatch_color\":{\"value\":\"olive\"},\"line_alpha\":{\"value\":0.5},\"line_color\":{\"value\":\"olive\"},\"marker\":{\"value\":\"square\"},\"size\":{\"value\":10},\"x\":{\"field\":\"x\"},\"y\":{\"field\":\"y\"}},\"id\":\"1943\",\"type\":\"Scatter\"},{\"attributes\":{},\"id\":\"1994\",\"type\":\"BasicTickFormatter\"},{\"attributes\":{},\"id\":\"2014\",\"type\":\"UnionRenderers\"},{\"attributes\":{},\"id\":\"1995\",\"type\":\"AllLabels\"},{\"attributes\":{},\"id\":\"2015\",\"type\":\"Selection\"},{\"attributes\":{\"fill_alpha\":{\"value\":0.2},\"fill_color\":{\"value\":\"firebrick\"},\"hatch_alpha\":{\"value\":0.2},\"hatch_color\":{\"value\":\"firebrick\"},\"line_alpha\":{\"value\":0.2},\"line_color\":{\"value\":\"firebrick\"},\"marker\":{\"value\":\"triangle\"},\"size\":{\"value\":10},\"x\":{\"field\":\"x\"},\"y\":{\"field\":\"y\"}},\"id\":\"1907\",\"type\":\"Scatter\"},{\"attributes\":{\"source\":{\"id\":\"1904\"}},\"id\":\"1909\",\"type\":\"CDSView\"},{\"attributes\":{},\"id\":\"1914\",\"type\":\"DataRange1d\"},{\"attributes\":{\"fill_alpha\":{\"value\":0.5},\"fill_color\":{\"value\":\"navy\"},\"hatch_alpha\":{\"value\":0.5},\"hatch_color\":{\"value\":\"navy\"},\"line_alpha\":{\"value\":0.5},\"line_color\":{\"value\":\"navy\"},\"size\":{\"value\":10},\"x\":{\"field\":\"x\"},\"y\":{\"field\":\"y\"}},\"id\":\"1867\",\"type\":\"Circle\"},{\"attributes\":{\"tools\":[{\"id\":\"1890\"},{\"id\":\"1891\"},{\"id\":\"1892\"},{\"id\":\"1893\"},{\"id\":\"1894\"},{\"id\":\"1895\"}]},\"id\":\"1897\",\"type\":\"Toolbar\"},{\"attributes\":{\"axis\":{\"id\":\"1924\"},\"coordinates\":null,\"dimension\":1,\"group\":null,\"ticker\":null},\"id\":\"1927\",\"type\":\"Grid\"},{\"attributes\":{\"coordinates\":null,\"data_source\":{\"id\":\"1904\"},\"glyph\":{\"id\":\"1905\"},\"group\":null,\"hover_glyph\":null,\"muted_glyph\":{\"id\":\"1907\"},\"nonselection_glyph\":{\"id\":\"1906\"},\"view\":{\"id\":\"1909\"}},\"id\":\"1908\",\"type\":\"GlyphRenderer\"},{\"attributes\":{\"data\":{\"x\":[0,1,2,3,4,5,6,7,8,9,10],\"y\":[5,4,3,2,1,0,1,2,3,4,5]},\"selected\":{\"id\":\"2018\"},\"selection_policy\":{\"id\":\"2017\"}},\"id\":\"1942\",\"type\":\"ColumnDataSource\"},{\"attributes\":{},\"id\":\"1921\",\"type\":\"BasicTicker\"},{\"attributes\":{},\"id\":\"1912\",\"type\":\"DataRange1d\"},{\"attributes\":{},\"id\":\"1916\",\"type\":\"LinearScale\"},{\"attributes\":{},\"id\":\"1918\",\"type\":\"LinearScale\"},{\"attributes\":{\"axis\":{\"id\":\"1920\"},\"coordinates\":null,\"group\":null,\"ticker\":null},\"id\":\"1923\",\"type\":\"Grid\"},{\"attributes\":{\"coordinates\":null,\"formatter\":{\"id\":\"2009\"},\"group\":null,\"major_label_policy\":{\"id\":\"2010\"},\"ticker\":{\"id\":\"1921\"}},\"id\":\"1920\",\"type\":\"LinearAxis\"},{\"attributes\":{\"coordinates\":null,\"formatter\":{\"id\":\"2006\"},\"group\":null,\"major_label_policy\":{\"id\":\"2007\"},\"ticker\":{\"id\":\"1925\"}},\"id\":\"1924\",\"type\":\"LinearAxis\"},{\"attributes\":{},\"id\":\"1925\",\"type\":\"BasicTicker\"}],\"root_ids\":[\"1948\"]},\"title\":\"Bokeh Application\",\"version\":\"2.4.2\"}};\n  const render_items = [{\"docid\":\"ef4de8c0-e929-4e23-b0a7-600f3d128326\",\"root_ids\":[\"1948\"],\"roots\":{\"1948\":\"4897e53a-68a1-46ef-8a0a-b5a8501116ba\"}}];\n  root.Bokeh.embed.embed_items_notebook(docs_json, render_items);\n\n  }\n  if (root.Bokeh !== undefined) {\n    embed_document(root);\n  } else {\n    let attempts = 0;\n    const timer = setInterval(function(root) {\n      if (root.Bokeh !== undefined) {\n        clearInterval(timer);\n        embed_document(root);\n      } else {\n        attempts++;\n        if (attempts > 100) {\n          clearInterval(timer);\n          console.log(\"Bokeh: ERROR: Unable to run BokehJS code because BokehJS library is missing\");\n        }\n      }\n    }, 10, root)\n  }\n})(window);",
      "application/vnd.bokehjs_exec.v0+json": ""
     },
     "metadata": {
      "application/vnd.bokehjs_exec.v0+json": {
       "id": "1948"
      }
     },
     "output_type": "display_data"
    }
   ],
   "source": [
    "from bokeh.io import output_file, show\n",
    "from bokeh.layouts import row\n",
    "from bokeh.plotting import figure\n",
    "output_file(\"layout.html\")\n",
    "x = list(range(11))\n",
    "y0 = x\n",
    "y1 = [10 - i for i in x]\n",
    "y2 = [abs(i - 5) for i in x]\n",
    "# create a new plot\n",
    "s1 = figure(plot_width=250, plot_height=250, title=None)\n",
    "s1.circle(x, y0, size=10, color=\"navy\", alpha=0.5)\n",
    "# create another one\n",
    "s2 = figure(plot_width=250, plot_height=250, title=None)\n",
    "s2.triangle(x, y1, size=10, color=\"firebrick\", alpha=0.5)\n",
    "# create and another\n",
    "s3 = figure(plot_width=250, plot_height=250, title=None)\n",
    "s3.square(x, y2, size=10, color=\"olive\", alpha=0.5)\n",
    "# put the results in a row\n",
    "show(row(s1, s2, s3))"
   ]
  },
  {
   "cell_type": "markdown",
   "metadata": {},
   "source": [
    "# Widgets"
   ]
  },
  {
   "cell_type": "markdown",
   "metadata": {},
   "source": [
    "More documentation:\n",
    "https://docs.bokeh.org/en/2.4.0/docs/user_guide/interaction/widgets.html "
   ]
  },
  {
   "cell_type": "markdown",
   "metadata": {},
   "source": [
    "### Button"
   ]
  },
  {
   "cell_type": "code",
   "execution_count": 6,
   "metadata": {},
   "outputs": [
    {
     "data": {
      "text/html": [
       "\n",
       "\n",
       "\n",
       "\n",
       "\n",
       "\n",
       "  <div class=\"bk-root\" id=\"1a337634-eaf4-4451-9c0a-ef14383feed2\" data-root-id=\"2592\"></div>\n"
      ]
     },
     "metadata": {},
     "output_type": "display_data"
    },
    {
     "data": {
      "application/javascript": "(function(root) {\n  function embed_document(root) {\n    \n  const docs_json = {\"4975f0df-7c25-42cc-ad21-24748fdd921c\":{\"defs\":[],\"roots\":{\"references\":[{\"attributes\":{\"button_type\":\"success\",\"icon\":null,\"label\":\"Foo\"},\"id\":\"2592\",\"type\":\"Button\"}],\"root_ids\":[\"2592\"]},\"title\":\"Bokeh Application\",\"version\":\"2.4.2\"}};\n  const render_items = [{\"docid\":\"4975f0df-7c25-42cc-ad21-24748fdd921c\",\"root_ids\":[\"2592\"],\"roots\":{\"2592\":\"1a337634-eaf4-4451-9c0a-ef14383feed2\"}}];\n  root.Bokeh.embed.embed_items_notebook(docs_json, render_items);\n\n  }\n  if (root.Bokeh !== undefined) {\n    embed_document(root);\n  } else {\n    let attempts = 0;\n    const timer = setInterval(function(root) {\n      if (root.Bokeh !== undefined) {\n        clearInterval(timer);\n        embed_document(root);\n      } else {\n        attempts++;\n        if (attempts > 100) {\n          clearInterval(timer);\n          console.log(\"Bokeh: ERROR: Unable to run BokehJS code because BokehJS library is missing\");\n        }\n      }\n    }, 10, root)\n  }\n})(window);",
      "application/vnd.bokehjs_exec.v0+json": ""
     },
     "metadata": {
      "application/vnd.bokehjs_exec.v0+json": {
       "id": "2592"
      }
     },
     "output_type": "display_data"
    }
   ],
   "source": [
    "from bokeh.io import output_file, show\n",
    "from bokeh.layouts import widgetbox\n",
    "from bokeh.models.widgets import Button\n",
    "output_file(\"button.html\")\n",
    "button = Button(label=\"Foo\", button_type=\"success\")\n",
    "show(button)"
   ]
  },
  {
   "cell_type": "markdown",
   "metadata": {},
   "source": [
    "### Select"
   ]
  },
  {
   "cell_type": "code",
   "execution_count": 8,
   "metadata": {},
   "outputs": [
    {
     "data": {
      "text/html": [
       "\n",
       "\n",
       "\n",
       "\n",
       "\n",
       "\n",
       "  <div class=\"bk-root\" id=\"c1f40db8-e682-4c2b-9df0-67f8d9b5ba0c\" data-root-id=\"2743\"></div>\n"
      ]
     },
     "metadata": {},
     "output_type": "display_data"
    },
    {
     "data": {
      "application/javascript": "(function(root) {\n  function embed_document(root) {\n    \n  const docs_json = {\"42b5e36b-8fbe-4380-9a6b-f8aac9743416\":{\"defs\":[],\"roots\":{\"references\":[{\"attributes\":{\"options\":[\"Chezy\",\"Hazen-Williams\",\"Darcy-Weisbach\",\"Manning-Strickler\"],\"title\":\"Method:\",\"value\":\"Chezy\"},\"id\":\"2743\",\"type\":\"Select\"}],\"root_ids\":[\"2743\"]},\"title\":\"Bokeh Application\",\"version\":\"2.4.2\"}};\n  const render_items = [{\"docid\":\"42b5e36b-8fbe-4380-9a6b-f8aac9743416\",\"root_ids\":[\"2743\"],\"roots\":{\"2743\":\"c1f40db8-e682-4c2b-9df0-67f8d9b5ba0c\"}}];\n  root.Bokeh.embed.embed_items_notebook(docs_json, render_items);\n\n  }\n  if (root.Bokeh !== undefined) {\n    embed_document(root);\n  } else {\n    let attempts = 0;\n    const timer = setInterval(function(root) {\n      if (root.Bokeh !== undefined) {\n        clearInterval(timer);\n        embed_document(root);\n      } else {\n        attempts++;\n        if (attempts > 100) {\n          clearInterval(timer);\n          console.log(\"Bokeh: ERROR: Unable to run BokehJS code because BokehJS library is missing\");\n        }\n      }\n    }, 10, root)\n  }\n})(window);",
      "application/vnd.bokehjs_exec.v0+json": ""
     },
     "metadata": {
      "application/vnd.bokehjs_exec.v0+json": {
       "id": "2743"
      }
     },
     "output_type": "display_data"
    }
   ],
   "source": [
    "from bokeh.io import output_file, show\n",
    "from bokeh.layouts import widgetbox\n",
    "from bokeh.models.widgets import  Select\n",
    "select = Select(title=\"Method:\", value=\"Chezy\", options=[\"Chezy\", \"Hazen-Williams\", \"Darcy-Weisbach\", \"Manning-Strickler\"])\n",
    "show(select, width=300)"
   ]
  },
  {
   "cell_type": "markdown",
   "metadata": {},
   "source": [
    "### Slider"
   ]
  },
  {
   "cell_type": "code",
   "execution_count": 9,
   "metadata": {},
   "outputs": [
    {
     "data": {
      "text/html": [
       "\n",
       "\n",
       "\n",
       "\n",
       "\n",
       "\n",
       "  <div class=\"bk-root\" id=\"34edee92-35fd-4f3b-a8b6-ab94f046aaf8\" data-root-id=\"2816\"></div>\n"
      ]
     },
     "metadata": {},
     "output_type": "display_data"
    },
    {
     "data": {
      "application/javascript": "(function(root) {\n  function embed_document(root) {\n    \n  const docs_json = {\"d38b0f6d-440a-4bc2-992e-3ea1e1a2d191\":{\"defs\":[],\"roots\":{\"references\":[{\"attributes\":{\"end\":100,\"start\":1,\"step\":0.1,\"title\":\"Return Period\",\"value\":1},\"id\":\"2816\",\"type\":\"Slider\"}],\"root_ids\":[\"2816\"]},\"title\":\"Bokeh Application\",\"version\":\"2.4.2\"}};\n  const render_items = [{\"docid\":\"d38b0f6d-440a-4bc2-992e-3ea1e1a2d191\",\"root_ids\":[\"2816\"],\"roots\":{\"2816\":\"34edee92-35fd-4f3b-a8b6-ab94f046aaf8\"}}];\n  root.Bokeh.embed.embed_items_notebook(docs_json, render_items);\n\n  }\n  if (root.Bokeh !== undefined) {\n    embed_document(root);\n  } else {\n    let attempts = 0;\n    const timer = setInterval(function(root) {\n      if (root.Bokeh !== undefined) {\n        clearInterval(timer);\n        embed_document(root);\n      } else {\n        attempts++;\n        if (attempts > 100) {\n          clearInterval(timer);\n          console.log(\"Bokeh: ERROR: Unable to run BokehJS code because BokehJS library is missing\");\n        }\n      }\n    }, 10, root)\n  }\n})(window);",
      "application/vnd.bokehjs_exec.v0+json": ""
     },
     "metadata": {
      "application/vnd.bokehjs_exec.v0+json": {
       "id": "2816"
      }
     },
     "output_type": "display_data"
    }
   ],
   "source": [
    "from bokeh.io import output_file, show\n",
    "from bokeh.layouts import widgetbox\n",
    "from bokeh.models.widgets import  Slider\n",
    "slider = Slider(start=1, end=100, value=1, step=.1, title=\"Return Period\")\n",
    "show(slider, height=80)"
   ]
  },
  {
   "cell_type": "markdown",
   "metadata": {},
   "source": [
    "### Radio Button Group"
   ]
  },
  {
   "cell_type": "code",
   "execution_count": 11,
   "metadata": {},
   "outputs": [
    {
     "data": {
      "text/html": [
       "\n",
       "\n",
       "\n",
       "\n",
       "\n",
       "\n",
       "  <div class=\"bk-root\" id=\"56c28db6-8940-4c50-a94c-49450c7a1bad\" data-root-id=\"2962\"></div>\n"
      ]
     },
     "metadata": {},
     "output_type": "display_data"
    },
    {
     "data": {
      "application/javascript": "(function(root) {\n  function embed_document(root) {\n    \n  const docs_json = {\"cf188205-38e2-43b9-943c-031e6cb8e3fd\":{\"defs\":[],\"roots\":{\"references\":[{\"attributes\":{\"active\":0,\"labels\":[\"Scenario A\",\"Scenario B\",\"Scenario C\"]},\"id\":\"2962\",\"type\":\"RadioButtonGroup\"}],\"root_ids\":[\"2962\"]},\"title\":\"Bokeh Application\",\"version\":\"2.4.2\"}};\n  const render_items = [{\"docid\":\"cf188205-38e2-43b9-943c-031e6cb8e3fd\",\"root_ids\":[\"2962\"],\"roots\":{\"2962\":\"56c28db6-8940-4c50-a94c-49450c7a1bad\"}}];\n  root.Bokeh.embed.embed_items_notebook(docs_json, render_items);\n\n  }\n  if (root.Bokeh !== undefined) {\n    embed_document(root);\n  } else {\n    let attempts = 0;\n    const timer = setInterval(function(root) {\n      if (root.Bokeh !== undefined) {\n        clearInterval(timer);\n        embed_document(root);\n      } else {\n        attempts++;\n        if (attempts > 100) {\n          clearInterval(timer);\n          console.log(\"Bokeh: ERROR: Unable to run BokehJS code because BokehJS library is missing\");\n        }\n      }\n    }, 10, root)\n  }\n})(window);",
      "application/vnd.bokehjs_exec.v0+json": ""
     },
     "metadata": {
      "application/vnd.bokehjs_exec.v0+json": {
       "id": "2962"
      }
     },
     "output_type": "display_data"
    }
   ],
   "source": [
    "from bokeh.io import output_file, show\n",
    "from bokeh.layouts import widgetbox\n",
    "from bokeh.models.widgets import RadioButtonGroup\n",
    "button_group = RadioButtonGroup(labels=[\"Scenario A\", \"Scenario B\", \"Scenario C\"], active=0)\n",
    "show(button_group)"
   ]
  },
  {
   "cell_type": "markdown",
   "metadata": {},
   "source": [
    "### Checkbox Group"
   ]
  },
  {
   "cell_type": "code",
   "execution_count": 18,
   "metadata": {},
   "outputs": [
    {
     "data": {
      "text/html": [
       "\n",
       "\n",
       "\n",
       "\n",
       "\n",
       "\n",
       "  <div class=\"bk-root\" id=\"3e199340-9fa6-43d4-93b1-af0ff5733e0e\" data-root-id=\"4990\"></div>\n"
      ]
     },
     "metadata": {},
     "output_type": "display_data"
    },
    {
     "data": {
      "application/javascript": "(function(root) {\n  function embed_document(root) {\n    \n  const docs_json = {\"8de669e0-81f9-46f5-85df-0a326cd5704d\":{\"defs\":[],\"roots\":{\"references\":[{\"attributes\":{\"active\":[0,1],\"js_property_callbacks\":{\"change:active\":[{\"id\":\"4991\"}]},\"labels\":[\"Option 1\",\"Option 2\",\"Option 3\"]},\"id\":\"4990\",\"type\":\"CheckboxGroup\"},{\"attributes\":{\"code\":\"\\n    console.log('checkbox_group: active=' + this.active, this.toString())\\n\"},\"id\":\"4991\",\"type\":\"CustomJS\"}],\"root_ids\":[\"4990\"]},\"title\":\"Bokeh Application\",\"version\":\"2.4.2\"}};\n  const render_items = [{\"docid\":\"8de669e0-81f9-46f5-85df-0a326cd5704d\",\"root_ids\":[\"4990\"],\"roots\":{\"4990\":\"3e199340-9fa6-43d4-93b1-af0ff5733e0e\"}}];\n  root.Bokeh.embed.embed_items_notebook(docs_json, render_items);\n\n  }\n  if (root.Bokeh !== undefined) {\n    embed_document(root);\n  } else {\n    let attempts = 0;\n    const timer = setInterval(function(root) {\n      if (root.Bokeh !== undefined) {\n        clearInterval(timer);\n        embed_document(root);\n      } else {\n        attempts++;\n        if (attempts > 100) {\n          clearInterval(timer);\n          console.log(\"Bokeh: ERROR: Unable to run BokehJS code because BokehJS library is missing\");\n        }\n      }\n    }, 10, root)\n  }\n})(window);",
      "application/vnd.bokehjs_exec.v0+json": ""
     },
     "metadata": {
      "application/vnd.bokehjs_exec.v0+json": {
       "id": "4990"
      }
     },
     "output_type": "display_data"
    }
   ],
   "source": [
    "from bokeh.io import show\n",
    "from bokeh.models import CheckboxGroup, CustomJS\n",
    "\n",
    "LABELS = [\"Option 1\", \"Option 2\", \"Option 3\"]\n",
    "\n",
    "checkbox_group = CheckboxGroup(labels=LABELS, active=[0, 1])\n",
    "checkbox_group.js_on_click(CustomJS(code=\"\"\"\n",
    "    console.log('checkbox_group: active=' + this.active, this.toString())\n",
    "\"\"\"))\n",
    "\n",
    "show(checkbox_group)"
   ]
  },
  {
   "cell_type": "markdown",
   "metadata": {},
   "source": [
    "### Data Table"
   ]
  },
  {
   "cell_type": "code",
   "execution_count": 26,
   "metadata": {},
   "outputs": [
    {
     "data": {
      "text/html": [
       "\n",
       "\n",
       "\n",
       "\n",
       "\n",
       "\n",
       "  <div class=\"bk-root\" id=\"d1f25d2b-47ef-4ae6-822c-0237d351fb87\" data-root-id=\"6686\"></div>\n"
      ]
     },
     "metadata": {},
     "output_type": "display_data"
    },
    {
     "data": {
      "application/javascript": "(function(root) {\n  function embed_document(root) {\n    \n  const docs_json = {\"8600e04b-c076-441b-9e7b-5ec999cc16bc\":{\"defs\":[],\"roots\":{\"references\":[{\"attributes\":{\"columns\":[{\"id\":\"6683\"},{\"id\":\"6685\"}],\"height\":280,\"source\":{\"id\":\"6681\"},\"view\":{\"id\":\"6688\"},\"width\":400},\"id\":\"6686\",\"type\":\"DataTable\"},{\"attributes\":{},\"id\":\"6848\",\"type\":\"UnionRenderers\"},{\"attributes\":{},\"id\":\"6847\",\"type\":\"StringEditor\"},{\"attributes\":{\"editor\":{\"id\":\"6845\"},\"field\":\"dates\",\"formatter\":{\"id\":\"6682\"},\"title\":\"Date\"},\"id\":\"6683\",\"type\":\"TableColumn\"},{\"attributes\":{},\"id\":\"6849\",\"type\":\"Selection\"},{\"attributes\":{},\"id\":\"6846\",\"type\":\"StringFormatter\"},{\"attributes\":{\"data\":{\"dates\":[\"2014-03-01\",\"2014-03-02\",\"2014-03-03\",\"2014-03-04\",\"2014-03-05\",\"2014-03-06\",\"2014-03-07\",\"2014-03-08\",\"2014-03-09\",\"2014-03-10\"],\"downloads\":[38,56,88,69,91,47,73,37,21,76]},\"selected\":{\"id\":\"6849\"},\"selection_policy\":{\"id\":\"6848\"}},\"id\":\"6681\",\"type\":\"ColumnDataSource\"},{\"attributes\":{},\"id\":\"6682\",\"type\":\"DateFormatter\"},{\"attributes\":{\"editor\":{\"id\":\"6847\"},\"field\":\"downloads\",\"formatter\":{\"id\":\"6846\"},\"title\":\"Downloads\"},\"id\":\"6685\",\"type\":\"TableColumn\"},{\"attributes\":{\"source\":{\"id\":\"6681\"}},\"id\":\"6688\",\"type\":\"CDSView\"},{\"attributes\":{},\"id\":\"6845\",\"type\":\"StringEditor\"}],\"root_ids\":[\"6686\"]},\"title\":\"Bokeh Application\",\"version\":\"2.4.2\"}};\n  const render_items = [{\"docid\":\"8600e04b-c076-441b-9e7b-5ec999cc16bc\",\"root_ids\":[\"6686\"],\"roots\":{\"6686\":\"d1f25d2b-47ef-4ae6-822c-0237d351fb87\"}}];\n  root.Bokeh.embed.embed_items_notebook(docs_json, render_items);\n\n  }\n  if (root.Bokeh !== undefined) {\n    embed_document(root);\n  } else {\n    let attempts = 0;\n    const timer = setInterval(function(root) {\n      if (root.Bokeh !== undefined) {\n        clearInterval(timer);\n        embed_document(root);\n      } else {\n        attempts++;\n        if (attempts > 100) {\n          clearInterval(timer);\n          console.log(\"Bokeh: ERROR: Unable to run BokehJS code because BokehJS library is missing\");\n        }\n      }\n    }, 10, root)\n  }\n})(window);",
      "application/vnd.bokehjs_exec.v0+json": ""
     },
     "metadata": {
      "application/vnd.bokehjs_exec.v0+json": {
       "id": "6686"
      }
     },
     "output_type": "display_data"
    }
   ],
   "source": [
    "from datetime import date\n",
    "from random import randint\n",
    "from bokeh.io import show\n",
    "from bokeh.models import ColumnDataSource, DataTable, DateFormatter, TableColumn\n",
    "\n",
    "data = dict(\n",
    "        dates=[date(2014, 3, i+1) for i in range(10)],\n",
    "        downloads=[randint(0, 100) for i in range(10)],\n",
    "    )\n",
    "source = ColumnDataSource(data)\n",
    "\n",
    "columns = [\n",
    "        TableColumn(field=\"dates\", title=\"Date\", formatter=DateFormatter()),\n",
    "        TableColumn(field=\"downloads\", title=\"Downloads\"),\n",
    "    ]\n",
    "data_table = DataTable(source=source, columns=columns, width=400, height=280)\n",
    "\n",
    "show(data_table)"
   ]
  },
  {
   "cell_type": "markdown",
   "metadata": {},
   "source": [
    "### DatePicker"
   ]
  },
  {
   "cell_type": "code",
   "execution_count": 25,
   "metadata": {},
   "outputs": [
    {
     "data": {
      "text/html": [
       "\n",
       "\n",
       "\n",
       "\n",
       "\n",
       "\n",
       "  <div class=\"bk-root\" id=\"70d2cd3e-f2f4-4ddf-9f52-d3ff5f72735e\" data-root-id=\"6522\"></div>\n"
      ]
     },
     "metadata": {},
     "output_type": "display_data"
    },
    {
     "data": {
      "application/javascript": "(function(root) {\n  function embed_document(root) {\n    \n  const docs_json = {\"0c2f3fb4-e97b-4b7d-b31d-b2afc0cd399e\":{\"defs\":[],\"roots\":{\"references\":[{\"attributes\":{\"js_property_callbacks\":{\"change:value\":[{\"id\":\"6523\"}]},\"max_date\":\"2019-10-30\",\"min_date\":\"2019-08-01\",\"title\":\"Select date\",\"value\":\"2019-09-20\"},\"id\":\"6522\",\"type\":\"DatePicker\"},{\"attributes\":{\"code\":\"\\n    console.log('date_picker: value=' + this.value, this.toString())\\n\"},\"id\":\"6523\",\"type\":\"CustomJS\"}],\"root_ids\":[\"6522\"]},\"title\":\"Bokeh Application\",\"version\":\"2.4.2\"}};\n  const render_items = [{\"docid\":\"0c2f3fb4-e97b-4b7d-b31d-b2afc0cd399e\",\"root_ids\":[\"6522\"],\"roots\":{\"6522\":\"70d2cd3e-f2f4-4ddf-9f52-d3ff5f72735e\"}}];\n  root.Bokeh.embed.embed_items_notebook(docs_json, render_items);\n\n  }\n  if (root.Bokeh !== undefined) {\n    embed_document(root);\n  } else {\n    let attempts = 0;\n    const timer = setInterval(function(root) {\n      if (root.Bokeh !== undefined) {\n        clearInterval(timer);\n        embed_document(root);\n      } else {\n        attempts++;\n        if (attempts > 100) {\n          clearInterval(timer);\n          console.log(\"Bokeh: ERROR: Unable to run BokehJS code because BokehJS library is missing\");\n        }\n      }\n    }, 10, root)\n  }\n})(window);",
      "application/vnd.bokehjs_exec.v0+json": ""
     },
     "metadata": {
      "application/vnd.bokehjs_exec.v0+json": {
       "id": "6522"
      }
     },
     "output_type": "display_data"
    }
   ],
   "source": [
    "from bokeh.io import show\n",
    "from bokeh.models import CustomJS, DatePicker\n",
    "\n",
    "date_picker = DatePicker(title='Select date', value=\"2019-09-20\", min_date=\"2019-08-01\", max_date=\"2019-10-30\")\n",
    "date_picker.js_on_change(\"value\", CustomJS(code=\"\"\"\n",
    "    console.log('date_picker: value=' + this.value, this.toString())\n",
    "\"\"\"))\n",
    "\n",
    "show(date_picker)"
   ]
  },
  {
   "cell_type": "markdown",
   "metadata": {},
   "source": [
    "### Dropdown"
   ]
  },
  {
   "cell_type": "code",
   "execution_count": 24,
   "metadata": {},
   "outputs": [
    {
     "data": {
      "text/html": [
       "\n",
       "\n",
       "\n",
       "\n",
       "\n",
       "\n",
       "  <div class=\"bk-root\" id=\"abb806e7-6d9f-409b-9174-e57b98bb3a7d\" data-root-id=\"6363\"></div>\n"
      ]
     },
     "metadata": {},
     "output_type": "display_data"
    },
    {
     "data": {
      "application/javascript": "(function(root) {\n  function embed_document(root) {\n    \n  const docs_json = {\"60ab9f54-221a-4e52-8f3f-19642bd1fbc9\":{\"defs\":[],\"roots\":{\"references\":[{\"attributes\":{\"button_type\":\"warning\",\"icon\":null,\"js_event_callbacks\":{\"menu_item_click\":[{\"id\":\"6364\"}]},\"label\":\"Select an option\",\"menu\":[[\"Selection 1\",\"item_1\"],[\"Selection 2\",\"item_2\"],[\"Selection 3\",\"item_3\"]]},\"id\":\"6363\",\"type\":\"Dropdown\"},{\"attributes\":{\"code\":\"console.log('dropdown: ' + this.item, this.toString())\"},\"id\":\"6364\",\"type\":\"CustomJS\"}],\"root_ids\":[\"6363\"]},\"title\":\"Bokeh Application\",\"version\":\"2.4.2\"}};\n  const render_items = [{\"docid\":\"60ab9f54-221a-4e52-8f3f-19642bd1fbc9\",\"root_ids\":[\"6363\"],\"roots\":{\"6363\":\"abb806e7-6d9f-409b-9174-e57b98bb3a7d\"}}];\n  root.Bokeh.embed.embed_items_notebook(docs_json, render_items);\n\n  }\n  if (root.Bokeh !== undefined) {\n    embed_document(root);\n  } else {\n    let attempts = 0;\n    const timer = setInterval(function(root) {\n      if (root.Bokeh !== undefined) {\n        clearInterval(timer);\n        embed_document(root);\n      } else {\n        attempts++;\n        if (attempts > 100) {\n          clearInterval(timer);\n          console.log(\"Bokeh: ERROR: Unable to run BokehJS code because BokehJS library is missing\");\n        }\n      }\n    }, 10, root)\n  }\n})(window);",
      "application/vnd.bokehjs_exec.v0+json": ""
     },
     "metadata": {
      "application/vnd.bokehjs_exec.v0+json": {
       "id": "6363"
      }
     },
     "output_type": "display_data"
    }
   ],
   "source": [
    "from bokeh.io import show\n",
    "from bokeh.models import CustomJS, Dropdown\n",
    "\n",
    "menu = [(\"Selection 1\", \"item_1\"), (\"Selection 2\", \"item_2\"), (\"Selection 3\", \"item_3\")]\n",
    "\n",
    "dropdown = Dropdown(label=\"Select an option\", button_type=\"warning\", menu=menu)\n",
    "dropdown.js_on_event(\"menu_item_click\", CustomJS(code=\"console.log('dropdown: ' + this.item, this.toString())\"))\n",
    "\n",
    "show(dropdown)"
   ]
  },
  {
   "cell_type": "markdown",
   "metadata": {},
   "source": [
    "### Spinner"
   ]
  },
  {
   "cell_type": "code",
   "execution_count": 21,
   "metadata": {},
   "outputs": [
    {
     "data": {
      "text/html": [
       "\n",
       "\n",
       "\n",
       "\n",
       "\n",
       "\n",
       "  <div class=\"bk-root\" id=\"baeae840-6ae5-4faf-832d-94c8e99378fe\" data-root-id=\"5689\"></div>\n"
      ]
     },
     "metadata": {},
     "output_type": "display_data"
    },
    {
     "data": {
      "application/javascript": "(function(root) {\n  function embed_document(root) {\n    \n  const docs_json = {\"16ad0f17-ec0f-4f2d-ac9b-dc981603c337\":{\"defs\":[],\"roots\":{\"references\":[{\"attributes\":{\"children\":[{\"id\":\"5688\"},{\"id\":\"5649\"}]},\"id\":\"5689\",\"type\":\"Row\"},{\"attributes\":{\"bottom_units\":\"screen\",\"coordinates\":null,\"fill_alpha\":0.5,\"fill_color\":\"lightgrey\",\"group\":null,\"left_units\":\"screen\",\"level\":\"overlay\",\"line_alpha\":1.0,\"line_color\":\"black\",\"line_dash\":[4,4],\"line_width\":2,\"right_units\":\"screen\",\"syncable\":false,\"top_units\":\"screen\"},\"id\":\"5672\",\"type\":\"BoxAnnotation\"},{\"attributes\":{},\"id\":\"5843\",\"type\":\"UnionRenderers\"},{\"attributes\":{\"high\":40,\"js_property_callbacks\":{\"change:value\":[{\"id\":\"5687\"}]},\"low\":1,\"step\":0.5,\"title\":\"Glyph size\",\"value\":4,\"value_throttled\":4,\"width\":80},\"id\":\"5686\",\"type\":\"Spinner\"},{\"attributes\":{},\"id\":\"5844\",\"type\":\"Selection\"},{\"attributes\":{},\"id\":\"5842\",\"type\":\"AllLabels\"},{\"attributes\":{},\"id\":\"5654\",\"type\":\"LinearScale\"},{\"attributes\":{\"coordinates\":null,\"formatter\":{\"id\":\"5841\"},\"group\":null,\"major_label_policy\":{\"id\":\"5842\"},\"ticker\":{\"id\":\"5659\"}},\"id\":\"5658\",\"type\":\"LinearAxis\"},{\"attributes\":{},\"id\":\"5841\",\"type\":\"BasicTickFormatter\"},{\"attributes\":{},\"id\":\"5839\",\"type\":\"AllLabels\"},{\"attributes\":{},\"id\":\"5652\",\"type\":\"Range1d\"},{\"attributes\":{\"fill_color\":{\"value\":\"#1f77b4\"},\"line_color\":{\"value\":\"#1f77b4\"},\"x\":{\"field\":\"x\"},\"y\":{\"field\":\"y\"}},\"id\":\"5681\",\"type\":\"Scatter\"},{\"attributes\":{\"children\":[{\"id\":\"5686\"}],\"width\":100},\"id\":\"5688\",\"type\":\"Column\"},{\"attributes\":{},\"id\":\"5656\",\"type\":\"LinearScale\"},{\"attributes\":{\"axis\":{\"id\":\"5658\"},\"coordinates\":null,\"group\":null,\"ticker\":null},\"id\":\"5661\",\"type\":\"Grid\"},{\"attributes\":{},\"id\":\"5838\",\"type\":\"BasicTickFormatter\"},{\"attributes\":{\"fill_alpha\":{\"value\":0.2},\"fill_color\":{\"value\":\"#1f77b4\"},\"hatch_alpha\":{\"value\":0.2},\"line_alpha\":{\"value\":0.2},\"line_color\":{\"value\":\"#1f77b4\"},\"x\":{\"field\":\"x\"},\"y\":{\"field\":\"y\"}},\"id\":\"5683\",\"type\":\"Scatter\"},{\"attributes\":{\"overlay\":{\"id\":\"5672\"}},\"id\":\"5668\",\"type\":\"BoxZoomTool\"},{\"attributes\":{},\"id\":\"5650\",\"type\":\"Range1d\"},{\"attributes\":{\"fill_alpha\":{\"value\":0.1},\"fill_color\":{\"value\":\"#1f77b4\"},\"hatch_alpha\":{\"value\":0.1},\"line_alpha\":{\"value\":0.1},\"line_color\":{\"value\":\"#1f77b4\"},\"x\":{\"field\":\"x\"},\"y\":{\"field\":\"y\"}},\"id\":\"5682\",\"type\":\"Scatter\"},{\"attributes\":{},\"id\":\"5667\",\"type\":\"WheelZoomTool\"},{\"attributes\":{\"tools\":[{\"id\":\"5666\"},{\"id\":\"5667\"},{\"id\":\"5668\"},{\"id\":\"5669\"},{\"id\":\"5670\"},{\"id\":\"5671\"}]},\"id\":\"5673\",\"type\":\"Toolbar\"},{\"attributes\":{},\"id\":\"5671\",\"type\":\"HelpTool\"},{\"attributes\":{},\"id\":\"5659\",\"type\":\"BasicTicker\"},{\"attributes\":{\"coordinates\":null,\"data_source\":{\"id\":\"5680\"},\"glyph\":{\"id\":\"5681\"},\"group\":null,\"hover_glyph\":null,\"muted_glyph\":{\"id\":\"5683\"},\"nonselection_glyph\":{\"id\":\"5682\"},\"view\":{\"id\":\"5685\"}},\"id\":\"5684\",\"type\":\"GlyphRenderer\"},{\"attributes\":{\"below\":[{\"id\":\"5658\"}],\"center\":[{\"id\":\"5661\"},{\"id\":\"5665\"}],\"left\":[{\"id\":\"5662\"}],\"renderers\":[{\"id\":\"5684\"}],\"title\":{\"id\":\"5835\"},\"toolbar\":{\"id\":\"5673\"},\"x_range\":{\"id\":\"5650\"},\"x_scale\":{\"id\":\"5654\"},\"y_range\":{\"id\":\"5652\"},\"y_scale\":{\"id\":\"5656\"}},\"id\":\"5649\",\"subtype\":\"Figure\",\"type\":\"Plot\"},{\"attributes\":{},\"id\":\"5666\",\"type\":\"PanTool\"},{\"attributes\":{\"coordinates\":null,\"formatter\":{\"id\":\"5838\"},\"group\":null,\"major_label_policy\":{\"id\":\"5839\"},\"ticker\":{\"id\":\"5663\"}},\"id\":\"5662\",\"type\":\"LinearAxis\"},{\"attributes\":{\"args\":{\"other\":{\"id\":\"5681\"}},\"code\":\"other.size = this.value\"},\"id\":\"5687\",\"type\":\"CustomJS\"},{\"attributes\":{},\"id\":\"5670\",\"type\":\"ResetTool\"},{\"attributes\":{\"axis\":{\"id\":\"5662\"},\"coordinates\":null,\"dimension\":1,\"group\":null,\"ticker\":null},\"id\":\"5665\",\"type\":\"Grid\"},{\"attributes\":{\"source\":{\"id\":\"5680\"}},\"id\":\"5685\",\"type\":\"CDSView\"},{\"attributes\":{\"coordinates\":null,\"group\":null},\"id\":\"5835\",\"type\":\"Title\"},{\"attributes\":{},\"id\":\"5669\",\"type\":\"SaveTool\"},{\"attributes\":{},\"id\":\"5663\",\"type\":\"BasicTicker\"},{\"attributes\":{\"data\":{\"x\":{\"__ndarray__\":\"SmKlrWjz5z80pCUeF1bCPzqMkQ3HM9M/rPQNpmdq5D+9/h9VfbvmP5rL/f1JCe4/WAwSJWUwsz+0b3vJ/P7QP6gIvPCausU/WFnIrGdV3z9QwpQtikK2Pw5Bpr8zhdY/2CR0VLjX7D+ElOKjisboP0aqqCqmJdE/aBIyOaVfvz+gtOQdr9jtP4JKxtNxOOM/VPewC1f0zT+IysslybPWPyQARrWmOsg/KPjX8f3dxz9fPhN5yEziP0HvulVkYuc/zUCzIPIs5T8FMuwVGNPlPydBUG/HyOU/DhLcPcg86z/YKE28zhvWP2z9qiIupdg/CO8Auj/LvT/I+qlyT67tPwxRftio8eI/2E+CtcL0xz8IUw74mz/EP2ZGvtXr6t4/YQ7/iVC14z8+QGyEKGDQP+SOU6osV9c/1g9oVwwg6z/cXkhJ957eP7Nrz06j9e8/+HEXAKGn6T8da9gKG7fvP+UUrDoyQOE/2MtR0d7Tyz8rVmVAwmPvPzxtpcPi7uI/oMEw120S6T/1kUXeVkfmPyI/ewVwG+c/hG5g1uHbyD+paCiAOWThP9Fk+0S8IeM/JII7RYcF3j+waMUN6bvvP0KLvzFReNM/nuuEgEXC6j/A5kyWTT/AP/f2RnNSjeQ/mOcwShCqxD9D1nM7Jm7pPzDTzco/48Y/5375Nj7J7z80eJXd0jjLP4pANYGT0u8/ksgsy/Mt7z/sEmxgHeHfP6ClyJqVOaI/aoQVBfy32j+U/CNHs27oP+TxgNPbxuQ/QPc8hj8FtD/GU2ZBzs3TPxAwa7jkKrw/PFSdg5sdxz+A+xt3WmCKP1E6jpIDVuM/t9/ym3a14D9AQIaQr9eDPxXeyhMwyO4/UB8nwyGLxj8uIU8h6TDjP1eQxUWyIeU/EbeThhLw7j+4SiLYybvrP1q37t2Y2NU/P2VbN7ab4j+87QqgMsPMP9RprxNaH8o/xCl9eRn2yT+oHkW8LEK5P77cjoeU1uI/vDLE1iAmzj9+0yZt2E7qP/c2kxyZ/eE/DBJbFkil4z9ghqRUE9WiP740iq2XDOw/sOsMIVh1tj8=\",\"dtype\":\"float64\",\"order\":\"little\",\"shape\":[100]},\"y\":{\"__ndarray__\":\"s6ncRzEa5z+zln49Ms7pP5oguO/52+w/0GW1r/oi4T8Ev9ff0X/LP8zBiRrb/eQ/eFUnwWmSsD+mRkbezdjvPwZ28P5VXe8/AKIk/PfBUT/OGODOuWnVP/D/hnQKU+0/0PB7ARbG7j8jgdeUqcjpP0pelQgMnO8/3u9E6+d74T/CSGPReGXvPzVMm47iQOI/ANtvHfiUoD+UviF3IlbWP+nonHInUOs/ZvNGi1VC7j9b3qr8BwPsP+x2e28ZS88/l/7zksLx7D/Y4ppxl27bPygmfCM6GMc/esoIFnWy7T/i5oNOQSzeP6YQASlQEN4/SPoZgNse5D9KsHN0czbVPyj2AIdr+Nw/xKe4LSaU5D8zC7srrQ/mP1OAaWA6CeM/vEm4SBoH4z98WBhCb+rZP1h2yeg8tes/TNfcPW9jzT/JOeeCi8PgP2hWru3Posk/wO6OgIUrlT8gg4upQI6ePwHtQbyR6+A/vJD5SwrR1D+4Y/2Jqj+8PwF8/W1kfuA/IC3ImBRZlz9AtoWWr4PVPyG8ruhQDeA/YGEc1181vT+wLXHM0hW7P+fqbTmLX+M/twv3ShNM7T8w0LiX7dzcP7bL9MYCNtE/EJz9hMa9zD8EdFDqWFvPP4jEJnNJocY//7o+fEwO4z+wvFz18QjcP8AigiK50cI/fG7Nzrri5T8JJbDTBProP9D7a0+9es0/Ig1XFsta5D9rCQwn6BrlP1melPNXquI/og4VtSHC6j8su+7KvtvoP9tHtIrom+Y/QrMZOfbp4D/gJu0L5deYP2AgdJBUuZY/WjIbRql54z/PdCmrjO/uP5c57d3mMOc/C+MSj7zS7z8QsB3bQB/JPxjt5DEWdOY/CKmrMfePyz9YegHy8ajbP36Ji9u3v+k/sfSQKHx77j/gQxiJOsbBP249bv3ks+Q/qHet9Wv/4j8QpZLa3E7tP/lJQryM7+E/XdfgXghX5z/w6s3Iw97nP4T+hXalSeM/08FhTJGK7j+uevHUrMDfPx4ZJgwhVtY/IfnPzu5t4D9H43xfKqPuP6BKLF1vQsY/MdMrpYba7D8=\",\"dtype\":\"float64\",\"order\":\"little\",\"shape\":[100]}},\"selected\":{\"id\":\"5844\"},\"selection_policy\":{\"id\":\"5843\"}},\"id\":\"5680\",\"type\":\"ColumnDataSource\"}],\"root_ids\":[\"5689\"]},\"title\":\"Bokeh Application\",\"version\":\"2.4.2\"}};\n  const render_items = [{\"docid\":\"16ad0f17-ec0f-4f2d-ac9b-dc981603c337\",\"root_ids\":[\"5689\"],\"roots\":{\"5689\":\"baeae840-6ae5-4faf-832d-94c8e99378fe\"}}];\n  root.Bokeh.embed.embed_items_notebook(docs_json, render_items);\n\n  }\n  if (root.Bokeh !== undefined) {\n    embed_document(root);\n  } else {\n    let attempts = 0;\n    const timer = setInterval(function(root) {\n      if (root.Bokeh !== undefined) {\n        clearInterval(timer);\n        embed_document(root);\n      } else {\n        attempts++;\n        if (attempts > 100) {\n          clearInterval(timer);\n          console.log(\"Bokeh: ERROR: Unable to run BokehJS code because BokehJS library is missing\");\n        }\n      }\n    }, 10, root)\n  }\n})(window);",
      "application/vnd.bokehjs_exec.v0+json": ""
     },
     "metadata": {
      "application/vnd.bokehjs_exec.v0+json": {
       "id": "5689"
      }
     },
     "output_type": "display_data"
    }
   ],
   "source": [
    "import numpy as np\n",
    "from bokeh.io import show\n",
    "from bokeh.layouts import column, row\n",
    "from bokeh.models import Spinner\n",
    "from bokeh.plotting import figure\n",
    "\n",
    "x = np.random.rand(100)\n",
    "y = np.random.rand(100)\n",
    "\n",
    "p = figure(x_range=(0, 1), y_range=(0, 1))\n",
    "points = p.scatter(x=x, y=y, size=4)\n",
    "\n",
    "spinner = Spinner(title=\"Glyph size\", low=1, high=40, step=0.5, value=4, width=80)\n",
    "spinner.js_link('value', points.glyph, 'size')\n",
    "\n",
    "show(row(column(spinner, width=100), p))"
   ]
  },
  {
   "cell_type": "markdown",
   "metadata": {},
   "source": [
    "### TextInput"
   ]
  },
  {
   "cell_type": "code",
   "execution_count": 19,
   "metadata": {},
   "outputs": [
    {
     "data": {
      "text/html": [
       "\n",
       "\n",
       "\n",
       "\n",
       "\n",
       "\n",
       "  <div class=\"bk-root\" id=\"a357de06-b770-472b-b90d-24752500537b\" data-root-id=\"5127\"></div>\n"
      ]
     },
     "metadata": {},
     "output_type": "display_data"
    },
    {
     "data": {
      "application/javascript": "(function(root) {\n  function embed_document(root) {\n    \n  const docs_json = {\"b9e519b7-f64d-4a25-af71-015cfbabbde8\":{\"defs\":[],\"roots\":{\"references\":[{\"attributes\":{\"js_property_callbacks\":{\"change:value\":[{\"id\":\"5128\"}]},\"title\":\"Name:\",\"value\":\"John Doe\"},\"id\":\"5127\",\"type\":\"TextInput\"},{\"attributes\":{\"code\":\"\\n    console.log('text_input: value=' + this.value, this.toString())\\n\"},\"id\":\"5128\",\"type\":\"CustomJS\"}],\"root_ids\":[\"5127\"]},\"title\":\"Bokeh Application\",\"version\":\"2.4.2\"}};\n  const render_items = [{\"docid\":\"b9e519b7-f64d-4a25-af71-015cfbabbde8\",\"root_ids\":[\"5127\"],\"roots\":{\"5127\":\"a357de06-b770-472b-b90d-24752500537b\"}}];\n  root.Bokeh.embed.embed_items_notebook(docs_json, render_items);\n\n  }\n  if (root.Bokeh !== undefined) {\n    embed_document(root);\n  } else {\n    let attempts = 0;\n    const timer = setInterval(function(root) {\n      if (root.Bokeh !== undefined) {\n        clearInterval(timer);\n        embed_document(root);\n      } else {\n        attempts++;\n        if (attempts > 100) {\n          clearInterval(timer);\n          console.log(\"Bokeh: ERROR: Unable to run BokehJS code because BokehJS library is missing\");\n        }\n      }\n    }, 10, root)\n  }\n})(window);",
      "application/vnd.bokehjs_exec.v0+json": ""
     },
     "metadata": {
      "application/vnd.bokehjs_exec.v0+json": {
       "id": "5127"
      }
     },
     "output_type": "display_data"
    }
   ],
   "source": [
    "from bokeh.io import show\n",
    "from bokeh.models import CustomJS, TextInput\n",
    "\n",
    "text_input = TextInput(value=\"John Doe\", title=\"Name:\")\n",
    "text_input.js_on_change(\"value\", CustomJS(code=\"\"\"\n",
    "    console.log('text_input: value=' + this.value, this.toString())\n",
    "\"\"\"))\n",
    "\n",
    "show(text_input)"
   ]
  },
  {
   "cell_type": "markdown",
   "metadata": {},
   "source": [
    "# Multiple Widgets"
   ]
  },
  {
   "cell_type": "code",
   "execution_count": 12,
   "metadata": {},
   "outputs": [
    {
     "name": "stderr",
     "output_type": "stream",
     "text": [
      "BokehDeprecationWarning: 'WidgetBox' is deprecated and will be removed in Bokeh 3.0, use 'bokeh.models.Column' instead\n"
     ]
    },
    {
     "data": {
      "text/html": [
       "\n",
       "\n",
       "\n",
       "\n",
       "\n",
       "\n",
       "  <div class=\"bk-root\" id=\"eeb0adae-7fc5-442d-ac39-b98c8efc93f2\" data-root-id=\"3040\"></div>\n"
      ]
     },
     "metadata": {},
     "output_type": "display_data"
    },
    {
     "data": {
      "application/javascript": "(function(root) {\n  function embed_document(root) {\n    \n  const docs_json = {\"397a8ade-6ea0-40cb-8dbd-dec7bd04c93d\":{\"defs\":[],\"roots\":{\"references\":[{\"attributes\":{\"children\":[{\"id\":\"3038\"},{\"id\":\"3035\"},{\"id\":\"3036\"},{\"id\":\"3037\"},{\"id\":\"3039\"}],\"width\":300},\"id\":\"3040\",\"type\":\"WidgetBox\"},{\"attributes\":{\"active\":0,\"labels\":[\"Option 1\",\"Option 2\",\"Option 3\"]},\"id\":\"3036\",\"type\":\"RadioButtonGroup\"},{\"attributes\":{\"end\":10,\"start\":0,\"step\":0.1,\"title\":\"Slider\",\"value\":1},\"id\":\"3035\",\"type\":\"Slider\"},{\"attributes\":{\"options\":[\"foo\",\"bar\",\"baz\",\"quux\"],\"title\":\"Option:\",\"value\":\"foo\"},\"id\":\"3037\",\"type\":\"Select\"},{\"attributes\":{\"icon\":null,\"label\":\"Button 1\"},\"id\":\"3038\",\"type\":\"Button\"},{\"attributes\":{\"icon\":null,\"label\":\"Button 2\"},\"id\":\"3039\",\"type\":\"Button\"}],\"root_ids\":[\"3040\"]},\"title\":\"Bokeh Application\",\"version\":\"2.4.2\"}};\n  const render_items = [{\"docid\":\"397a8ade-6ea0-40cb-8dbd-dec7bd04c93d\",\"root_ids\":[\"3040\"],\"roots\":{\"3040\":\"eeb0adae-7fc5-442d-ac39-b98c8efc93f2\"}}];\n  root.Bokeh.embed.embed_items_notebook(docs_json, render_items);\n\n  }\n  if (root.Bokeh !== undefined) {\n    embed_document(root);\n  } else {\n    let attempts = 0;\n    const timer = setInterval(function(root) {\n      if (root.Bokeh !== undefined) {\n        clearInterval(timer);\n        embed_document(root);\n      } else {\n        attempts++;\n        if (attempts > 100) {\n          clearInterval(timer);\n          console.log(\"Bokeh: ERROR: Unable to run BokehJS code because BokehJS library is missing\");\n        }\n      }\n    }, 10, root)\n  }\n})(window);",
      "application/vnd.bokehjs_exec.v0+json": ""
     },
     "metadata": {
      "application/vnd.bokehjs_exec.v0+json": {
       "id": "3040"
      }
     },
     "output_type": "display_data"
    }
   ],
   "source": [
    "from bokeh.io import output_file, show\n",
    "from bokeh.layouts import widgetbox\n",
    "from bokeh.models.widgets import Button, RadioButtonGroup, Select, Slider\n",
    "output_file(\"layout_widgets.html\")\n",
    "# create some widgets\n",
    "slider = Slider(start=0, end=10, value=1, step=.1, title=\"Slider\")\n",
    "button_group = RadioButtonGroup(labels=[\"Option 1\", \"Option 2\", \"Option 3\"], active=0)\n",
    "select = Select(title=\"Option:\", value=\"foo\", options=[\"foo\", \"bar\", \"baz\", \"quux\"])\n",
    "button_1 = Button(label=\"Button 1\")\n",
    "button_2 = Button(label=\"Button 2\")\n",
    "# put the results in a row\n",
    "show(widgetbox(button_1, slider, button_group, select, button_2, width=300))"
   ]
  },
  {
   "cell_type": "markdown",
   "metadata": {},
   "source": [
    "## Gridplot"
   ]
  },
  {
   "cell_type": "code",
   "execution_count": 13,
   "metadata": {},
   "outputs": [
    {
     "data": {
      "text/html": [
       "\n",
       "\n",
       "\n",
       "\n",
       "\n",
       "\n",
       "  <div class=\"bk-root\" id=\"a843bf37-aea2-470b-8398-9b38fb7acba5\" data-root-id=\"3263\"></div>\n"
      ]
     },
     "metadata": {},
     "output_type": "display_data"
    },
    {
     "data": {
      "application/javascript": "(function(root) {\n  function embed_document(root) {\n    \n  const docs_json = {\"247c266e-4a74-45c7-9103-6e50426b6ee7\":{\"defs\":[],\"roots\":{\"references\":[{\"attributes\":{\"children\":[{\"id\":\"3262\"},{\"id\":\"3260\"}]},\"id\":\"3263\",\"type\":\"Column\"},{\"attributes\":{},\"id\":\"3174\",\"type\":\"HelpTool\"},{\"attributes\":{},\"id\":\"3166\",\"type\":\"BasicTicker\"},{\"attributes\":{\"fill_alpha\":{\"value\":0.1},\"fill_color\":{\"value\":\"#208F8C\"},\"hatch_alpha\":{\"value\":0.1},\"hatch_color\":{\"value\":\"#208F8C\"},\"line_alpha\":{\"value\":0.1},\"line_color\":{\"value\":\"#208F8C\"},\"marker\":{\"value\":\"triangle\"},\"size\":{\"value\":10},\"x\":{\"field\":\"x\"},\"y\":{\"field\":\"y\"}},\"id\":\"3185\",\"type\":\"Scatter\"},{\"attributes\":{},\"id\":\"3157\",\"type\":\"LinearScale\"},{\"attributes\":{},\"id\":\"3159\",\"type\":\"LinearScale\"},{\"attributes\":{\"axis\":{\"id\":\"3165\"},\"coordinates\":null,\"dimension\":1,\"group\":null,\"ticker\":null},\"id\":\"3168\",\"type\":\"Grid\"},{\"attributes\":{},\"id\":\"3170\",\"type\":\"WheelZoomTool\"},{\"attributes\":{},\"id\":\"3169\",\"type\":\"PanTool\"},{\"attributes\":{\"overlay\":{\"id\":\"3175\"}},\"id\":\"3171\",\"type\":\"BoxZoomTool\"},{\"attributes\":{},\"id\":\"3172\",\"type\":\"SaveTool\"},{\"attributes\":{},\"id\":\"3173\",\"type\":\"ResetTool\"},{\"attributes\":{\"bottom_units\":\"screen\",\"coordinates\":null,\"fill_alpha\":0.5,\"fill_color\":\"lightgrey\",\"group\":null,\"left_units\":\"screen\",\"level\":\"overlay\",\"line_alpha\":1.0,\"line_color\":\"black\",\"line_dash\":[4,4],\"line_width\":2,\"right_units\":\"screen\",\"syncable\":false,\"top_units\":\"screen\"},\"id\":\"3175\",\"type\":\"BoxAnnotation\"},{\"attributes\":{\"coordinates\":null,\"data_source\":{\"id\":\"3183\"},\"glyph\":{\"id\":\"3184\"},\"group\":null,\"hover_glyph\":null,\"muted_glyph\":{\"id\":\"3186\"},\"nonselection_glyph\":{\"id\":\"3185\"},\"view\":{\"id\":\"3188\"}},\"id\":\"3187\",\"type\":\"GlyphRenderer\"},{\"attributes\":{},\"id\":\"3191\",\"type\":\"DataRange1d\"},{\"attributes\":{\"fill_alpha\":{\"value\":0.2},\"fill_color\":{\"value\":\"#208F8C\"},\"hatch_alpha\":{\"value\":0.2},\"hatch_color\":{\"value\":\"#208F8C\"},\"line_alpha\":{\"value\":0.2},\"line_color\":{\"value\":\"#208F8C\"},\"marker\":{\"value\":\"triangle\"},\"size\":{\"value\":10},\"x\":{\"field\":\"x\"},\"y\":{\"field\":\"y\"}},\"id\":\"3186\",\"type\":\"Scatter\"},{\"attributes\":{\"source\":{\"id\":\"3183\"}},\"id\":\"3188\",\"type\":\"CDSView\"},{\"attributes\":{\"tools\":[{\"id\":\"3169\"},{\"id\":\"3170\"},{\"id\":\"3171\"},{\"id\":\"3172\"},{\"id\":\"3173\"},{\"id\":\"3174\"}]},\"id\":\"3176\",\"type\":\"Toolbar\"},{\"attributes\":{\"fill_color\":{\"value\":\"#FDE724\"},\"hatch_color\":{\"value\":\"#FDE724\"},\"line_color\":{\"value\":\"#FDE724\"},\"marker\":{\"value\":\"square\"},\"size\":{\"value\":10},\"x\":{\"field\":\"x\"},\"y\":{\"field\":\"y\"}},\"id\":\"3222\",\"type\":\"Scatter\"},{\"attributes\":{},\"id\":\"3193\",\"type\":\"DataRange1d\"},{\"attributes\":{\"data\":{\"x\":[0,1,2,3,4,5,6,7,8,9,10],\"y\":[5,4,3,2,1,0,1,2,3,4,5]},\"selected\":{\"id\":\"3257\"},\"selection_policy\":{\"id\":\"3256\"}},\"id\":\"3221\",\"type\":\"ColumnDataSource\"},{\"attributes\":{},\"id\":\"3207\",\"type\":\"PanTool\"},{\"attributes\":{\"toolbars\":[{\"id\":\"3138\"},{\"id\":\"3176\"},{\"id\":\"3214\"}],\"tools\":[{\"id\":\"3131\"},{\"id\":\"3132\"},{\"id\":\"3133\"},{\"id\":\"3134\"},{\"id\":\"3135\"},{\"id\":\"3136\"},{\"id\":\"3169\"},{\"id\":\"3170\"},{\"id\":\"3171\"},{\"id\":\"3172\"},{\"id\":\"3173\"},{\"id\":\"3174\"},{\"id\":\"3207\"},{\"id\":\"3208\"},{\"id\":\"3209\"},{\"id\":\"3210\"},{\"id\":\"3211\"},{\"id\":\"3212\"}]},\"id\":\"3261\",\"type\":\"ProxyToolbar\"},{\"attributes\":{},\"id\":\"3195\",\"type\":\"LinearScale\"},{\"attributes\":{\"coordinates\":null,\"formatter\":{\"id\":\"3251\"},\"group\":null,\"major_label_policy\":{\"id\":\"3252\"},\"ticker\":{\"id\":\"3204\"}},\"id\":\"3203\",\"type\":\"LinearAxis\"},{\"attributes\":{},\"id\":\"3212\",\"type\":\"HelpTool\"},{\"attributes\":{},\"id\":\"3197\",\"type\":\"LinearScale\"},{\"attributes\":{},\"id\":\"3200\",\"type\":\"BasicTicker\"},{\"attributes\":{\"coordinates\":null,\"formatter\":{\"id\":\"3254\"},\"group\":null,\"major_label_policy\":{\"id\":\"3255\"},\"ticker\":{\"id\":\"3200\"}},\"id\":\"3199\",\"type\":\"LinearAxis\"},{\"attributes\":{\"tools\":[{\"id\":\"3207\"},{\"id\":\"3208\"},{\"id\":\"3209\"},{\"id\":\"3210\"},{\"id\":\"3211\"},{\"id\":\"3212\"}]},\"id\":\"3214\",\"type\":\"Toolbar\"},{\"attributes\":{\"axis\":{\"id\":\"3199\"},\"coordinates\":null,\"group\":null,\"ticker\":null},\"id\":\"3202\",\"type\":\"Grid\"},{\"attributes\":{\"axis\":{\"id\":\"3203\"},\"coordinates\":null,\"dimension\":1,\"group\":null,\"ticker\":null},\"id\":\"3206\",\"type\":\"Grid\"},{\"attributes\":{},\"id\":\"3204\",\"type\":\"BasicTicker\"},{\"attributes\":{},\"id\":\"3208\",\"type\":\"WheelZoomTool\"},{\"attributes\":{\"bottom_units\":\"screen\",\"coordinates\":null,\"fill_alpha\":0.5,\"fill_color\":\"lightgrey\",\"group\":null,\"left_units\":\"screen\",\"level\":\"overlay\",\"line_alpha\":1.0,\"line_color\":\"black\",\"line_dash\":[4,4],\"line_width\":2,\"right_units\":\"screen\",\"syncable\":false,\"top_units\":\"screen\"},\"id\":\"3213\",\"type\":\"BoxAnnotation\"},{\"attributes\":{\"overlay\":{\"id\":\"3213\"}},\"id\":\"3209\",\"type\":\"BoxZoomTool\"},{\"attributes\":{},\"id\":\"3210\",\"type\":\"SaveTool\"},{\"attributes\":{},\"id\":\"3211\",\"type\":\"ResetTool\"},{\"attributes\":{},\"id\":\"3255\",\"type\":\"AllLabels\"},{\"attributes\":{},\"id\":\"3234\",\"type\":\"UnionRenderers\"},{\"attributes\":{},\"id\":\"3245\",\"type\":\"UnionRenderers\"},{\"attributes\":{},\"id\":\"3246\",\"type\":\"Selection\"},{\"attributes\":{\"fill_color\":{\"value\":\"#208F8C\"},\"hatch_color\":{\"value\":\"#208F8C\"},\"line_color\":{\"value\":\"#208F8C\"},\"marker\":{\"value\":\"triangle\"},\"size\":{\"value\":10},\"x\":{\"field\":\"x\"},\"y\":{\"field\":\"y\"}},\"id\":\"3184\",\"type\":\"Scatter\"},{\"attributes\":{},\"id\":\"3256\",\"type\":\"UnionRenderers\"},{\"attributes\":{},\"id\":\"3235\",\"type\":\"Selection\"},{\"attributes\":{},\"id\":\"3257\",\"type\":\"Selection\"},{\"attributes\":{\"axis\":{\"id\":\"3161\"},\"coordinates\":null,\"group\":null,\"ticker\":null},\"id\":\"3164\",\"type\":\"Grid\"},{\"attributes\":{\"coordinates\":null,\"data_source\":{\"id\":\"3221\"},\"glyph\":{\"id\":\"3222\"},\"group\":null,\"hover_glyph\":null,\"muted_glyph\":{\"id\":\"3224\"},\"nonselection_glyph\":{\"id\":\"3223\"},\"view\":{\"id\":\"3226\"}},\"id\":\"3225\",\"type\":\"GlyphRenderer\"},{\"attributes\":{\"fill_alpha\":{\"value\":0.1},\"fill_color\":{\"value\":\"#FDE724\"},\"hatch_alpha\":{\"value\":0.1},\"hatch_color\":{\"value\":\"#FDE724\"},\"line_alpha\":{\"value\":0.1},\"line_color\":{\"value\":\"#FDE724\"},\"marker\":{\"value\":\"square\"},\"size\":{\"value\":10},\"x\":{\"field\":\"x\"},\"y\":{\"field\":\"y\"}},\"id\":\"3223\",\"type\":\"Scatter\"},{\"attributes\":{\"source\":{\"id\":\"3221\"}},\"id\":\"3226\",\"type\":\"CDSView\"},{\"attributes\":{\"data\":{\"x\":[0,1,2,3,4,5,6,7,8,9,10],\"y\":[10,9,8,7,6,5,4,3,2,1,0]},\"selected\":{\"id\":\"3246\"},\"selection_policy\":{\"id\":\"3245\"}},\"id\":\"3183\",\"type\":\"ColumnDataSource\"},{\"attributes\":{\"below\":[{\"id\":\"3123\"}],\"center\":[{\"id\":\"3126\"},{\"id\":\"3130\"}],\"height\":250,\"left\":[{\"id\":\"3127\"}],\"renderers\":[{\"id\":\"3149\"}],\"title\":null,\"toolbar\":{\"id\":\"3138\"},\"toolbar_location\":null,\"width\":250,\"x_range\":{\"id\":\"3115\"},\"x_scale\":{\"id\":\"3119\"},\"y_range\":{\"id\":\"3117\"},\"y_scale\":{\"id\":\"3121\"}},\"id\":\"3113\",\"subtype\":\"Figure\",\"type\":\"Plot\"},{\"attributes\":{},\"id\":\"3119\",\"type\":\"LinearScale\"},{\"attributes\":{},\"id\":\"3153\",\"type\":\"DataRange1d\"},{\"attributes\":{\"fill_alpha\":{\"value\":0.2},\"fill_color\":{\"value\":\"#FDE724\"},\"hatch_alpha\":{\"value\":0.2},\"hatch_color\":{\"value\":\"#FDE724\"},\"line_alpha\":{\"value\":0.2},\"line_color\":{\"value\":\"#FDE724\"},\"marker\":{\"value\":\"square\"},\"size\":{\"value\":10},\"x\":{\"field\":\"x\"},\"y\":{\"field\":\"y\"}},\"id\":\"3224\",\"type\":\"Scatter\"},{\"attributes\":{\"coordinates\":null,\"formatter\":{\"id\":\"3229\"},\"group\":null,\"major_label_policy\":{\"id\":\"3230\"},\"ticker\":{\"id\":\"3128\"}},\"id\":\"3127\",\"type\":\"LinearAxis\"},{\"attributes\":{},\"id\":\"3115\",\"type\":\"DataRange1d\"},{\"attributes\":{\"coordinates\":null,\"formatter\":{\"id\":\"3232\"},\"group\":null,\"major_label_policy\":{\"id\":\"3233\"},\"ticker\":{\"id\":\"3124\"}},\"id\":\"3123\",\"type\":\"LinearAxis\"},{\"attributes\":{},\"id\":\"3117\",\"type\":\"DataRange1d\"},{\"attributes\":{},\"id\":\"3124\",\"type\":\"BasicTicker\"},{\"attributes\":{\"toolbar\":{\"id\":\"3261\"},\"toolbar_location\":\"above\"},\"id\":\"3262\",\"type\":\"ToolbarBox\"},{\"attributes\":{\"coordinates\":null,\"data_source\":{\"id\":\"3145\"},\"glyph\":{\"id\":\"3146\"},\"group\":null,\"hover_glyph\":null,\"muted_glyph\":{\"id\":\"3148\"},\"nonselection_glyph\":{\"id\":\"3147\"},\"view\":{\"id\":\"3150\"}},\"id\":\"3149\",\"type\":\"GlyphRenderer\"},{\"attributes\":{\"below\":[{\"id\":\"3199\"}],\"center\":[{\"id\":\"3202\"},{\"id\":\"3206\"}],\"height\":250,\"left\":[{\"id\":\"3203\"}],\"renderers\":[{\"id\":\"3225\"}],\"title\":null,\"toolbar\":{\"id\":\"3214\"},\"toolbar_location\":null,\"width\":250,\"x_range\":{\"id\":\"3191\"},\"x_scale\":{\"id\":\"3195\"},\"y_range\":{\"id\":\"3193\"},\"y_scale\":{\"id\":\"3197\"}},\"id\":\"3189\",\"subtype\":\"Figure\",\"type\":\"Plot\"},{\"attributes\":{},\"id\":\"3121\",\"type\":\"LinearScale\"},{\"attributes\":{\"axis\":{\"id\":\"3123\"},\"coordinates\":null,\"group\":null,\"ticker\":null},\"id\":\"3126\",\"type\":\"Grid\"},{\"attributes\":{},\"id\":\"3136\",\"type\":\"HelpTool\"},{\"attributes\":{\"fill_color\":{\"value\":\"#440154\"},\"hatch_color\":{\"value\":\"#440154\"},\"line_color\":{\"value\":\"#440154\"},\"size\":{\"value\":10},\"x\":{\"field\":\"x\"},\"y\":{\"field\":\"y\"}},\"id\":\"3146\",\"type\":\"Circle\"},{\"attributes\":{\"below\":[{\"id\":\"3161\"}],\"center\":[{\"id\":\"3164\"},{\"id\":\"3168\"}],\"height\":250,\"left\":[{\"id\":\"3165\"}],\"renderers\":[{\"id\":\"3187\"}],\"title\":null,\"toolbar\":{\"id\":\"3176\"},\"toolbar_location\":null,\"width\":250,\"x_range\":{\"id\":\"3153\"},\"x_scale\":{\"id\":\"3157\"},\"y_range\":{\"id\":\"3155\"},\"y_scale\":{\"id\":\"3159\"}},\"id\":\"3151\",\"subtype\":\"Figure\",\"type\":\"Plot\"},{\"attributes\":{\"source\":{\"id\":\"3145\"}},\"id\":\"3150\",\"type\":\"CDSView\"},{\"attributes\":{\"axis\":{\"id\":\"3127\"},\"coordinates\":null,\"dimension\":1,\"group\":null,\"ticker\":null},\"id\":\"3130\",\"type\":\"Grid\"},{\"attributes\":{},\"id\":\"3128\",\"type\":\"BasicTicker\"},{\"attributes\":{\"data\":{\"x\":[0,1,2,3,4,5,6,7,8,9,10],\"y\":[0,1,2,3,4,5,6,7,8,9,10]},\"selected\":{\"id\":\"3235\"},\"selection_policy\":{\"id\":\"3234\"}},\"id\":\"3145\",\"type\":\"ColumnDataSource\"},{\"attributes\":{},\"id\":\"3132\",\"type\":\"WheelZoomTool\"},{\"attributes\":{},\"id\":\"3131\",\"type\":\"PanTool\"},{\"attributes\":{\"overlay\":{\"id\":\"3137\"}},\"id\":\"3133\",\"type\":\"BoxZoomTool\"},{\"attributes\":{},\"id\":\"3134\",\"type\":\"SaveTool\"},{\"attributes\":{},\"id\":\"3135\",\"type\":\"ResetTool\"},{\"attributes\":{\"bottom_units\":\"screen\",\"coordinates\":null,\"fill_alpha\":0.5,\"fill_color\":\"lightgrey\",\"group\":null,\"left_units\":\"screen\",\"level\":\"overlay\",\"line_alpha\":1.0,\"line_color\":\"black\",\"line_dash\":[4,4],\"line_width\":2,\"right_units\":\"screen\",\"syncable\":false,\"top_units\":\"screen\"},\"id\":\"3137\",\"type\":\"BoxAnnotation\"},{\"attributes\":{},\"id\":\"3232\",\"type\":\"BasicTickFormatter\"},{\"attributes\":{},\"id\":\"3240\",\"type\":\"BasicTickFormatter\"},{\"attributes\":{\"children\":[[{\"id\":\"3113\"},0,0],[{\"id\":\"3151\"},0,1],[{\"id\":\"3189\"},1,1]]},\"id\":\"3260\",\"type\":\"GridBox\"},{\"attributes\":{\"tools\":[{\"id\":\"3131\"},{\"id\":\"3132\"},{\"id\":\"3133\"},{\"id\":\"3134\"},{\"id\":\"3135\"},{\"id\":\"3136\"}]},\"id\":\"3138\",\"type\":\"Toolbar\"},{\"attributes\":{},\"id\":\"3241\",\"type\":\"AllLabels\"},{\"attributes\":{\"coordinates\":null,\"formatter\":{\"id\":\"3240\"},\"group\":null,\"major_label_policy\":{\"id\":\"3241\"},\"ticker\":{\"id\":\"3166\"}},\"id\":\"3165\",\"type\":\"LinearAxis\"},{\"attributes\":{\"fill_alpha\":{\"value\":0.1},\"fill_color\":{\"value\":\"#440154\"},\"hatch_alpha\":{\"value\":0.1},\"hatch_color\":{\"value\":\"#440154\"},\"line_alpha\":{\"value\":0.1},\"line_color\":{\"value\":\"#440154\"},\"size\":{\"value\":10},\"x\":{\"field\":\"x\"},\"y\":{\"field\":\"y\"}},\"id\":\"3147\",\"type\":\"Circle\"},{\"attributes\":{},\"id\":\"3243\",\"type\":\"BasicTickFormatter\"},{\"attributes\":{\"fill_alpha\":{\"value\":0.2},\"fill_color\":{\"value\":\"#440154\"},\"hatch_alpha\":{\"value\":0.2},\"hatch_color\":{\"value\":\"#440154\"},\"line_alpha\":{\"value\":0.2},\"line_color\":{\"value\":\"#440154\"},\"size\":{\"value\":10},\"x\":{\"field\":\"x\"},\"y\":{\"field\":\"y\"}},\"id\":\"3148\",\"type\":\"Circle\"},{\"attributes\":{},\"id\":\"3229\",\"type\":\"BasicTickFormatter\"},{\"attributes\":{},\"id\":\"3162\",\"type\":\"BasicTicker\"},{\"attributes\":{\"coordinates\":null,\"formatter\":{\"id\":\"3243\"},\"group\":null,\"major_label_policy\":{\"id\":\"3244\"},\"ticker\":{\"id\":\"3162\"}},\"id\":\"3161\",\"type\":\"LinearAxis\"},{\"attributes\":{},\"id\":\"3244\",\"type\":\"AllLabels\"},{\"attributes\":{},\"id\":\"3230\",\"type\":\"AllLabels\"},{\"attributes\":{},\"id\":\"3251\",\"type\":\"BasicTickFormatter\"},{\"attributes\":{},\"id\":\"3252\",\"type\":\"AllLabels\"},{\"attributes\":{},\"id\":\"3233\",\"type\":\"AllLabels\"},{\"attributes\":{},\"id\":\"3254\",\"type\":\"BasicTickFormatter\"},{\"attributes\":{},\"id\":\"3155\",\"type\":\"DataRange1d\"}],\"root_ids\":[\"3263\"]},\"title\":\"Bokeh Application\",\"version\":\"2.4.2\"}};\n  const render_items = [{\"docid\":\"247c266e-4a74-45c7-9103-6e50426b6ee7\",\"root_ids\":[\"3263\"],\"roots\":{\"3263\":\"a843bf37-aea2-470b-8398-9b38fb7acba5\"}}];\n  root.Bokeh.embed.embed_items_notebook(docs_json, render_items);\n\n  }\n  if (root.Bokeh !== undefined) {\n    embed_document(root);\n  } else {\n    let attempts = 0;\n    const timer = setInterval(function(root) {\n      if (root.Bokeh !== undefined) {\n        clearInterval(timer);\n        embed_document(root);\n      } else {\n        attempts++;\n        if (attempts > 100) {\n          clearInterval(timer);\n          console.log(\"Bokeh: ERROR: Unable to run BokehJS code because BokehJS library is missing\");\n        }\n      }\n    }, 10, root)\n  }\n})(window);",
      "application/vnd.bokehjs_exec.v0+json": ""
     },
     "metadata": {
      "application/vnd.bokehjs_exec.v0+json": {
       "id": "3263"
      }
     },
     "output_type": "display_data"
    }
   ],
   "source": [
    "from bokeh.io import output_file, show\n",
    "from bokeh.layouts import gridplot\n",
    "from bokeh.palettes import Viridis3\n",
    "from bokeh.plotting import figure\n",
    "output_file(\"layout_grid.html\")\n",
    "x = list(range(11))\n",
    "y0 = x\n",
    "y1 = [10 - i for i in x]\n",
    "y2 = [abs(i - 5) for i in x]\n",
    "# create three plots\n",
    "p1 = figure(plot_width=250, plot_height=250, title=None)\n",
    "p1.circle(x, y0, size=10, color=Viridis3[0])\n",
    "p2 = figure(plot_width=250, plot_height=250, title=None)\n",
    "p2.triangle(x, y1, size=10, color=Viridis3[1])\n",
    "p3 = figure(plot_width=250, plot_height=250, title=None)\n",
    "p3.square(x, y2, size=10, color=Viridis3[2])\n",
    "# make a grid\n",
    "grid = gridplot([[p1, p2], [None, p3]])\n",
    "# show the results\n",
    "show(grid)"
   ]
  },
  {
   "cell_type": "code",
   "execution_count": 14,
   "metadata": {},
   "outputs": [
    {
     "name": "stderr",
     "output_type": "stream",
     "text": [
      "BokehDeprecationWarning: plot_width and plot_height was deprecated in Bokeh 2.4.0 and will be removed, use width or height instead.\n"
     ]
    },
    {
     "data": {
      "text/html": [
       "\n",
       "\n",
       "\n",
       "\n",
       "\n",
       "\n",
       "  <div class=\"bk-root\" id=\"60db935b-5779-42e4-87aa-a32e8aefca82\" data-root-id=\"4086\"></div>\n"
      ]
     },
     "metadata": {},
     "output_type": "display_data"
    },
    {
     "data": {
      "application/javascript": "(function(root) {\n  function embed_document(root) {\n    \n  const docs_json = {\"c9faaa19-78ed-4326-81c4-4f67c5319016\":{\"defs\":[],\"roots\":{\"references\":[{\"attributes\":{\"children\":[{\"id\":\"4085\"},{\"id\":\"4083\"}]},\"id\":\"4086\",\"type\":\"Column\"},{\"attributes\":{\"data\":{\"x\":[0,1,2,3,4,5,6,7,8,9,10],\"y\":[5,4,3,2,1,0,1,2,3,4,5]},\"selected\":{\"id\":\"4080\"},\"selection_policy\":{\"id\":\"4079\"}},\"id\":\"4041\",\"type\":\"ColumnDataSource\"},{\"attributes\":{\"coordinates\":null,\"formatter\":{\"id\":\"4077\"},\"group\":null,\"major_label_policy\":{\"id\":\"4078\"},\"ticker\":{\"id\":\"4020\"}},\"id\":\"4019\",\"type\":\"LinearAxis\"},{\"attributes\":{\"coordinates\":null,\"data_source\":{\"id\":\"4004\"},\"glyph\":{\"id\":\"4005\"},\"group\":null,\"hover_glyph\":null,\"muted_glyph\":{\"id\":\"4007\"},\"nonselection_glyph\":{\"id\":\"4006\"},\"view\":{\"id\":\"4009\"}},\"id\":\"4008\",\"type\":\"GlyphRenderer\"},{\"attributes\":{\"fill_color\":{\"value\":\"#FDE724\"},\"hatch_color\":{\"value\":\"#FDE724\"},\"line_color\":{\"value\":\"#FDE724\"},\"marker\":{\"value\":\"square\"},\"size\":{\"value\":10},\"x\":{\"field\":\"x\"},\"y\":{\"field\":\"y\"}},\"id\":\"4042\",\"type\":\"Scatter\"},{\"attributes\":{\"source\":{\"id\":\"4004\"}},\"id\":\"4009\",\"type\":\"CDSView\"},{\"attributes\":{\"fill_alpha\":{\"value\":0.2},\"fill_color\":{\"value\":\"#208F8C\"},\"hatch_alpha\":{\"value\":0.2},\"hatch_color\":{\"value\":\"#208F8C\"},\"line_alpha\":{\"value\":0.2},\"line_color\":{\"value\":\"#208F8C\"},\"marker\":{\"value\":\"triangle\"},\"size\":{\"value\":10},\"x\":{\"field\":\"x\"},\"y\":{\"field\":\"y\"}},\"id\":\"4007\",\"type\":\"Scatter\"},{\"attributes\":{\"fill_alpha\":{\"value\":0.1},\"fill_color\":{\"value\":\"#FDE724\"},\"hatch_alpha\":{\"value\":0.1},\"hatch_color\":{\"value\":\"#FDE724\"},\"line_alpha\":{\"value\":0.1},\"line_color\":{\"value\":\"#FDE724\"},\"marker\":{\"value\":\"square\"},\"size\":{\"value\":10},\"x\":{\"field\":\"x\"},\"y\":{\"field\":\"y\"}},\"id\":\"4043\",\"type\":\"Scatter\"},{\"attributes\":{},\"id\":\"4011\",\"type\":\"DataRange1d\"},{\"attributes\":{},\"id\":\"4013\",\"type\":\"DataRange1d\"},{\"attributes\":{},\"id\":\"4015\",\"type\":\"LinearScale\"},{\"attributes\":{\"coordinates\":null,\"formatter\":{\"id\":\"4074\"},\"group\":null,\"major_label_policy\":{\"id\":\"4075\"},\"ticker\":{\"id\":\"4024\"}},\"id\":\"4023\",\"type\":\"LinearAxis\"},{\"attributes\":{},\"id\":\"4017\",\"type\":\"LinearScale\"},{\"attributes\":{},\"id\":\"4032\",\"type\":\"HelpTool\"},{\"attributes\":{},\"id\":\"4020\",\"type\":\"BasicTicker\"},{\"attributes\":{\"axis\":{\"id\":\"4019\"},\"coordinates\":null,\"group\":null,\"ticker\":null},\"id\":\"4022\",\"type\":\"Grid\"},{\"attributes\":{\"coordinates\":null,\"formatter\":{\"id\":\"4062\"},\"group\":null,\"major_label_policy\":{\"id\":\"4063\"},\"ticker\":{\"id\":\"3987\"}},\"id\":\"3986\",\"type\":\"LinearAxis\"},{\"attributes\":{\"axis\":{\"id\":\"4023\"},\"coordinates\":null,\"dimension\":1,\"group\":null,\"ticker\":null},\"id\":\"4026\",\"type\":\"Grid\"},{\"attributes\":{},\"id\":\"4024\",\"type\":\"BasicTicker\"},{\"attributes\":{},\"id\":\"4028\",\"type\":\"WheelZoomTool\"},{\"attributes\":{},\"id\":\"4027\",\"type\":\"PanTool\"},{\"attributes\":{\"overlay\":{\"id\":\"4033\"}},\"id\":\"4029\",\"type\":\"BoxZoomTool\"},{\"attributes\":{},\"id\":\"4031\",\"type\":\"ResetTool\"},{\"attributes\":{},\"id\":\"4030\",\"type\":\"SaveTool\"},{\"attributes\":{\"bottom_units\":\"screen\",\"coordinates\":null,\"fill_alpha\":0.5,\"fill_color\":\"lightgrey\",\"group\":null,\"left_units\":\"screen\",\"level\":\"overlay\",\"line_alpha\":1.0,\"line_color\":\"black\",\"line_dash\":[4,4],\"line_width\":2,\"right_units\":\"screen\",\"syncable\":false,\"top_units\":\"screen\"},\"id\":\"4033\",\"type\":\"BoxAnnotation\"},{\"attributes\":{\"children\":[[{\"id\":\"3936\"},0,0],[{\"id\":\"3973\"},0,1],[{\"id\":\"4010\"},1,0]]},\"id\":\"4083\",\"type\":\"GridBox\"},{\"attributes\":{\"tools\":[{\"id\":\"4027\"},{\"id\":\"4028\"},{\"id\":\"4029\"},{\"id\":\"4030\"},{\"id\":\"4031\"},{\"id\":\"4032\"}]},\"id\":\"4034\",\"type\":\"Toolbar\"},{\"attributes\":{\"coordinates\":null,\"data_source\":{\"id\":\"4041\"},\"glyph\":{\"id\":\"4042\"},\"group\":null,\"hover_glyph\":null,\"muted_glyph\":{\"id\":\"4044\"},\"nonselection_glyph\":{\"id\":\"4043\"},\"view\":{\"id\":\"4046\"}},\"id\":\"4045\",\"type\":\"GlyphRenderer\"},{\"attributes\":{\"toolbar\":{\"id\":\"4084\"},\"toolbar_location\":\"above\"},\"id\":\"4085\",\"type\":\"ToolbarBox\"},{\"attributes\":{\"fill_alpha\":{\"value\":0.2},\"fill_color\":{\"value\":\"#FDE724\"},\"hatch_alpha\":{\"value\":0.2},\"hatch_color\":{\"value\":\"#FDE724\"},\"line_alpha\":{\"value\":0.2},\"line_color\":{\"value\":\"#FDE724\"},\"marker\":{\"value\":\"square\"},\"size\":{\"value\":10},\"x\":{\"field\":\"x\"},\"y\":{\"field\":\"y\"}},\"id\":\"4044\",\"type\":\"Scatter\"},{\"attributes\":{\"source\":{\"id\":\"4041\"}},\"id\":\"4046\",\"type\":\"CDSView\"},{\"attributes\":{\"toolbars\":[{\"id\":\"3960\"},{\"id\":\"3997\"},{\"id\":\"4034\"}],\"tools\":[{\"id\":\"3953\"},{\"id\":\"3954\"},{\"id\":\"3955\"},{\"id\":\"3956\"},{\"id\":\"3957\"},{\"id\":\"3958\"},{\"id\":\"3990\"},{\"id\":\"3991\"},{\"id\":\"3992\"},{\"id\":\"3993\"},{\"id\":\"3994\"},{\"id\":\"3995\"},{\"id\":\"4027\"},{\"id\":\"4028\"},{\"id\":\"4029\"},{\"id\":\"4030\"},{\"id\":\"4031\"},{\"id\":\"4032\"}]},\"id\":\"4084\",\"type\":\"ProxyToolbar\"},{\"attributes\":{\"coordinates\":null,\"group\":null},\"id\":\"4047\",\"type\":\"Title\"},{\"attributes\":{\"coordinates\":null,\"group\":null},\"id\":\"4059\",\"type\":\"Title\"},{\"attributes\":{\"fill_color\":{\"value\":\"#440154\"},\"hatch_color\":{\"value\":\"#440154\"},\"line_color\":{\"value\":\"#440154\"},\"size\":{\"value\":10},\"x\":{\"field\":\"x\"},\"y\":{\"field\":\"y\"}},\"id\":\"3968\",\"type\":\"Circle\"},{\"attributes\":{},\"id\":\"3956\",\"type\":\"SaveTool\"},{\"attributes\":{},\"id\":\"3957\",\"type\":\"ResetTool\"},{\"attributes\":{\"fill_alpha\":{\"value\":0.1},\"fill_color\":{\"value\":\"#440154\"},\"hatch_alpha\":{\"value\":0.1},\"hatch_color\":{\"value\":\"#440154\"},\"line_alpha\":{\"value\":0.1},\"line_color\":{\"value\":\"#440154\"},\"size\":{\"value\":10},\"x\":{\"field\":\"x\"},\"y\":{\"field\":\"y\"}},\"id\":\"3969\",\"type\":\"Circle\"},{\"attributes\":{\"below\":[{\"id\":\"3945\"}],\"center\":[{\"id\":\"3948\"},{\"id\":\"3952\"}],\"height\":250,\"left\":[{\"id\":\"3949\"}],\"renderers\":[{\"id\":\"3971\"}],\"title\":{\"id\":\"4047\"},\"toolbar\":{\"id\":\"3960\"},\"toolbar_location\":null,\"width\":250,\"x_range\":{\"id\":\"3937\"},\"x_scale\":{\"id\":\"3941\"},\"y_range\":{\"id\":\"3939\"},\"y_scale\":{\"id\":\"3943\"}},\"id\":\"3936\",\"subtype\":\"Figure\",\"type\":\"Plot\"},{\"attributes\":{},\"id\":\"3974\",\"type\":\"DataRange1d\"},{\"attributes\":{},\"id\":\"3953\",\"type\":\"PanTool\"},{\"attributes\":{\"overlay\":{\"id\":\"3959\"}},\"id\":\"3955\",\"type\":\"BoxZoomTool\"},{\"attributes\":{\"coordinates\":null,\"group\":null},\"id\":\"4071\",\"type\":\"Title\"},{\"attributes\":{\"bottom_units\":\"screen\",\"coordinates\":null,\"fill_alpha\":0.5,\"fill_color\":\"lightgrey\",\"group\":null,\"left_units\":\"screen\",\"level\":\"overlay\",\"line_alpha\":1.0,\"line_color\":\"black\",\"line_dash\":[4,4],\"line_width\":2,\"right_units\":\"screen\",\"syncable\":false,\"top_units\":\"screen\"},\"id\":\"3996\",\"type\":\"BoxAnnotation\"},{\"attributes\":{},\"id\":\"3958\",\"type\":\"HelpTool\"},{\"attributes\":{},\"id\":\"3937\",\"type\":\"DataRange1d\"},{\"attributes\":{},\"id\":\"3954\",\"type\":\"WheelZoomTool\"},{\"attributes\":{\"coordinates\":null,\"formatter\":{\"id\":\"4050\"},\"group\":null,\"major_label_policy\":{\"id\":\"4051\"},\"ticker\":{\"id\":\"3950\"}},\"id\":\"3949\",\"type\":\"LinearAxis\"},{\"attributes\":{\"coordinates\":null,\"formatter\":{\"id\":\"4053\"},\"group\":null,\"major_label_policy\":{\"id\":\"4054\"},\"ticker\":{\"id\":\"3946\"}},\"id\":\"3945\",\"type\":\"LinearAxis\"},{\"attributes\":{\"bottom_units\":\"screen\",\"coordinates\":null,\"fill_alpha\":0.5,\"fill_color\":\"lightgrey\",\"group\":null,\"left_units\":\"screen\",\"level\":\"overlay\",\"line_alpha\":1.0,\"line_color\":\"black\",\"line_dash\":[4,4],\"line_width\":2,\"right_units\":\"screen\",\"syncable\":false,\"top_units\":\"screen\"},\"id\":\"3959\",\"type\":\"BoxAnnotation\"},{\"attributes\":{},\"id\":\"3995\",\"type\":\"HelpTool\"},{\"attributes\":{},\"id\":\"3939\",\"type\":\"DataRange1d\"},{\"attributes\":{},\"id\":\"3946\",\"type\":\"BasicTicker\"},{\"attributes\":{},\"id\":\"3941\",\"type\":\"LinearScale\"},{\"attributes\":{},\"id\":\"4050\",\"type\":\"BasicTickFormatter\"},{\"attributes\":{},\"id\":\"3943\",\"type\":\"LinearScale\"},{\"attributes\":{\"below\":[{\"id\":\"3982\"}],\"center\":[{\"id\":\"3985\"},{\"id\":\"3989\"}],\"height\":250,\"left\":[{\"id\":\"3986\"}],\"renderers\":[{\"id\":\"4008\"}],\"title\":{\"id\":\"4059\"},\"toolbar\":{\"id\":\"3997\"},\"toolbar_location\":null,\"width\":250,\"x_range\":{\"id\":\"3974\"},\"x_scale\":{\"id\":\"3978\"},\"y_range\":{\"id\":\"3976\"},\"y_scale\":{\"id\":\"3980\"}},\"id\":\"3973\",\"subtype\":\"Figure\",\"type\":\"Plot\"},{\"attributes\":{\"axis\":{\"id\":\"3949\"},\"coordinates\":null,\"dimension\":1,\"group\":null,\"ticker\":null},\"id\":\"3952\",\"type\":\"Grid\"},{\"attributes\":{},\"id\":\"4051\",\"type\":\"AllLabels\"},{\"attributes\":{\"data\":{\"x\":[0,1,2,3,4,5,6,7,8,9,10],\"y\":[0,1,2,3,4,5,6,7,8,9,10]},\"selected\":{\"id\":\"4056\"},\"selection_policy\":{\"id\":\"4055\"}},\"id\":\"3967\",\"type\":\"ColumnDataSource\"},{\"attributes\":{},\"id\":\"4062\",\"type\":\"BasicTickFormatter\"},{\"attributes\":{\"axis\":{\"id\":\"3945\"},\"coordinates\":null,\"group\":null,\"ticker\":null},\"id\":\"3948\",\"type\":\"Grid\"},{\"attributes\":{},\"id\":\"4053\",\"type\":\"BasicTickFormatter\"},{\"attributes\":{},\"id\":\"4063\",\"type\":\"AllLabels\"},{\"attributes\":{},\"id\":\"3950\",\"type\":\"BasicTicker\"},{\"attributes\":{\"tools\":[{\"id\":\"3953\"},{\"id\":\"3954\"},{\"id\":\"3955\"},{\"id\":\"3956\"},{\"id\":\"3957\"},{\"id\":\"3958\"}]},\"id\":\"3960\",\"type\":\"Toolbar\"},{\"attributes\":{},\"id\":\"4054\",\"type\":\"AllLabels\"},{\"attributes\":{},\"id\":\"4065\",\"type\":\"BasicTickFormatter\"},{\"attributes\":{\"fill_alpha\":{\"value\":0.1},\"fill_color\":{\"value\":\"#208F8C\"},\"hatch_alpha\":{\"value\":0.1},\"hatch_color\":{\"value\":\"#208F8C\"},\"line_alpha\":{\"value\":0.1},\"line_color\":{\"value\":\"#208F8C\"},\"marker\":{\"value\":\"triangle\"},\"size\":{\"value\":10},\"x\":{\"field\":\"x\"},\"y\":{\"field\":\"y\"}},\"id\":\"4006\",\"type\":\"Scatter\"},{\"attributes\":{\"below\":[{\"id\":\"4019\"}],\"center\":[{\"id\":\"4022\"},{\"id\":\"4026\"}],\"height\":250,\"left\":[{\"id\":\"4023\"}],\"renderers\":[{\"id\":\"4045\"}],\"title\":{\"id\":\"4071\"},\"toolbar\":{\"id\":\"4034\"},\"toolbar_location\":null,\"width\":250,\"x_range\":{\"id\":\"4011\"},\"x_scale\":{\"id\":\"4015\"},\"y_range\":{\"id\":\"4013\"},\"y_scale\":{\"id\":\"4017\"}},\"id\":\"4010\",\"subtype\":\"Figure\",\"type\":\"Plot\"},{\"attributes\":{\"axis\":{\"id\":\"3982\"},\"coordinates\":null,\"group\":null,\"ticker\":null},\"id\":\"3985\",\"type\":\"Grid\"},{\"attributes\":{},\"id\":\"4066\",\"type\":\"AllLabels\"},{\"attributes\":{\"data\":{\"x\":[0,1,2,3,4,5,6,7,8,9,10],\"y\":[10,9,8,7,6,5,4,3,2,1,0]},\"selected\":{\"id\":\"4068\"},\"selection_policy\":{\"id\":\"4067\"}},\"id\":\"4004\",\"type\":\"ColumnDataSource\"},{\"attributes\":{},\"id\":\"4074\",\"type\":\"BasicTickFormatter\"},{\"attributes\":{\"fill_alpha\":{\"value\":0.2},\"fill_color\":{\"value\":\"#440154\"},\"hatch_alpha\":{\"value\":0.2},\"hatch_color\":{\"value\":\"#440154\"},\"line_alpha\":{\"value\":0.2},\"line_color\":{\"value\":\"#440154\"},\"size\":{\"value\":10},\"x\":{\"field\":\"x\"},\"y\":{\"field\":\"y\"}},\"id\":\"3970\",\"type\":\"Circle\"},{\"attributes\":{},\"id\":\"4075\",\"type\":\"AllLabels\"},{\"attributes\":{},\"id\":\"4055\",\"type\":\"UnionRenderers\"},{\"attributes\":{\"coordinates\":null,\"data_source\":{\"id\":\"3967\"},\"glyph\":{\"id\":\"3968\"},\"group\":null,\"hover_glyph\":null,\"muted_glyph\":{\"id\":\"3970\"},\"nonselection_glyph\":{\"id\":\"3969\"},\"view\":{\"id\":\"3972\"}},\"id\":\"3971\",\"type\":\"GlyphRenderer\"},{\"attributes\":{\"fill_color\":{\"value\":\"#208F8C\"},\"hatch_color\":{\"value\":\"#208F8C\"},\"line_color\":{\"value\":\"#208F8C\"},\"marker\":{\"value\":\"triangle\"},\"size\":{\"value\":10},\"x\":{\"field\":\"x\"},\"y\":{\"field\":\"y\"}},\"id\":\"4005\",\"type\":\"Scatter\"},{\"attributes\":{},\"id\":\"4077\",\"type\":\"BasicTickFormatter\"},{\"attributes\":{},\"id\":\"4056\",\"type\":\"Selection\"},{\"attributes\":{\"source\":{\"id\":\"3967\"}},\"id\":\"3972\",\"type\":\"CDSView\"},{\"attributes\":{},\"id\":\"4067\",\"type\":\"UnionRenderers\"},{\"attributes\":{},\"id\":\"4078\",\"type\":\"AllLabels\"},{\"attributes\":{},\"id\":\"4068\",\"type\":\"Selection\"},{\"attributes\":{},\"id\":\"3976\",\"type\":\"DataRange1d\"},{\"attributes\":{},\"id\":\"3978\",\"type\":\"LinearScale\"},{\"attributes\":{\"coordinates\":null,\"formatter\":{\"id\":\"4065\"},\"group\":null,\"major_label_policy\":{\"id\":\"4066\"},\"ticker\":{\"id\":\"3983\"}},\"id\":\"3982\",\"type\":\"LinearAxis\"},{\"attributes\":{\"axis\":{\"id\":\"3986\"},\"coordinates\":null,\"dimension\":1,\"group\":null,\"ticker\":null},\"id\":\"3989\",\"type\":\"Grid\"},{\"attributes\":{},\"id\":\"3980\",\"type\":\"LinearScale\"},{\"attributes\":{},\"id\":\"4079\",\"type\":\"UnionRenderers\"},{\"attributes\":{},\"id\":\"3993\",\"type\":\"SaveTool\"},{\"attributes\":{},\"id\":\"3983\",\"type\":\"BasicTicker\"},{\"attributes\":{},\"id\":\"4080\",\"type\":\"Selection\"},{\"attributes\":{},\"id\":\"3987\",\"type\":\"BasicTicker\"},{\"attributes\":{\"tools\":[{\"id\":\"3990\"},{\"id\":\"3991\"},{\"id\":\"3992\"},{\"id\":\"3993\"},{\"id\":\"3994\"},{\"id\":\"3995\"}]},\"id\":\"3997\",\"type\":\"Toolbar\"},{\"attributes\":{},\"id\":\"3991\",\"type\":\"WheelZoomTool\"},{\"attributes\":{},\"id\":\"3990\",\"type\":\"PanTool\"},{\"attributes\":{\"overlay\":{\"id\":\"3996\"}},\"id\":\"3992\",\"type\":\"BoxZoomTool\"},{\"attributes\":{},\"id\":\"3994\",\"type\":\"ResetTool\"}],\"root_ids\":[\"4086\"]},\"title\":\"Bokeh Application\",\"version\":\"2.4.2\"}};\n  const render_items = [{\"docid\":\"c9faaa19-78ed-4326-81c4-4f67c5319016\",\"root_ids\":[\"4086\"],\"roots\":{\"4086\":\"60db935b-5779-42e4-87aa-a32e8aefca82\"}}];\n  root.Bokeh.embed.embed_items_notebook(docs_json, render_items);\n\n  }\n  if (root.Bokeh !== undefined) {\n    embed_document(root);\n  } else {\n    let attempts = 0;\n    const timer = setInterval(function(root) {\n      if (root.Bokeh !== undefined) {\n        clearInterval(timer);\n        embed_document(root);\n      } else {\n        attempts++;\n        if (attempts > 100) {\n          clearInterval(timer);\n          console.log(\"Bokeh: ERROR: Unable to run BokehJS code because BokehJS library is missing\");\n        }\n      }\n    }, 10, root)\n  }\n})(window);",
      "application/vnd.bokehjs_exec.v0+json": ""
     },
     "metadata": {
      "application/vnd.bokehjs_exec.v0+json": {
       "id": "4086"
      }
     },
     "output_type": "display_data"
    }
   ],
   "source": [
    "from bokeh.io import output_file, show\n",
    "from bokeh.layouts import gridplot\n",
    "from bokeh.palettes import Viridis3\n",
    "from bokeh.plotting import figure\n",
    "output_file(\"layout_grid_convenient.html\")\n",
    "x = list(range(11))\n",
    "y0 = x\n",
    "y1 = [10 - i for i in x]\n",
    "y2 = [abs(i - 5) for i in x]\n",
    "# create three plots\n",
    "s1 = figure()\n",
    "s1.circle(x, y0, size=10, color=Viridis3[0])\n",
    "s2 = figure()\n",
    "s2.triangle(x, y1, size=10, color=Viridis3[1])\n",
    "s3 = figure()\n",
    "s3.square(x, y2, size=10, color=Viridis3[2])\n",
    "# make a grid\n",
    "grid = gridplot([s1, s2, s3], ncols=2, plot_width=250, plot_height=250)\n",
    "# show the results\n",
    "show(grid)"
   ]
  }
 ],
 "metadata": {
  "interpreter": {
   "hash": "23f099b3e1e471a90f4512b0cd1d998dc7a1d88c7791f9fbff6d32bacabbefb0"
  },
  "kernelspec": {
   "display_name": "Python 3.8.8 ('base')",
   "language": "python",
   "name": "python3"
  },
  "language_info": {
   "codemirror_mode": {
    "name": "ipython",
    "version": 3
   },
   "file_extension": ".py",
   "mimetype": "text/x-python",
   "name": "python",
   "nbconvert_exporter": "python",
   "pygments_lexer": "ipython3",
   "version": "3.8.8"
  },
  "orig_nbformat": 4
 },
 "nbformat": 4,
 "nbformat_minor": 2
}
