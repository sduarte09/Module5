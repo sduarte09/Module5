{
 "cells": [
  {
   "cell_type": "code",
   "execution_count": 3,
   "metadata": {},
   "outputs": [],
   "source": [
    "# importing show from bokeh.io\n",
    "# to show the button\n",
    "from bokeh.io import show\n",
    "  \n",
    "# importing button and customJS package\n",
    "# from bokeh.models\n",
    "from bokeh.models import Button, CustomJS\n",
    "  \n",
    "# Creating a button variable where\n",
    "# we are specifying the properties of the\n",
    "# button such as label on the button and\n",
    "# the button type(Different color)\n",
    "button = Button(label = \"Click on the button\",\n",
    "                button_type = \"danger\")\n",
    "  \n",
    "# js_on_click sets up a javascript handler\n",
    "# for state changes and also when we \n",
    "# are clicking on the button. a message\n",
    "# is printed on the console\n",
    "button.js_on_click(CustomJS(code = \"alert('button: You have clicked on the button!')\"))\n",
    "  \n",
    "# showing the above button\n",
    "show(button)"
   ]
  },
  {
   "cell_type": "code",
   "execution_count": null,
   "metadata": {},
   "outputs": [],
   "source": []
  }
 ],
 "metadata": {
  "interpreter": {
   "hash": "23f099b3e1e471a90f4512b0cd1d998dc7a1d88c7791f9fbff6d32bacabbefb0"
  },
  "kernelspec": {
   "display_name": "Python 3.8.8 ('base')",
   "language": "python",
   "name": "python3"
  },
  "language_info": {
   "codemirror_mode": {
    "name": "ipython",
    "version": 3
   },
   "file_extension": ".py",
   "mimetype": "text/x-python",
   "name": "python",
   "nbconvert_exporter": "python",
   "pygments_lexer": "ipython3",
   "version": "3.8.8"
  },
  "orig_nbformat": 4
 },
 "nbformat": 4,
 "nbformat_minor": 2
}
