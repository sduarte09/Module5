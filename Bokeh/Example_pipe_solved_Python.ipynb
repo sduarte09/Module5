{
 "cells": [
  {
   "cell_type": "markdown",
   "metadata": {},
   "source": [
    "# Pipe Exercise"
   ]
  },
  {
   "cell_type": "markdown",
   "metadata": {},
   "source": [
    "![](2022-02-25-09-39-18.png)"
   ]
  },
  {
   "cell_type": "markdown",
   "metadata": {},
   "source": [
    "### Objective:\n",
    "Compute Velocity at 2"
   ]
  },
  {
   "cell_type": "markdown",
   "metadata": {},
   "source": [
    "Energy 1 = Energy 2 + Friction Loss\n",
    "\n",
    "Assumptions:\n",
    "\n",
    "-No local losses\n",
    "\n",
    "-Energy1=Z1+P1 +(V1^2)/(2*g)=H1 [No pressure and no velocity]\n",
    "\n",
    "-Energy2=Z2+P2 +(V2^2)/(2*g)=V2^2/(2*g) [No elevation and no pressure]\n",
    "\n",
    "-Friction Loss=f*(L/D)*(V2^2/(2*g))\n",
    "\n",
    "Then:\n",
    "\n",
    "H1=V2^2/(2*g)+f*(L/D)*(V2^2/(2*g))\n",
    "\n",
    "H1=V2^2/(2*g)*(1+f*(L/D))\n",
    "\n",
    "V2^2/(2*g)=H1/(1+f*(L/D))\n",
    "\n",
    "V2= sqrt((2*g*H1)/(1+f*(L/D)))\n"
   ]
  },
  {
   "cell_type": "code",
   "execution_count": 1,
   "metadata": {},
   "outputs": [],
   "source": [
    "import numpy as np\n",
    "import scipy as sc\n",
    "\n",
    "def vel2(H1,L,D,f):\n",
    "    vel=np.sqrt((2*9.81*H1)/(1+f*(L/D)))\n",
    "    print(vel)\n",
    "    return vel"
   ]
  },
  {
   "cell_type": "code",
   "execution_count": 2,
   "metadata": {},
   "outputs": [
    {
     "name": "stdout",
     "output_type": "stream",
     "text": [
      "3.007941558325337\n"
     ]
    }
   ],
   "source": [
    "# Input Data Example\n",
    "h1=5  # Tank Elevation 5 m\n",
    "h2=0\n",
    "p1=0\n",
    "p2=0\n",
    "v1=0\n",
    "d=0.1524 # Diameter 15 cm aprox 6\"\n",
    "l=100 # Longitude 100 m\n",
    "fr=0.015 # Darcy coefficient\n",
    "# Velocity\n",
    "V2=vel2(h1,l,d,fr)\n"
   ]
  },
  {
   "cell_type": "code",
   "execution_count": 3,
   "metadata": {},
   "outputs": [],
   "source": [
    "from bokeh import events\n",
    "from bokeh.layouts import column\n",
    "from bokeh.models import Slider\n",
    "from bokeh.io import  show\n",
    "from bokeh.models import Button\n",
    "from bokeh.plotting import figure, output_file\n",
    "from bokeh.models.callbacks import CustomJS\n",
    "output_file(\"velocity.html\")\n",
    "\n",
    "# Sliders\n",
    "sliderH1 = Slider(start=1, end=10, step=0.1, value=5,title='Tank_Height(m)')\n",
    "sliderL = Slider(start=50, end=200, step=5, value=100,title='Pipe_Length(m)')\n",
    "sliderD = Slider(start=0.1, end=1, step=0.05, value=0.15,title='Pipe_Diameter(m)')\n",
    "sliderf = Slider(start=0.01, end=0.1, step=0.001, value=0.01,title='Friction_coefficient')\n",
    "button = Button(label=\"Compute Velocity\", button_type=\"success\")\n",
    "\n",
    "def velocity():\n",
    "    H1=sliderH1.value\n",
    "    L=sliderL.value\n",
    "    D=sliderD.value\n",
    "    f=sliderf.value\n",
    "    vel=np.sqrt((2*9.81*H1)/(1+f*(L/D)))\n",
    "    print(vel)\n",
    "    return vel\n",
    "\n",
    "sliders_callback_code=\"\"\"\n",
    "    var H1=sliderH1.value;\n",
    "    var L= sliderL.value;\n",
    "    var D= sliderD.value;\n",
    "    var f= sliderf.value;\n",
    "    var vel=Math.sqrt((2*9.81*H1)/(1+f*(L/D)));\n",
    "    alert(vel)\n",
    "\"\"\"\n",
    "\n",
    "slider_args = dict(sliderH1=sliderH1, sliderL=sliderL, sliderD=sliderD, sliderf=sliderf)\n",
    "button.js_on_click(CustomJS(args=slider_args,code=sliders_callback_code))  # args=slider_args,code=sliders_callback_code\n",
    "show(column(sliderH1,sliderL,sliderD,sliderf,button))\n"
   ]
  },
  {
   "cell_type": "code",
   "execution_count": 4,
   "metadata": {},
   "outputs": [
    {
     "name": "stdout",
     "output_type": "stream",
     "text": [
      " * Serving Flask app \"__main__\" (lazy loading)\n",
      " * Environment: production\n",
      "   WARNING: This is a development server. Do not use it in a production deployment.\n",
      "   Use a production WSGI server instead.\n",
      " * Debug mode: off\n"
     ]
    },
    {
     "name": "stderr",
     "output_type": "stream",
     "text": [
      " * Running on http://127.0.0.1:5000/ (Press CTRL+C to quit)\n",
      "127.0.0.1 - - [28/Feb/2022 12:23:54] \"\u001b[37mGET / HTTP/1.1\u001b[0m\" 200 -\n"
     ]
    }
   ],
   "source": [
    "!bokeh serve --show "
   ]
  }
 ],
 "metadata": {
  "interpreter": {
   "hash": "23f099b3e1e471a90f4512b0cd1d998dc7a1d88c7791f9fbff6d32bacabbefb0"
  },
  "kernelspec": {
   "display_name": "Python 3.8.8 ('base')",
   "language": "python",
   "name": "python3"
  },
  "language_info": {
   "codemirror_mode": {
    "name": "ipython",
    "version": 3
   },
   "file_extension": ".py",
   "mimetype": "text/x-python",
   "name": "python",
   "nbconvert_exporter": "python",
   "pygments_lexer": "ipython3",
   "version": "3.8.8"
  },
  "orig_nbformat": 4
 },
 "nbformat": 4,
 "nbformat_minor": 2
}
