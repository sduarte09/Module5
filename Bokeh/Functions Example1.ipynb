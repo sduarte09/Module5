{
 "cells": [
  {
   "cell_type": "code",
   "execution_count": 4,
   "metadata": {},
   "outputs": [
    {
     "name": "stderr",
     "output_type": "stream",
     "text": [
      "BokehDeprecationWarning: 'WidgetBox' is deprecated and will be removed in Bokeh 3.0, use 'bokeh.models.Column' instead\n"
     ]
    }
   ],
   "source": [
    "''' Rewrite the basic sliders example as a standalone document with JavaScript callbacks.\n",
    "Present an interactive function explorer with slider widgets.\n",
    "Scrub the sliders to change the properties of the ``sin`` curve, or\n",
    "type into the title text box to update the title of the plot.\n",
    "Run example with python sliders-standalone-code.py\n",
    "In this version, the callbacks are written as strings of JS code.\n",
    "'''\n",
    "import numpy as np\n",
    "\n",
    "from bokeh.layouts import row, widgetbox\n",
    "from bokeh.models import ColumnDataSource\n",
    "from bokeh.models.callbacks import CustomJS\n",
    "from bokeh.models.widgets import Slider, TextInput\n",
    "from bokeh.plotting import figure, output_file, show\n",
    "\n",
    "output_file(\"sliders-standalone.html\")\n",
    "# Set up data\n",
    "N = 200\n",
    "x = np.linspace(0, 4*np.pi, N)\n",
    "y = np.sin(x)\n",
    "source = ColumnDataSource(data=dict(x=x, y=y))\n",
    "\n",
    "\n",
    "# Set up plot\n",
    "plot = figure(plot_height=400, plot_width=400, title=\"my sine wave\",\n",
    "              tools=\"crosshair,pan,reset,save,wheel_zoom\",\n",
    "              x_range=[0, 4*np.pi], y_range=[-2.5, 2.5])\n",
    "\n",
    "plot.line('x', 'y', source=source, line_width=3, line_alpha=0.6)\n",
    "\n",
    "\n",
    "# Set up widgets\n",
    "text = TextInput(title=\"title\", value='my sine wave')\n",
    "offset = Slider(title=\"offset\", value=0.0, start=-5.0, end=5.0, step=0.1)\n",
    "amplitude = Slider(title=\"amplitude\", value=1.0, start=-5.0, end=5.0, step=0.1)\n",
    "phase = Slider(title=\"phase\", value=0.0, start=0.0, end=2*np.pi)\n",
    "freq = Slider(title=\"frequency\", value=1.0, start=0.1, end=5.1, step=0.1)\n",
    "\n",
    "\n",
    "# Set up callbacks\n",
    "text_callback_code =\"\"\"\n",
    "    plot.title.text = text.value\n",
    "\"\"\"\n",
    "\n",
    "text.js_on_change('value', CustomJS(args=dict(text=text,plot=plot), code=text_callback_code))\n",
    "\n",
    "sliders_callback_code=\"\"\"\n",
    "    const a = amplitude.value,\n",
    "        b = offset.value,\n",
    "        w = phase.value,\n",
    "        k = freq.value,\n",
    "        N = 200,\n",
    "        x=source.data['x'],\n",
    "        y=source.data['y']\n",
    "    for(let i=0; i < N; i++) {\n",
    "        x[i] = 4 * window.Math.PI * i / (N-1)\n",
    "        y[i] = a * window.Math.sin(k * x[i] + w) + b\n",
    "    }\n",
    "    source.change.emit()\n",
    "\"\"\"\n",
    "\n",
    "slider_args = dict(source=source, amplitude=amplitude, offset=offset, phase=phase, freq=freq)\n",
    "\n",
    "for w in [offset, amplitude, phase, freq]:\n",
    "    w.js_on_change('value', CustomJS(args=slider_args,code=sliders_callback_code))\n",
    "\n",
    "\n",
    "# Set up layouts and add to document\n",
    "inputs = widgetbox(text, offset, amplitude, phase, freq)\n",
    "\n",
    "show(row(inputs, plot, width=800))"
   ]
  },
  {
   "cell_type": "code",
   "execution_count": null,
   "metadata": {},
   "outputs": [],
   "source": []
  }
 ],
 "metadata": {
  "interpreter": {
   "hash": "23f099b3e1e471a90f4512b0cd1d998dc7a1d88c7791f9fbff6d32bacabbefb0"
  },
  "kernelspec": {
   "display_name": "Python 3.8.8 ('base')",
   "language": "python",
   "name": "python3"
  },
  "language_info": {
   "codemirror_mode": {
    "name": "ipython",
    "version": 3
   },
   "file_extension": ".py",
   "mimetype": "text/x-python",
   "name": "python",
   "nbconvert_exporter": "python",
   "pygments_lexer": "ipython3",
   "version": "3.8.8"
  },
  "orig_nbformat": 4
 },
 "nbformat": 4,
 "nbformat_minor": 2
}
