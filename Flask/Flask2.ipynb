{
 "cells": [
  {
   "cell_type": "code",
   "execution_count": null,
   "metadata": {},
   "outputs": [],
   "source": [
    "from threading import Thread\n",
    "\n",
    "from flask import Flask, render_template\n",
    "from tornado.ioloop import IOLoop\n",
    "\n",
    "from bokeh.embed import server_document\n",
    "from bokeh.layouts import column\n",
    "from bokeh.models import ColumnDataSource, Slider\n",
    "from bokeh.plotting import figure\n",
    "from bokeh.sampledata.sea_surface_temperature import sea_surface_temperature\n",
    "from bokeh.server.server import Server\n",
    "from bokeh.themes import Theme\n",
    "\n",
    "app = Flask(__name__)\n",
    "\n",
    "\n",
    "def bkapp(doc):\n",
    "    df = sea_surface_temperature.copy()\n",
    "    source = ColumnDataSource(data=df)\n",
    "\n",
    "    plot = figure(x_axis_type='datetime', y_range=(0, 25), y_axis_label='Temperature (Celsius)',\n",
    "                  title=\"Sea Surface Temperature at 43.18, -70.43\")\n",
    "    plot.line('time', 'temperature', source=source)\n",
    "\n",
    "    def callback(attr, old, new):\n",
    "        if new == 0:\n",
    "            data = df\n",
    "        else:\n",
    "            data = df.rolling(f\"{new}D\").mean()\n",
    "        source.data = ColumnDataSource.from_df(data)\n",
    "\n",
    "    slider = Slider(start=0, end=30, value=0, step=1, title=\"Smoothing by N Days\")\n",
    "    slider.on_change('value', callback)\n",
    "\n",
    "    doc.add_root(column(slider, plot))\n",
    "\n",
    "    doc.theme = Theme(filename=\"theme.yaml\")\n",
    "\n",
    "\n",
    "@app.route('/', methods=['GET'])\n",
    "def bkapp_page():\n",
    "    script = server_document('http://localhost:5006/bkapp')\n",
    "    return render_template(\"embed.html\", script=script, template=\"Flask\")\n",
    "\n",
    "\n",
    "def bk_worker():\n",
    "    # Can't pass num_procs > 1 in this configuration. If you need to run multiple\n",
    "    # processes, see e.g. flask_gunicorn_embed.py\n",
    "    server = Server({'/bkapp': bkapp}, io_loop=IOLoop(), allow_websocket_origin=[\"localhost:8000\"])\n",
    "    server.start()\n",
    "    server.io_loop.start()\n",
    "\n",
    "Thread(target=bk_worker).start()\n",
    "\n",
    "if __name__ == '__main__':\n",
    "    print('Opening single process Flask app with embedded Bokeh application on http://localhost:8000/')\n",
    "    print()\n",
    "    print('Multiple connections may block the Bokeh app in this configuration!')\n",
    "    print('See \"flask_gunicorn_embed.py\" for one way to run multi-process')\n",
    "    app.run(port=8000)\n",
    "    # http://localhost:8000/"
   ]
  },
  {
   "cell_type": "code",
   "execution_count": null,
   "metadata": {},
   "outputs": [],
   "source": []
  }
 ],
 "metadata": {
  "interpreter": {
   "hash": "23f099b3e1e471a90f4512b0cd1d998dc7a1d88c7791f9fbff6d32bacabbefb0"
  },
  "kernelspec": {
   "display_name": "Python 3.8.8 ('base')",
   "language": "python",
   "name": "python3"
  },
  "language_info": {
   "codemirror_mode": {
    "name": "ipython",
    "version": 3
   },
   "file_extension": ".py",
   "mimetype": "text/x-python",
   "name": "python",
   "nbconvert_exporter": "python",
   "pygments_lexer": "ipython3",
   "version": "3.8.8"
  },
  "orig_nbformat": 4
 },
 "nbformat": 4,
 "nbformat_minor": 2
}
