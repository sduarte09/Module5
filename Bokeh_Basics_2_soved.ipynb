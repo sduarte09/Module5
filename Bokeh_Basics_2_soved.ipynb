{
 "cells": [
  {
   "cell_type": "code",
   "execution_count": 20,
   "metadata": {},
   "outputs": [
    {
     "data": {
      "text/html": [
       "\n",
       "    <div class=\"bk-root\">\n",
       "        <a href=\"https://bokeh.org\" target=\"_blank\" class=\"bk-logo bk-logo-small bk-logo-notebook\"></a>\n",
       "        <span id=\"9035\">Loading BokehJS ...</span>\n",
       "    </div>"
      ]
     },
     "metadata": {},
     "output_type": "display_data"
    },
    {
     "data": {
      "application/javascript": "\n(function(root) {\n  function now() {\n    return new Date();\n  }\n\n  const force = true;\n\n  if (typeof root._bokeh_onload_callbacks === \"undefined\" || force === true) {\n    root._bokeh_onload_callbacks = [];\n    root._bokeh_is_loading = undefined;\n  }\n\n  const JS_MIME_TYPE = 'application/javascript';\n  const HTML_MIME_TYPE = 'text/html';\n  const EXEC_MIME_TYPE = 'application/vnd.bokehjs_exec.v0+json';\n  const CLASS_NAME = 'output_bokeh rendered_html';\n\n  /**\n   * Render data to the DOM node\n   */\n  function render(props, node) {\n    const script = document.createElement(\"script\");\n    node.appendChild(script);\n  }\n\n  /**\n   * Handle when an output is cleared or removed\n   */\n  function handleClearOutput(event, handle) {\n    const cell = handle.cell;\n\n    const id = cell.output_area._bokeh_element_id;\n    const server_id = cell.output_area._bokeh_server_id;\n    // Clean up Bokeh references\n    if (id != null && id in Bokeh.index) {\n      Bokeh.index[id].model.document.clear();\n      delete Bokeh.index[id];\n    }\n\n    if (server_id !== undefined) {\n      // Clean up Bokeh references\n      const cmd_clean = \"from bokeh.io.state import curstate; print(curstate().uuid_to_server['\" + server_id + \"'].get_sessions()[0].document.roots[0]._id)\";\n      cell.notebook.kernel.execute(cmd_clean, {\n        iopub: {\n          output: function(msg) {\n            const id = msg.content.text.trim();\n            if (id in Bokeh.index) {\n              Bokeh.index[id].model.document.clear();\n              delete Bokeh.index[id];\n            }\n          }\n        }\n      });\n      // Destroy server and session\n      const cmd_destroy = \"import bokeh.io.notebook as ion; ion.destroy_server('\" + server_id + \"')\";\n      cell.notebook.kernel.execute(cmd_destroy);\n    }\n  }\n\n  /**\n   * Handle when a new output is added\n   */\n  function handleAddOutput(event, handle) {\n    const output_area = handle.output_area;\n    const output = handle.output;\n\n    // limit handleAddOutput to display_data with EXEC_MIME_TYPE content only\n    if ((output.output_type != \"display_data\") || (!Object.prototype.hasOwnProperty.call(output.data, EXEC_MIME_TYPE))) {\n      return\n    }\n\n    const toinsert = output_area.element.find(\".\" + CLASS_NAME.split(' ')[0]);\n\n    if (output.metadata[EXEC_MIME_TYPE][\"id\"] !== undefined) {\n      toinsert[toinsert.length - 1].firstChild.textContent = output.data[JS_MIME_TYPE];\n      // store reference to embed id on output_area\n      output_area._bokeh_element_id = output.metadata[EXEC_MIME_TYPE][\"id\"];\n    }\n    if (output.metadata[EXEC_MIME_TYPE][\"server_id\"] !== undefined) {\n      const bk_div = document.createElement(\"div\");\n      bk_div.innerHTML = output.data[HTML_MIME_TYPE];\n      const script_attrs = bk_div.children[0].attributes;\n      for (let i = 0; i < script_attrs.length; i++) {\n        toinsert[toinsert.length - 1].firstChild.setAttribute(script_attrs[i].name, script_attrs[i].value);\n        toinsert[toinsert.length - 1].firstChild.textContent = bk_div.children[0].textContent\n      }\n      // store reference to server id on output_area\n      output_area._bokeh_server_id = output.metadata[EXEC_MIME_TYPE][\"server_id\"];\n    }\n  }\n\n  function register_renderer(events, OutputArea) {\n\n    function append_mime(data, metadata, element) {\n      // create a DOM node to render to\n      const toinsert = this.create_output_subarea(\n        metadata,\n        CLASS_NAME,\n        EXEC_MIME_TYPE\n      );\n      this.keyboard_manager.register_events(toinsert);\n      // Render to node\n      const props = {data: data, metadata: metadata[EXEC_MIME_TYPE]};\n      render(props, toinsert[toinsert.length - 1]);\n      element.append(toinsert);\n      return toinsert\n    }\n\n    /* Handle when an output is cleared or removed */\n    events.on('clear_output.CodeCell', handleClearOutput);\n    events.on('delete.Cell', handleClearOutput);\n\n    /* Handle when a new output is added */\n    events.on('output_added.OutputArea', handleAddOutput);\n\n    /**\n     * Register the mime type and append_mime function with output_area\n     */\n    OutputArea.prototype.register_mime_type(EXEC_MIME_TYPE, append_mime, {\n      /* Is output safe? */\n      safe: true,\n      /* Index of renderer in `output_area.display_order` */\n      index: 0\n    });\n  }\n\n  // register the mime type if in Jupyter Notebook environment and previously unregistered\n  if (root.Jupyter !== undefined) {\n    const events = require('base/js/events');\n    const OutputArea = require('notebook/js/outputarea').OutputArea;\n\n    if (OutputArea.prototype.mime_types().indexOf(EXEC_MIME_TYPE) == -1) {\n      register_renderer(events, OutputArea);\n    }\n  }\n\n  \n  if (typeof (root._bokeh_timeout) === \"undefined\" || force === true) {\n    root._bokeh_timeout = Date.now() + 5000;\n    root._bokeh_failed_load = false;\n  }\n\n  const NB_LOAD_WARNING = {'data': {'text/html':\n     \"<div style='background-color: #fdd'>\\n\"+\n     \"<p>\\n\"+\n     \"BokehJS does not appear to have successfully loaded. If loading BokehJS from CDN, this \\n\"+\n     \"may be due to a slow or bad network connection. Possible fixes:\\n\"+\n     \"</p>\\n\"+\n     \"<ul>\\n\"+\n     \"<li>re-rerun `output_notebook()` to attempt to load from CDN again, or</li>\\n\"+\n     \"<li>use INLINE resources instead, as so:</li>\\n\"+\n     \"</ul>\\n\"+\n     \"<code>\\n\"+\n     \"from bokeh.resources import INLINE\\n\"+\n     \"output_notebook(resources=INLINE)\\n\"+\n     \"</code>\\n\"+\n     \"</div>\"}};\n\n  function display_loaded() {\n    const el = document.getElementById(\"9035\");\n    if (el != null) {\n      el.textContent = \"BokehJS is loading...\";\n    }\n    if (root.Bokeh !== undefined) {\n      if (el != null) {\n        el.textContent = \"BokehJS \" + root.Bokeh.version + \" successfully loaded.\";\n      }\n    } else if (Date.now() < root._bokeh_timeout) {\n      setTimeout(display_loaded, 100)\n    }\n  }\n\n\n  function run_callbacks() {\n    try {\n      root._bokeh_onload_callbacks.forEach(function(callback) {\n        if (callback != null)\n          callback();\n      });\n    } finally {\n      delete root._bokeh_onload_callbacks\n    }\n    console.debug(\"Bokeh: all callbacks have finished\");\n  }\n\n  function load_libs(css_urls, js_urls, callback) {\n    if (css_urls == null) css_urls = [];\n    if (js_urls == null) js_urls = [];\n\n    root._bokeh_onload_callbacks.push(callback);\n    if (root._bokeh_is_loading > 0) {\n      console.debug(\"Bokeh: BokehJS is being loaded, scheduling callback at\", now());\n      return null;\n    }\n    if (js_urls == null || js_urls.length === 0) {\n      run_callbacks();\n      return null;\n    }\n    console.debug(\"Bokeh: BokehJS not loaded, scheduling load and callback at\", now());\n    root._bokeh_is_loading = css_urls.length + js_urls.length;\n\n    function on_load() {\n      root._bokeh_is_loading--;\n      if (root._bokeh_is_loading === 0) {\n        console.debug(\"Bokeh: all BokehJS libraries/stylesheets loaded\");\n        run_callbacks()\n      }\n    }\n\n    function on_error(url) {\n      console.error(\"failed to load \" + url);\n    }\n\n    for (let i = 0; i < css_urls.length; i++) {\n      const url = css_urls[i];\n      const element = document.createElement(\"link\");\n      element.onload = on_load;\n      element.onerror = on_error.bind(null, url);\n      element.rel = \"stylesheet\";\n      element.type = \"text/css\";\n      element.href = url;\n      console.debug(\"Bokeh: injecting link tag for BokehJS stylesheet: \", url);\n      document.body.appendChild(element);\n    }\n\n    for (let i = 0; i < js_urls.length; i++) {\n      const url = js_urls[i];\n      const element = document.createElement('script');\n      element.onload = on_load;\n      element.onerror = on_error.bind(null, url);\n      element.async = false;\n      element.src = url;\n      console.debug(\"Bokeh: injecting script tag for BokehJS library: \", url);\n      document.head.appendChild(element);\n    }\n  };\n\n  function inject_raw_css(css) {\n    const element = document.createElement(\"style\");\n    element.appendChild(document.createTextNode(css));\n    document.body.appendChild(element);\n  }\n\n  \n  const js_urls = [\"https://cdn.bokeh.org/bokeh/release/bokeh-2.4.2.min.js\", \"https://cdn.bokeh.org/bokeh/release/bokeh-gl-2.4.2.min.js\", \"https://cdn.bokeh.org/bokeh/release/bokeh-widgets-2.4.2.min.js\", \"https://cdn.bokeh.org/bokeh/release/bokeh-tables-2.4.2.min.js\", \"https://cdn.bokeh.org/bokeh/release/bokeh-mathjax-2.4.2.min.js\"];\n  const css_urls = [];\n  \n\n  const inline_js = [\n    function(Bokeh) {\n      Bokeh.set_log_level(\"info\");\n    },\n    function(Bokeh) {\n    \n    \n    }\n  ];\n\n  function run_inline_js() {\n    \n    if (root.Bokeh !== undefined || force === true) {\n      \n    for (let i = 0; i < inline_js.length; i++) {\n      inline_js[i].call(root, root.Bokeh);\n    }\n    if (force === true) {\n        display_loaded();\n      }} else if (Date.now() < root._bokeh_timeout) {\n      setTimeout(run_inline_js, 100);\n    } else if (!root._bokeh_failed_load) {\n      console.log(\"Bokeh: BokehJS failed to load within specified timeout.\");\n      root._bokeh_failed_load = true;\n    } else if (force !== true) {\n      const cell = $(document.getElementById(\"9035\")).parents('.cell').data().cell;\n      cell.output_area.append_execute_result(NB_LOAD_WARNING)\n    }\n\n  }\n\n  if (root._bokeh_is_loading === 0) {\n    console.debug(\"Bokeh: BokehJS loaded, going straight to plotting\");\n    run_inline_js();\n  } else {\n    load_libs(css_urls, js_urls, function() {\n      console.debug(\"Bokeh: BokehJS plotting callback run at\", now());\n      run_inline_js();\n    });\n  }\n}(window));",
      "application/vnd.bokehjs_load.v0+json": ""
     },
     "metadata": {},
     "output_type": "display_data"
    },
    {
     "data": {
      "text/html": [
       "\n",
       "\n",
       "\n",
       "\n",
       "\n",
       "\n",
       "  <div class=\"bk-root\" id=\"f64e2e4f-e5b0-4a3d-a476-c8ea9a5fa262\" data-root-id=\"9036\"></div>\n"
      ]
     },
     "metadata": {},
     "output_type": "display_data"
    },
    {
     "data": {
      "application/javascript": "(function(root) {\n  function embed_document(root) {\n    \n  const docs_json = {\"326060ea-64d2-401b-a9fc-48468180789b\":{\"defs\":[],\"roots\":{\"references\":[{\"attributes\":{\"below\":[{\"id\":\"9047\"}],\"center\":[{\"id\":\"9050\"},{\"id\":\"9054\"}],\"left\":[{\"id\":\"9051\"}],\"renderers\":[{\"id\":\"9073\"},{\"id\":\"9079\"},{\"id\":\"9085\"},{\"id\":\"9091\"},{\"id\":\"9097\"},{\"id\":\"9103\"},{\"id\":\"9109\"}],\"title\":{\"id\":\"9037\"},\"toolbar\":{\"id\":\"9062\"},\"x_range\":{\"id\":\"9039\"},\"x_scale\":{\"id\":\"9043\"},\"y_range\":{\"id\":\"9041\"},\"y_scale\":{\"id\":\"9045\"}},\"id\":\"9036\",\"subtype\":\"Figure\",\"type\":\"Plot\"},{\"attributes\":{\"coordinates\":null,\"data_source\":{\"id\":\"9081\"},\"glyph\":{\"id\":\"9082\"},\"group\":null,\"hover_glyph\":null,\"muted_glyph\":{\"id\":\"9084\"},\"nonselection_glyph\":{\"id\":\"9083\"},\"view\":{\"id\":\"9086\"}},\"id\":\"9085\",\"type\":\"GlyphRenderer\"},{\"attributes\":{\"line_alpha\":0.2,\"line_color\":\"blue\",\"line_width\":3,\"x\":{\"field\":\"x\"},\"y\":{\"field\":\"y\"}},\"id\":\"9072\",\"type\":\"Line\"},{\"attributes\":{\"line_color\":\"blue\",\"line_width\":3,\"x\":{\"field\":\"x\"},\"y\":{\"field\":\"y\"}},\"id\":\"9070\",\"type\":\"Line\"},{\"attributes\":{\"source\":{\"id\":\"9069\"}},\"id\":\"9074\",\"type\":\"CDSView\"},{\"attributes\":{\"line_alpha\":0.1,\"line_color\":\"blue\",\"line_width\":3,\"x\":{\"field\":\"x\"},\"y\":{\"field\":\"y\"}},\"id\":\"9071\",\"type\":\"Line\"},{\"attributes\":{\"line_color\":\"green\",\"line_width\":3,\"x\":{\"field\":\"x\"},\"y\":{\"field\":\"y\"}},\"id\":\"9076\",\"type\":\"Line\"},{\"attributes\":{\"line_color\":\"red\",\"line_width\":3,\"x\":{\"field\":\"x\"},\"y\":{\"field\":\"y\"}},\"id\":\"9094\",\"type\":\"Line\"},{\"attributes\":{\"line_alpha\":0.2,\"line_color\":\"green\",\"line_width\":3,\"x\":{\"field\":\"x\"},\"y\":{\"field\":\"y\"}},\"id\":\"9084\",\"type\":\"Line\"},{\"attributes\":{\"data\":{\"x\":[1,2,2,1],\"y\":[1,1,5,5]},\"selected\":{\"id\":\"9373\"},\"selection_policy\":{\"id\":\"9372\"}},\"id\":\"9075\",\"type\":\"ColumnDataSource\"},{\"attributes\":{\"line_alpha\":0.2,\"line_color\":\"green\",\"line_width\":3,\"x\":{\"field\":\"x\"},\"y\":{\"field\":\"y\"}},\"id\":\"9078\",\"type\":\"Line\"},{\"attributes\":{\"line_color\":\"green\",\"line_width\":3,\"x\":{\"field\":\"x\"},\"y\":{\"field\":\"y\"}},\"id\":\"9082\",\"type\":\"Line\"},{\"attributes\":{\"source\":{\"id\":\"9075\"}},\"id\":\"9080\",\"type\":\"CDSView\"},{\"attributes\":{\"data\":{\"x\":[3,2,2,3],\"y\":[1,1,5,5]},\"selected\":{\"id\":\"9375\"},\"selection_policy\":{\"id\":\"9374\"}},\"id\":\"9081\",\"type\":\"ColumnDataSource\"},{\"attributes\":{\"line_alpha\":0.1,\"line_color\":\"green\",\"line_width\":3,\"x\":{\"field\":\"x\"},\"y\":{\"field\":\"y\"}},\"id\":\"9077\",\"type\":\"Line\"},{\"attributes\":{\"coordinates\":null,\"data_source\":{\"id\":\"9069\"},\"glyph\":{\"id\":\"9070\"},\"group\":null,\"hover_glyph\":null,\"muted_glyph\":{\"id\":\"9072\"},\"nonselection_glyph\":{\"id\":\"9071\"},\"view\":{\"id\":\"9074\"}},\"id\":\"9073\",\"type\":\"GlyphRenderer\"},{\"attributes\":{\"source\":{\"id\":\"9081\"}},\"id\":\"9086\",\"type\":\"CDSView\"},{\"attributes\":{\"line_color\":\"red\",\"line_width\":3,\"x\":{\"field\":\"x\"},\"y\":{\"field\":\"y\"}},\"id\":\"9088\",\"type\":\"Line\"},{\"attributes\":{\"coordinates\":null,\"data_source\":{\"id\":\"9087\"},\"glyph\":{\"id\":\"9088\"},\"group\":null,\"hover_glyph\":null,\"muted_glyph\":{\"id\":\"9090\"},\"nonselection_glyph\":{\"id\":\"9089\"},\"view\":{\"id\":\"9092\"}},\"id\":\"9091\",\"type\":\"GlyphRenderer\"},{\"attributes\":{\"line_alpha\":0.2,\"line_color\":\"red\",\"line_width\":3,\"x\":{\"field\":\"x\"},\"y\":{\"field\":\"y\"}},\"id\":\"9090\",\"type\":\"Line\"},{\"attributes\":{\"line_alpha\":0.1,\"line_color\":\"green\",\"line_width\":3,\"x\":{\"field\":\"x\"},\"y\":{\"field\":\"y\"}},\"id\":\"9083\",\"type\":\"Line\"},{\"attributes\":{\"data\":{\"x\":[4,4,6,6],\"y\":[1,3,3,1]},\"selected\":{\"id\":\"9377\"},\"selection_policy\":{\"id\":\"9376\"}},\"id\":\"9087\",\"type\":\"ColumnDataSource\"},{\"attributes\":{\"source\":{\"id\":\"9087\"}},\"id\":\"9092\",\"type\":\"CDSView\"},{\"attributes\":{\"coordinates\":null,\"data_source\":{\"id\":\"9093\"},\"glyph\":{\"id\":\"9094\"},\"group\":null,\"hover_glyph\":null,\"muted_glyph\":{\"id\":\"9096\"},\"nonselection_glyph\":{\"id\":\"9095\"},\"view\":{\"id\":\"9098\"}},\"id\":\"9097\",\"type\":\"GlyphRenderer\"},{\"attributes\":{\"line_alpha\":0.2,\"line_color\":\"red\",\"line_width\":3,\"x\":{\"field\":\"x\"},\"y\":{\"field\":\"y\"}},\"id\":\"9096\",\"type\":\"Line\"},{\"attributes\":{\"line_alpha\":0.1,\"line_color\":\"red\",\"line_width\":3,\"x\":{\"field\":\"x\"},\"y\":{\"field\":\"y\"}},\"id\":\"9089\",\"type\":\"Line\"},{\"attributes\":{\"data\":{\"x\":[4,4,6,6],\"y\":[5,3,3,5]},\"selected\":{\"id\":\"9379\"},\"selection_policy\":{\"id\":\"9378\"}},\"id\":\"9093\",\"type\":\"ColumnDataSource\"},{\"attributes\":{\"source\":{\"id\":\"9093\"}},\"id\":\"9098\",\"type\":\"CDSView\"},{\"attributes\":{\"line_width\":3,\"x\":{\"field\":\"x\"},\"y\":{\"field\":\"y\"}},\"id\":\"9100\",\"type\":\"Line\"},{\"attributes\":{\"coordinates\":null,\"data_source\":{\"id\":\"9099\"},\"glyph\":{\"id\":\"9100\"},\"group\":null,\"hover_glyph\":null,\"muted_glyph\":{\"id\":\"9102\"},\"nonselection_glyph\":{\"id\":\"9101\"},\"view\":{\"id\":\"9104\"}},\"id\":\"9103\",\"type\":\"GlyphRenderer\"},{\"attributes\":{\"line_alpha\":0.2,\"line_width\":3,\"x\":{\"field\":\"x\"},\"y\":{\"field\":\"y\"}},\"id\":\"9102\",\"type\":\"Line\"},{\"attributes\":{\"line_alpha\":0.1,\"line_color\":\"red\",\"line_width\":3,\"x\":{\"field\":\"x\"},\"y\":{\"field\":\"y\"}},\"id\":\"9095\",\"type\":\"Line\"},{\"attributes\":{\"data\":{\"x\":[9,7,7,9],\"y\":[1,1,3,3]},\"selected\":{\"id\":\"9381\"},\"selection_policy\":{\"id\":\"9380\"}},\"id\":\"9099\",\"type\":\"ColumnDataSource\"},{\"attributes\":{\"source\":{\"id\":\"9099\"}},\"id\":\"9104\",\"type\":\"CDSView\"},{\"attributes\":{\"line_alpha\":0.2,\"line_width\":3,\"x\":{\"field\":\"x\"},\"y\":{\"field\":\"y\"}},\"id\":\"9108\",\"type\":\"Line\"},{\"attributes\":{\"coordinates\":null,\"data_source\":{\"id\":\"9105\"},\"glyph\":{\"id\":\"9106\"},\"group\":null,\"hover_glyph\":null,\"muted_glyph\":{\"id\":\"9108\"},\"nonselection_glyph\":{\"id\":\"9107\"},\"view\":{\"id\":\"9110\"}},\"id\":\"9109\",\"type\":\"GlyphRenderer\"},{\"attributes\":{\"data\":{\"x\":[9,7,7,9],\"y\":[3,3,5,5]},\"selected\":{\"id\":\"9383\"},\"selection_policy\":{\"id\":\"9382\"}},\"id\":\"9105\",\"type\":\"ColumnDataSource\"},{\"attributes\":{\"line_alpha\":0.1,\"line_width\":3,\"x\":{\"field\":\"x\"},\"y\":{\"field\":\"y\"}},\"id\":\"9101\",\"type\":\"Line\"},{\"attributes\":{\"source\":{\"id\":\"9105\"}},\"id\":\"9110\",\"type\":\"CDSView\"},{\"attributes\":{\"line_width\":3,\"x\":{\"field\":\"x\"},\"y\":{\"field\":\"y\"}},\"id\":\"9106\",\"type\":\"Line\"},{\"attributes\":{\"line_alpha\":0.1,\"line_width\":3,\"x\":{\"field\":\"x\"},\"y\":{\"field\":\"y\"}},\"id\":\"9107\",\"type\":\"Line\"},{\"attributes\":{},\"id\":\"9368\",\"type\":\"BasicTickFormatter\"},{\"attributes\":{},\"id\":\"9376\",\"type\":\"UnionRenderers\"},{\"attributes\":{},\"id\":\"9375\",\"type\":\"Selection\"},{\"attributes\":{},\"id\":\"9377\",\"type\":\"Selection\"},{\"attributes\":{},\"id\":\"9365\",\"type\":\"BasicTickFormatter\"},{\"attributes\":{},\"id\":\"9366\",\"type\":\"AllLabels\"},{\"attributes\":{\"coordinates\":null,\"data_source\":{\"id\":\"9075\"},\"glyph\":{\"id\":\"9076\"},\"group\":null,\"hover_glyph\":null,\"muted_glyph\":{\"id\":\"9078\"},\"nonselection_glyph\":{\"id\":\"9077\"},\"view\":{\"id\":\"9080\"}},\"id\":\"9079\",\"type\":\"GlyphRenderer\"},{\"attributes\":{},\"id\":\"9378\",\"type\":\"UnionRenderers\"},{\"attributes\":{},\"id\":\"9369\",\"type\":\"AllLabels\"},{\"attributes\":{},\"id\":\"9379\",\"type\":\"Selection\"},{\"attributes\":{},\"id\":\"9039\",\"type\":\"DataRange1d\"},{\"attributes\":{\"coordinates\":null,\"group\":null,\"text\":\"IHE Delft\"},\"id\":\"9037\",\"type\":\"Title\"},{\"attributes\":{\"axis\":{\"id\":\"9047\"},\"coordinates\":null,\"group\":null,\"ticker\":null},\"id\":\"9050\",\"type\":\"Grid\"},{\"attributes\":{},\"id\":\"9370\",\"type\":\"UnionRenderers\"},{\"attributes\":{\"axis_label\":\"letters\",\"coordinates\":null,\"formatter\":{\"id\":\"9365\"},\"group\":null,\"major_label_policy\":{\"id\":\"9366\"},\"ticker\":{\"id\":\"9052\"}},\"id\":\"9051\",\"type\":\"LinearAxis\"},{\"attributes\":{},\"id\":\"9371\",\"type\":\"Selection\"},{\"attributes\":{},\"id\":\"9380\",\"type\":\"UnionRenderers\"},{\"attributes\":{},\"id\":\"9045\",\"type\":\"LinearScale\"},{\"attributes\":{\"axis\":{\"id\":\"9051\"},\"coordinates\":null,\"dimension\":1,\"group\":null,\"ticker\":null},\"id\":\"9054\",\"type\":\"Grid\"},{\"attributes\":{},\"id\":\"9381\",\"type\":\"Selection\"},{\"attributes\":{},\"id\":\"9041\",\"type\":\"DataRange1d\"},{\"attributes\":{},\"id\":\"9056\",\"type\":\"WheelZoomTool\"},{\"attributes\":{},\"id\":\"9052\",\"type\":\"BasicTicker\"},{\"attributes\":{},\"id\":\"9048\",\"type\":\"BasicTicker\"},{\"attributes\":{\"axis_label\":\"x\",\"coordinates\":null,\"formatter\":{\"id\":\"9368\"},\"group\":null,\"major_label_policy\":{\"id\":\"9369\"},\"ticker\":{\"id\":\"9048\"}},\"id\":\"9047\",\"type\":\"LinearAxis\"},{\"attributes\":{},\"id\":\"9043\",\"type\":\"LinearScale\"},{\"attributes\":{},\"id\":\"9372\",\"type\":\"UnionRenderers\"},{\"attributes\":{},\"id\":\"9374\",\"type\":\"UnionRenderers\"},{\"attributes\":{},\"id\":\"9373\",\"type\":\"Selection\"},{\"attributes\":{\"data\":{\"x\":[0,10],\"y\":[0.5,0.5]},\"selected\":{\"id\":\"9371\"},\"selection_policy\":{\"id\":\"9370\"}},\"id\":\"9069\",\"type\":\"ColumnDataSource\"},{\"attributes\":{},\"id\":\"9382\",\"type\":\"UnionRenderers\"},{\"attributes\":{},\"id\":\"9060\",\"type\":\"HelpTool\"},{\"attributes\":{},\"id\":\"9055\",\"type\":\"PanTool\"},{\"attributes\":{\"overlay\":{\"id\":\"9061\"}},\"id\":\"9057\",\"type\":\"BoxZoomTool\"},{\"attributes\":{},\"id\":\"9383\",\"type\":\"Selection\"},{\"attributes\":{},\"id\":\"9058\",\"type\":\"SaveTool\"},{\"attributes\":{},\"id\":\"9059\",\"type\":\"ResetTool\"},{\"attributes\":{\"bottom_units\":\"screen\",\"coordinates\":null,\"fill_alpha\":0.5,\"fill_color\":\"lightgrey\",\"group\":null,\"left_units\":\"screen\",\"level\":\"overlay\",\"line_alpha\":1.0,\"line_color\":\"black\",\"line_dash\":[4,4],\"line_width\":2,\"right_units\":\"screen\",\"syncable\":false,\"top_units\":\"screen\"},\"id\":\"9061\",\"type\":\"BoxAnnotation\"},{\"attributes\":{\"tools\":[{\"id\":\"9055\"},{\"id\":\"9056\"},{\"id\":\"9057\"},{\"id\":\"9058\"},{\"id\":\"9059\"},{\"id\":\"9060\"}]},\"id\":\"9062\",\"type\":\"Toolbar\"}],\"root_ids\":[\"9036\"]},\"title\":\"Bokeh Application\",\"version\":\"2.4.2\"}};\n  const render_items = [{\"docid\":\"326060ea-64d2-401b-a9fc-48468180789b\",\"root_ids\":[\"9036\"],\"roots\":{\"9036\":\"f64e2e4f-e5b0-4a3d-a476-c8ea9a5fa262\"}}];\n  root.Bokeh.embed.embed_items_notebook(docs_json, render_items);\n\n  }\n  if (root.Bokeh !== undefined) {\n    embed_document(root);\n  } else {\n    let attempts = 0;\n    const timer = setInterval(function(root) {\n      if (root.Bokeh !== undefined) {\n        clearInterval(timer);\n        embed_document(root);\n      } else {\n        attempts++;\n        if (attempts > 100) {\n          clearInterval(timer);\n          console.log(\"Bokeh: ERROR: Unable to run BokehJS code because BokehJS library is missing\");\n        }\n      }\n    }, 10, root)\n  }\n})(window);",
      "application/vnd.bokehjs_exec.v0+json": ""
     },
     "metadata": {
      "application/vnd.bokehjs_exec.v0+json": {
       "id": "9036"
      }
     },
     "output_type": "display_data"
    }
   ],
   "source": [
    "from bokeh.plotting import figure\n",
    "from bokeh.io import output_notebook, show\n",
    "output_notebook()\n",
    "# Create a new plot with a title and axis labels\n",
    "p = figure(title=\"IHE Delft\", x_axis_label='x', y_axis_label='letters')\n",
    "## Base Line\n",
    "x = [0, 10]\n",
    "y = [0.5,0.5]\n",
    "p.line(x, y,  line_width=3, line_color='blue')\n",
    "\n",
    "## Group 1\n",
    "x = [1, 2,2, 1]\n",
    "y = [1,1,5,5]\n",
    "p.line(x, y,  line_width=3, line_color='green')\n",
    "\n",
    "## Group 2\n",
    "x = [3, 2,2, 3]\n",
    "y = [1,1,5,5]\n",
    "p.line(x, y,  line_width=3, line_color='green')\n",
    "\n",
    "## Group 3\n",
    "x = [4, 4,6, 6]\n",
    "y = [1,3,3,1]\n",
    "p.line(x, y,  line_width=3, line_color='red')\n",
    "\n",
    "## Group 4\n",
    "x = [4, 4,6, 6]\n",
    "y = [5,3,3,5]\n",
    "p.line(x, y,  line_width=3, line_color='red')\n",
    "\n",
    "## Group 5\n",
    "x = [9,7, 7,9]\n",
    "y = [1,1,3,3]\n",
    "p.line(x, y,  line_width=3, line_color='black')\n",
    "\n",
    "## Group 6\n",
    "x = [9,7, 7,9]\n",
    "y = [3,3,5,5]\n",
    "p.line(x, y,  line_width=3, line_color='black')\n",
    "\n",
    "# show the results\n",
    "show(p)\n",
    "\n"
   ]
  },
  {
   "cell_type": "code",
   "execution_count": null,
   "metadata": {},
   "outputs": [],
   "source": []
  }
 ],
 "metadata": {
  "interpreter": {
   "hash": "23f099b3e1e471a90f4512b0cd1d998dc7a1d88c7791f9fbff6d32bacabbefb0"
  },
  "kernelspec": {
   "display_name": "Python 3.8.8 ('base')",
   "language": "python",
   "name": "python3"
  },
  "language_info": {
   "codemirror_mode": {
    "name": "ipython",
    "version": 3
   },
   "file_extension": ".py",
   "mimetype": "text/x-python",
   "name": "python",
   "nbconvert_exporter": "python",
   "pygments_lexer": "ipython3",
   "version": "3.8.8"
  },
  "orig_nbformat": 4
 },
 "nbformat": 4,
 "nbformat_minor": 2
}
